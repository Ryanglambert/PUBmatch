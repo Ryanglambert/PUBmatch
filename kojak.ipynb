{
 "cells": [
  {
   "cell_type": "code",
   "execution_count": 1,
   "metadata": {
    "collapsed": false
   },
   "outputs": [],
   "source": [
    "import pdb\n",
    "import os\n",
    "import pickle\n",
    "from sklearn.feature_extraction.text import TfidfVectorizer, CountVectorizer\n",
    "from nltk import word_tokenize\n",
    "from nltk.corpus import stopwords\n",
    "from sklearn.metrics.pairwise import distance_metrics\n",
    "from sklearn.metrics.pairwise import pairwise_distances\n",
    "from scipy.sparse.linalg import svds as SVDS\n",
    "import pandas as pd\n",
    "import numpy as np\n",
    "\n",
    "STOP_WORDS = stopwords.words('english')\n"
   ]
  },
  {
   "cell_type": "code",
   "execution_count": 22,
   "metadata": {
    "collapsed": true
   },
   "outputs": [
    {
     "ename": "IOError",
     "evalue": "[Errno 2] No such file or directory: './pubmed_vectorizer.pkl'",
     "output_type": "error",
     "traceback": [
      "\u001b[0;31m---------------------------------------------------------------------------\u001b[0m",
      "\u001b[0;31mIOError\u001b[0m                                   Traceback (most recent call last)",
      "\u001b[0;32m<ipython-input-22-a028ce20951e>\u001b[0m in \u001b[0;36m<module>\u001b[0;34m()\u001b[0m\n\u001b[0;32m----> 1\u001b[0;31m \u001b[0;32mwith\u001b[0m \u001b[0mopen\u001b[0m\u001b[0;34m(\u001b[0m\u001b[0;34m'./pubmed_vectorizer.pkl'\u001b[0m\u001b[0;34m,\u001b[0m \u001b[0;34m'rb'\u001b[0m\u001b[0;34m)\u001b[0m \u001b[0;32mas\u001b[0m \u001b[0mf\u001b[0m\u001b[0;34m:\u001b[0m\u001b[0;34m\u001b[0m\u001b[0m\n\u001b[0m\u001b[1;32m      2\u001b[0m     \u001b[0mpubmed_vectorizer\u001b[0m \u001b[0;34m=\u001b[0m \u001b[0mpickle\u001b[0m\u001b[0;34m.\u001b[0m\u001b[0mload\u001b[0m\u001b[0;34m(\u001b[0m\u001b[0mf\u001b[0m\u001b[0;34m)\u001b[0m\u001b[0;34m\u001b[0m\u001b[0m\n\u001b[1;32m      3\u001b[0m \u001b[0;34m\u001b[0m\u001b[0m\n\u001b[1;32m      4\u001b[0m \u001b[0;32mwith\u001b[0m \u001b[0mopen\u001b[0m\u001b[0;34m(\u001b[0m\u001b[0;34m'./article_file_titles_list.pkl'\u001b[0m\u001b[0;34m,\u001b[0m \u001b[0;34m'rb'\u001b[0m\u001b[0;34m)\u001b[0m \u001b[0;32mas\u001b[0m \u001b[0mf\u001b[0m\u001b[0;34m:\u001b[0m\u001b[0;34m\u001b[0m\u001b[0m\n\u001b[1;32m      5\u001b[0m     \u001b[0mPUBMED_ARTICLE_TITLES\u001b[0m \u001b[0;34m=\u001b[0m \u001b[0mpickle\u001b[0m\u001b[0;34m.\u001b[0m\u001b[0mload\u001b[0m\u001b[0;34m(\u001b[0m\u001b[0mf\u001b[0m\u001b[0;34m)\u001b[0m\u001b[0;34m\u001b[0m\u001b[0m\n",
      "\u001b[0;31mIOError\u001b[0m: [Errno 2] No such file or directory: './pubmed_vectorizer.pkl'"
     ]
    }
   ],
   "source": [
    "with open('./pubmed_vectorizer.pkl', 'rb') as f:\n",
    "    pubmed_vectorizer = pickle.load(f)\n",
    "\n",
    "with open('./article_file_titles_list.pkl', 'rb') as f:\n",
    "    PUBMED_ARTICLE_TITLES = pickle.load(f)\n",
    "\n",
    "with open('./pubmed_tfidf.pkl', 'rb') as f:\n",
    "    pubmed_tfidf = pickle.load(f)\n",
    "pubmed_tfidf = pubmed_tfidf.T"
   ]
  },
  {
   "cell_type": "markdown",
   "metadata": {},
   "source": [
    "if you  need to load pickles"
   ]
  },
  {
   "cell_type": "code",
   "execution_count": null,
   "metadata": {
    "collapsed": true
   },
   "outputs": [],
   "source": [
    "# count_vectorizer = load_pickle('count_vectorizer.pkl')\n",
    "# pubmed_vecs = load_pickle('pubmed_vecs.pkl')\n",
    "# pubmed_lsi_corpus = load_pickle('pubmed_lsi_corpus.pkl')"
   ]
  },
  {
   "cell_type": "markdown",
   "metadata": {},
   "source": [
    "# Make TFIDF"
   ]
  },
  {
   "cell_type": "code",
   "execution_count": 4,
   "metadata": {
    "collapsed": false
   },
   "outputs": [
    {
     "name": "stdout",
     "output_type": "stream",
     "text": [
      "done with:  Arch_Dis_Child_2007_Apr_11_92(4)_298-303.txt\n",
      "progress:  0.5\n",
      "done with:  Arch_Dis_Child_2008_Aug_18_93(8)_654-659.txt\n",
      "progress:  0.5\n",
      "done with:  Arch_Dis_Child_2008_Jul_1_93(7)_566-569.txt\n",
      "progress:  0.5\n",
      "done with:  Arch_Dis_Child_2008_Jul_1_93(7)_620-625.txt\n",
      "progress:  0.5\n",
      "done with:  Arch_Dis_Child_2008_May_17_93(5)_373-378.txt\n",
      "progress:  0.5\n",
      "done with:  Arch_Dis_Child_2008_Oct_2_93(10)_845-850.txt\n",
      "progress:  0.5\n",
      "done with:  Arch_Dis_Child_2008_Oct_30_93(10)_890-898.txt\n",
      "progress:  0.5\n",
      "done with:  Arch_Dis_Child_2009_Feb_14_94(2)_110-116.txt\n",
      "progress:  0.5\n",
      "done with:  Arch_Dis_Child_2009_Feb_19_94(2)_156-160.txt\n",
      "progress:  0.5\n",
      "done with:  Arch_Dis_Child_2009_Jan_25_94(1)_11-15.txt\n",
      "progress:  0.5\n",
      "done with:  Arch_Dis_Child_2009_Jan_9_94(1)_42-46.txt\n",
      "progress:  0.5\n",
      "done with:  Arch_Dis_Child_2009_Nov_3_94(11)_831-833.txt\n",
      "progress:  0.5\n",
      "done with:  Arch_Dis_Child_2009_Oct_29_95(6)_414-421.txt\n",
      "progress:  0.5\n",
      "done with:  Arch_Dis_Child_2010_Aug_12_96(1)_30-37.txt\n",
      "progress:  0.5\n",
      "done with:  Arch_Dis_Child_2010_Jun_95(6)_432-436.txt\n",
      "progress:  0.5\n",
      "done with:  Arch_Dis_Child_2010_Sep_22_96(4)_328-329.txt\n",
      "progress:  0.5\n",
      "done with:  Arch_Dis_Child_2011_Dec_1_96(12)_1201-1203.txt\n",
      "progress:  0.5\n",
      "done with:  Arch_Dis_Child_2011_Feb_2_96(11)_1008-1013.txt\n",
      "progress:  0.5\n",
      "done with:  Arch_Dis_Child_2011_Jan_10_96(11)_1052-1059.txt\n",
      "progress:  0.5\n",
      "done with:  Arch_Dis_Child_2011_Jan_12_96(4)_368-373.txt\n",
      "progress:  0.5\n",
      "done with:  Arch_Dis_Child_2011_Jan_24_96(4)_354-360.txt\n",
      "progress:  0.5\n",
      "done with:  Arch_Dis_Child_2011_Jan_24_96(4)_361-367.txt\n",
      "progress:  0.5\n",
      "done with:  Arch_Dis_Child_2011_Jan_30_96(5)_422-425.txt\n",
      "progress:  0.5\n",
      "done with:  Arch_Dis_Child_2011_Jul_19_96(10)_960-962.txt\n",
      "progress:  0.5\n",
      "done with:  Arch_Dis_Child_2011_Jul_23_96(9)_874-880.txt\n",
      "progress:  0.5\n",
      "done with:  Arch_Dis_Child_2011_Jun_14_96(9)_817-822.txt\n",
      "progress:  0.5\n",
      "done with:  Arch_Dis_Child_2011_Jun_17_97(2)_162-165.txt\n",
      "progress:  0.5\n",
      "done with:  Arch_Dis_Child_2011_Jun_96(6)_e1.txt\n",
      "progress:  0.5\n",
      "done with:  Arch_Dis_Child_2011_Mar_30_96(6)_541-547.txt\n",
      "progress:  0.5\n",
      "done with:  Arch_Dis_Child_2011_Mar_3_96(6)_519-525.txt\n",
      "progress:  0.5\n",
      "done with:  Arch_Dis_Child_2011_Mar_9_97(1)_59-62.txt\n",
      "progress:  0.5\n",
      "done with:  Arch_Dis_Child_2011_Sep_1_96(9)_872-873.txt\n",
      "progress:  0.5\n",
      "done with:  Arch_Dis_Child_2012_Aug_13_97(8)_685-691.txt\n",
      "progress:  0.5\n",
      "done with:  Arch_Dis_Child_2012_Dec_29_97(12)_1011-1012.txt\n",
      "progress:  0.5\n",
      "done with:  Arch_Dis_Child_2012_Dec_29_97(12)_1019-1026.txt\n",
      "progress:  0.5\n",
      "done with:  Arch_Dis_Child_2012_Feb_10_97(4)_343-349.txt\n",
      "progress:  0.5\n",
      "done with:  Arch_Dis_Child_2012_Mar_14_97(6)_529-532.txt\n",
      "progress:  0.5\n",
      "done with:  Arch_Dis_Child_2012_Mar_7_97(3)_260-265.txt\n",
      "progress:  0.5\n",
      "done with:  Arch_Dis_Child_2012_Nov_15_97(11)_993-998.txt\n",
      "progress:  0.5\n",
      "done with:  Arch_Dis_Child_2013_Apr_16_98(4)_274-279.txt\n",
      "progress:  0.5\n",
      "done with:  Arch_Dis_Child_2013_Aug_12_98(8)_629-634.txt\n",
      "progress:  0.5\n",
      "done with:  Arch_Dis_Child_2013_Aug_23_98(8)_587-591.txt\n",
      "progress:  0.5\n",
      "done with:  Arch_Dis_Child_2013_Aug_7_98(8)_574-575.txt\n",
      "progress:  0.5\n",
      "done with:  Arch_Dis_Child_2013_Dec_22_98(12)_970-974.txt\n",
      "progress:  0.5\n",
      "done with:  Arch_Dis_Child_2013_Feb_98(2)_107-111.txt\n",
      "progress:  0.5\n",
      "done with:  Arch_Dis_Child_2013_Jul_9_98(7)_556-557.txt\n",
      "progress:  0.5\n",
      "done with:  Arch_Dis_Child_2013_Jun_20_98(6)_434-440.txt\n",
      "progress:  0.5\n",
      "done with:  Arch_Dis_Child_2013_Jun_26_98(6)_454-461.txt\n",
      "progress:  0.5\n",
      "done with:  Arch_Dis_Child_2013_Jun_9_98(6)_429-433.txt\n",
      "progress:  0.5\n",
      "done with:  Arch_Dis_Child_2013_Mar_21_98(3)_218-221.txt\n",
      "progress:  0.5\n",
      "done with:  Arch_Dis_Child_2013_May_25_98(5)_341-348.txt\n",
      "progress:  0.5\n",
      "done with:  Arch_Dis_Child_2013_May_7_98(5)_356-362.txt\n",
      "progress:  0.5\n",
      "done with:  Arch_Dis_Child_2013_Nov_22_99(3)_301.txt\n",
      "progress:  0.5\n",
      "done with:  Arch_Dis_Child_2013_Nov_30_98(11)_908-914.txt\n",
      "progress:  0.5\n",
      "done with:  Arch_Dis_Child_2013_Oct_30_98(10)_777-780.txt\n",
      "progress:  0.5\n",
      "done with:  Arch_Dis_Child_2013_Sep_13_98(9)_720.txt\n",
      "progress:  0.5\n",
      "done with:  Arch_Dis_Child_2013_Sep_13_98(9)_725-731.txt\n",
      "progress:  0.5\n",
      "done with:  Arch_Dis_Child_2013_Sep_25_98(9)_666-671.txt\n",
      "progress:  0.5\n",
      "done with:  Arch_Dis_Child_2013_Sep_98(9)_656-659.txt\n",
      "progress:  0.5\n",
      "done with:  Arch_Dis_Child_2014_Apr_18_99(4)_342-347.txt\n",
      "progress:  0.5\n",
      "done with:  Arch_Dis_Child_2014_Aug_2_99(8)_763-766.txt\n",
      "progress:  0.5\n",
      "done with:  Arch_Dis_Child_2014_Dec_27_99(12)_1163-1168.txt\n",
      "progress:  0.5\n",
      "done with:  Arch_Dis_Child_2014_Dec_3_99(12)_1074-1077.txt\n",
      "progress:  0.5\n",
      "done with:  Arch_Dis_Child_2014_Dec_4_99(12)_1070-1073.txt\n",
      "progress:  0.5\n",
      "done with:  Arch_Dis_Child_2014_Dec_8_99(12)_1103-1108.txt\n",
      "progress:  0.5\n",
      "done with:  Arch_Dis_Child_2014_Dec_8_99(12)_1143-1146.txt\n",
      "progress:  0.5\n",
      "done with:  Arch_Dis_Child_2014_Feb_16_99(2)_108-113.txt\n",
      "progress:  0.5\n",
      "done with:  Arch_Dis_Child_2014_Feb_23_99(2)_114-118.txt\n",
      "progress:  0.5\n",
      "done with:  Arch_Dis_Child_2014_Feb_23_99(2)_142-146.txt\n",
      "progress:  0.5\n",
      "done with:  Arch_Dis_Child_2014_Jan_13_99(1)_10-14.txt\n",
      "progress:  0.5\n",
      "done with:  Arch_Dis_Child_2014_Jan_16_99(1)_30-34.txt\n",
      "progress:  0.5\n",
      "done with:  Arch_Dis_Child_2014_Jan_25_99(1)_74-83.txt\n",
      "progress:  0.5\n",
      "done with:  Arch_Dis_Child_2014_Jul_15_99(7)_607-608.txt\n",
      "progress:  0.5\n",
      "done with:  Arch_Dis_Child_2014_Jul_17_99(7)_674-678.txt\n",
      "progress:  0.5\n",
      "done with:  Arch_Dis_Child_2014_Jul_19_99(7)_605-606.txt\n",
      "progress:  0.5\n",
      "done with:  Arch_Dis_Child_2014_Jul_4_99(7)_635-640.txt\n",
      "progress:  0.5\n",
      "done with:  Arch_Dis_Child_2014_Jun_14_99(6)_516-521.txt\n",
      "progress:  0.5\n",
      "done with:  Arch_Dis_Child_2014_Jun_9_99(6)_546-551.txt\n",
      "progress:  0.5\n",
      "done with:  Arch_Dis_Child_2014_Mar_11_99(3)_225-231.txt\n",
      "progress:  0.5\n",
      "done with:  Arch_Dis_Child_2014_May_16_99(5)_448-451.txt\n",
      "progress:  0.5\n",
      "done with:  Arch_Dis_Child_2014_May_30_99(5)_452-456.txt\n",
      "progress:  0.5\n",
      "done with:  Arch_Dis_Child_2014_May_9_99(5)_413-419.txt\n",
      "progress:  0.5\n",
      "done with:  Arch_Dis_Child_2014_Nov_11_99(11)_993-997.txt\n",
      "progress:  0.5\n",
      "done with:  Arch_Dis_Child_2014_Nov_19_99(11)_1014-1019.txt\n",
      "progress:  0.5\n",
      "done with:  Arch_Dis_Child_2014_Nov_19_99(11)_1020-1024.txt\n",
      "progress:  0.5\n",
      "done with:  Arch_Dis_Child_2014_Nov_8_99(11)_969-970.txt\n",
      "progress:  0.5\n",
      "done with:  Arch_Dis_Child_2014_Oct_9_99(10)_933-936.txt\n",
      "progress:  0.5\n",
      "done with:  Arch_Dis_Child_2014_Sep_19_99(9)_807-811.txt\n",
      "progress:  0.5\n",
      "done with:  Arch_Dis_Child_2014_Sep_1_99(9)_830-833.txt\n",
      "progress:  0.5\n",
      "done with:  Arch_Dis_Child_2014_Sep_20_99(9)_812-816.txt\n",
      "progress:  0.5\n",
      "done with:  Arch_Dis_Child_2014_Sep_25_99(9)_850-856.txt\n",
      "progress:  0.5\n",
      "done with:  Arch_Dis_Child_2015_Aug_17_100(8)_733-737.txt\n",
      "progress:  0.5\n",
      "done with:  Arch_Dis_Child_2015_Aug_25_100(8)_774-778.txt\n",
      "progress:  0.5\n",
      "done with:  Arch_Dis_Child_2015_Aug_4_100(8)_769-773.txt\n",
      "progress:  0.5\n",
      "done with:  Arch_Dis_Child_2015_Dec_25_100(12)_1106-1114.txt\n",
      "progress:  0.5\n",
      "done with:  Arch_Dis_Child_2015_Dec_30_100(12)_1123-1130.txt\n",
      "progress:  0.5\n",
      "done with:  Arch_Dis_Child_2015_Dec_9_100(12)_1141-1147.txt\n",
      "progress:  0.5\n",
      "done with:  Arch_Dis_Child_2015_Feb_100(Suppl_1)_S43-S47.txt\n",
      "progress:  0.5\n",
      "done with:  Arch_Dis_Child_2015_Feb_100(Suppl_1)_S57-S58.txt\n",
      "progress:  0.5\n",
      "done with:  Arch_Dis_Child_2015_Feb_100(Suppl_1)_S70-S71.txt\n",
      "progress:  0.5\n",
      "done with:  Arch_Dis_Child_2015_Feb_19_100(2)_138-143.txt\n",
      "progress:  0.5\n",
      "done with:  Arch_Dis_Child_2015_Feb_22_100(2)_165-173.txt\n",
      "progress:  0.5\n",
      "done with:  Arch_Dis_Child_2015_Jan_100(1)_73-74.txt\n",
      "progress:  0.5\n",
      "done with:  Arch_Dis_Child_2015_Jan_19_100(1)_42-47.txt\n",
      "progress:  0.5\n",
      "done with:  Arch_Dis_Child_2015_Jan_19_100(1)_48-53.txt\n",
      "progress:  0.5\n",
      "done with:  Arch_Dis_Child_2015_Jan_25_100(1)_18-23.txt\n",
      "progress:  0.5\n",
      "done with:  Arch_Dis_Child_2015_Jan_27_100(1)_38-41.txt\n",
      "progress:  0.5\n",
      "done with:  Arch_Dis_Child_2015_Jan_29_100(1)_24-29.txt\n",
      "progress:  0.5\n",
      "done with:  Arch_Dis_Child_2015_Jan_3_100(1)_95-100.txt\n",
      "progress:  0.5\n",
      "done with:  Arch_Dis_Child_2015_Jan_8_100(1)_62-67.txt\n",
      "progress:  0.5\n",
      "done with:  Arch_Dis_Child_2015_Jul_15_100(7)_608-609.txt\n",
      "progress:  0.5\n",
      "done with:  Arch_Dis_Child_2015_Jul_20_100(7)_689-693.txt\n",
      "progress:  0.5\n",
      "done with:  Arch_Dis_Child_2015_Jun_16_100(6)_517-520.txt\n",
      "progress:  0.5\n",
      "done with:  Arch_Dis_Child_2015_Jun_16_100(6)_559-564.txt\n",
      "progress:  0.5\n",
      "done with:  Arch_Dis_Child_2015_Jun_2_100(6)_576-582.txt\n",
      "progress:  0.5\n",
      "done with:  Arch_Dis_Child_2015_Jun_30_100(6)_521-526.txt\n",
      "progress:  0.5\n",
      "done with:  Arch_Dis_Child_2015_Jun_30_100(6)_527-531.txt\n",
      "progress:  0.5\n",
      "done with:  Arch_Dis_Child_2015_Mar_29_100(3)_214-219.txt\n",
      "progress:  0.5\n",
      "done with:  Arch_Dis_Child_2015_May_10_100(5)_454-459.txt\n",
      "progress:  0.5\n",
      "done with:  Arch_Dis_Child_2015_May_14_100(5)_426-431.txt\n",
      "progress:  0.5\n",
      "done with:  Arch_Dis_Child_2015_May_14_100(5)_432-437.txt\n",
      "progress:  0.5\n",
      "done with:  Arch_Dis_Child_2015_May_14_100(5)_495-499.txt\n",
      "progress:  0.5\n",
      "done with:  Arch_Dis_Child_2015_May_20_100(5)_441-448.txt\n",
      "progress:  0.5\n",
      "done with:  Arch_Dis_Child_2015_May_22_100(5)_466-473.txt\n",
      "progress:  0.5\n",
      "done with:  Arch_Dis_Child_2015_May_30_100(5)_482-488.txt\n",
      "progress:  0.5\n",
      "done with:  Arch_Dis_Child_2015_May_4_100(5)_438-440.txt\n",
      "progress:  0.5\n",
      "done with:  Arch_Dis_Child_2015_Nov_21_100(11)_1032-1037.txt\n",
      "progress:  0.5\n",
      "done with:  Arch_Dis_Child_2015_Nov_9_101(1)_23-27.txt\n",
      "progress:  0.5\n",
      "done with:  Arch_Dis_Child_2015_Oct_13_100(10)_928-931.txt\n",
      "progress:  0.5\n",
      "done with:  Arch_Dis_Child_2015_Sep_10_100(9)_879-885.txt\n",
      "progress:  0.5\n",
      "done with:  Arch_Dis_Child_2015_Sep_19_100(9)_826-833.txt\n",
      "progress:  0.5\n",
      "done with:  Arch_Dis_Child_2015_Sep_19_100(9)_838-844.txt\n",
      "progress:  0.5\n",
      "done with:  Arch_Dis_Child_2016_Feb_13_101(2)_147-151.txt\n",
      "progress:  0.5\n",
      "done with:  Arch_Dis_Child_2016_Feb_29_101(2)_152-160.txt\n",
      "progress:  0.5\n",
      "done with:  Arch_Dis_Child_2016_Jan_101(1)_91-95.txt\n",
      "progress:  0.5\n",
      "done with:  Arch_Dis_Child_2016_Jan_15_101(1)_42-50.txt\n",
      "progress:  0.5\n",
      "done with:  Arch_Dis_Child_2016_Jan_26_101(1)_9-15.txt\n",
      "progress:  0.5\n",
      "done with:  Arch_Dis_Child_2016_Jan_30_101(1)_16-22.txt\n",
      "progress:  0.5\n"
     ]
    }
   ],
   "source": [
    "import pdb \n",
    "import os\n",
    "import pickle\n",
    "from sklearn.feature_extraction.text import TfidfVectorizer, CountVectorizer\n",
    "from gensim import corpora, models, similarities, matutils, interfaces\n",
    "\n",
    "\n",
    "DATA_PATH = ('./pmc_data/pmc_text_files/')\n",
    "GENRE_FOLDERS = os.listdir(DATA_PATH)\n",
    "ARTICLE_FILE_PATHS = []\n",
    "ARTICLE_FILE_TITLES = []\n",
    "ARTICLE_DOCUMENT_LIST = []\n",
    "\n",
    "\n",
    "\n",
    "def load_articles():\n",
    "    genre_folders_left = len(GENRE_FOLDERS)\n",
    "    completed_genre_folders = 0 \n",
    "    for genre_folder in GENRE_FOLDERS:\n",
    "        completed_genre_folders += 1\n",
    "        genre_folder_path = os.path.join(DATA_PATH, genre_folder)\n",
    "        genre_file_list = os.listdir(genre_folder_path)\n",
    "        for article_file_title in genre_file_list:\n",
    "            article_file_path = os.path.join(genre_folder_path, article_file_title)\n",
    "            if os.path.isfile(article_file_path):\n",
    "                ARTICLE_FILE_TITLES.append(article_file_title)\n",
    "                ARTICLE_FILE_PATHS.append(article_file_path)\n",
    "                with open(article_file_path, 'rb') as f:\n",
    "                    document = f.read()\n",
    "                    ARTICLE_DOCUMENT_LIST.append(document)\n",
    "\n",
    "                print \"done with: \", article_file_title\n",
    "                print \"progress: \", completed_genre_folders / float(genre_folders_left)\n",
    "            else:\n",
    "                sub_article_folder_list = os.listdir(article_file_path)\n",
    "                for sub_article_file_title in sub_article_folder_list:\n",
    "                    sub_article_file_path = os.path.join(article_file_path, \n",
    "                            sub_article_file_title)\n",
    "                    ARTICLE_FILE_TITLES.append(sub_article_file_title)\n",
    "                    ARTICLE_FILE_PATHS.append(sub_article_file_path)\n",
    "                    with open(sub_article_file_path, 'rb') as f:\n",
    "                        document = f.read()\n",
    "                        ARTICLE_DOCUMENT_LIST.append(document)\n",
    "                        \n",
    "load_articles()"
   ]
  },
  {
   "cell_type": "markdown",
   "metadata": {},
   "source": [
    "## Make corpus!"
   ]
  },
  {
   "cell_type": "markdown",
   "metadata": {},
   "source": [
    "##### CountVectorize"
   ]
  },
  {
   "cell_type": "code",
   "execution_count": 25,
   "metadata": {
    "collapsed": false
   },
   "outputs": [],
   "source": [
    "# count_vectorizer = CountVectorizer(stop_words='english')\n",
    "# count_vectorizer.fit(ARTICLE_DOCUMENT_LIST)\n",
    "# pubmed_vecs = count_vectorizer.transform(ARTICLE_DOCUMENT_LIST).transpose()\n"
   ]
  },
  {
   "cell_type": "code",
   "execution_count": null,
   "metadata": {
    "collapsed": true
   },
   "outputs": [],
   "source": []
  },
  {
   "cell_type": "code",
   "execution_count": null,
   "metadata": {
    "collapsed": true
   },
   "outputs": [],
   "source": [
    "id2word = dict((v, k) for k, v in count_vectorizer.vocabulary_.iteritems())\n",
    "pubmed_corpus = matutils.Sparse2Corpus(pubmed_vecs)"
   ]
  },
  {
   "cell_type": "markdown",
   "metadata": {},
   "source": [
    "##### TFIDF"
   ]
  },
  {
   "cell_type": "code",
   "execution_count": 26,
   "metadata": {
    "collapsed": true
   },
   "outputs": [],
   "source": [
    "pubmed_tfidf = models.TfidfModel(pubmed_corpus)"
   ]
  },
  {
   "cell_type": "code",
   "execution_count": 27,
   "metadata": {
    "collapsed": true
   },
   "outputs": [],
   "source": [
    "pubmed_tfidf_corpus = pubmed_tfidf[pubmed_corpus]"
   ]
  },
  {
   "cell_type": "markdown",
   "metadata": {},
   "source": [
    "##### SVD"
   ]
  },
  {
   "cell_type": "code",
   "execution_count": 28,
   "metadata": {
    "collapsed": false
   },
   "outputs": [],
   "source": [
    "lsi = models.LsiModel(pubmed_corpus, id2word=id2word, num_topics=25)"
   ]
  },
  {
   "cell_type": "code",
   "execution_count": 29,
   "metadata": {
    "collapsed": false
   },
   "outputs": [],
   "source": [
    "pubmed_lsi_corpus = lsi[pubmed_tfidf_corpus]"
   ]
  },
  {
   "cell_type": "markdown",
   "metadata": {},
   "source": [
    "Which ones have `.save` methods"
   ]
  },
  {
   "cell_type": "code",
   "execution_count": 30,
   "metadata": {
    "collapsed": false
   },
   "outputs": [
    {
     "ename": "AttributeError",
     "evalue": "'CountVectorizer' object has no attribute 'sav'",
     "output_type": "error",
     "traceback": [
      "\u001b[0;31m---------------------------------------------------------------------------\u001b[0m",
      "\u001b[0;31mAttributeError\u001b[0m                            Traceback (most recent call last)",
      "\u001b[0;32m<ipython-input-30-b1669bd1a2e5>\u001b[0m in \u001b[0;36m<module>\u001b[0;34m()\u001b[0m\n\u001b[0;32m----> 1\u001b[0;31m \u001b[0mcount_vectorizer\u001b[0m\u001b[0;34m.\u001b[0m\u001b[0msav\u001b[0m\u001b[0;34m\u001b[0m\u001b[0m\n\u001b[0m\u001b[1;32m      2\u001b[0m \u001b[0;31m# pubmed_vecs\u001b[0m\u001b[0;34m\u001b[0m\u001b[0;34m\u001b[0m\u001b[0m\n\u001b[1;32m      3\u001b[0m \u001b[0;31m# pubmed_corpus\u001b[0m\u001b[0;34m\u001b[0m\u001b[0;34m\u001b[0m\u001b[0m\n\u001b[1;32m      4\u001b[0m \u001b[0;31m# pubmed_tfidf_corpus\u001b[0m\u001b[0;34m\u001b[0m\u001b[0;34m\u001b[0m\u001b[0m\n\u001b[1;32m      5\u001b[0m \u001b[0;31m# lsi\u001b[0m\u001b[0;34m\u001b[0m\u001b[0;34m\u001b[0m\u001b[0m\n",
      "\u001b[0;31mAttributeError\u001b[0m: 'CountVectorizer' object has no attribute 'sav'"
     ]
    }
   ],
   "source": [
    "# pubmed_corpus.save\n",
    "# pubmed_tfidf_corpus.save\n",
    "# lsi.save\n",
    "# pubmed_lsi_corpus.save"
   ]
  },
  {
   "cell_type": "markdown",
   "metadata": {},
   "source": [
    "##### Concept similarity between 1st and the rest of documents"
   ]
  },
  {
   "cell_type": "code",
   "execution_count": 7,
   "metadata": {
    "collapsed": true
   },
   "outputs": [
    {
     "data": {
      "text/plain": [
       "[(0, 1.0),\n",
       " (3, 0.68401217),\n",
       " (91, 0.54140764),\n",
       " (6, 0.49282286),\n",
       " (69, 0.49231014),\n",
       " (100, 0.46222082),\n",
       " (132, 0.44177955),\n",
       " (70, 0.42240763),\n",
       " (104, 0.41264719),\n",
       " (60, 0.39334083),\n",
       " (108, 0.38543543),\n",
       " (39, 0.38287643),\n",
       " (107, 0.37517354),\n",
       " (2, 0.35641479),\n",
       " (4, 0.35301393),\n",
       " (19, 0.35044608),\n",
       " (111, 0.33500758),\n",
       " (16, 0.33337039),\n",
       " (51, 0.33177891),\n",
       " (84, 0.32585904),\n",
       " (117, 0.30051011),\n",
       " (53, 0.29050332),\n",
       " (90, 0.26644206),\n",
       " (65, 0.25168028),\n",
       " (110, 0.24598333),\n",
       " (130, 0.24549709),\n",
       " (125, 0.2340491),\n",
       " (62, 0.23323879),\n",
       " (88, 0.22533779),\n",
       " (113, 0.22299711),\n",
       " (92, 0.2027103),\n",
       " (11, 0.20220001),\n",
       " (21, 0.18942399),\n",
       " (34, 0.18222679),\n",
       " (105, 0.1800033),\n",
       " (63, 0.15380761),\n",
       " (97, 0.13903588),\n",
       " (122, 0.12866879),\n",
       " (17, 0.125273),\n",
       " (31, 0.12374873),\n",
       " (78, 0.11779362),\n",
       " (25, 0.11410177),\n",
       " (96, 0.1114743),\n",
       " (131, 0.11126879),\n",
       " (121, 0.10021187),\n",
       " (80, 0.10004397),\n",
       " (129, 0.093253285),\n",
       " (18, 0.092191935),\n",
       " (23, 0.09029454),\n",
       " (74, 0.089614481),\n",
       " (101, 0.084233455),\n",
       " (35, 0.079859219),\n",
       " (114, 0.07851325),\n",
       " (20, 0.07661666),\n",
       " (42, 0.073319048),\n",
       " (29, 0.071696371),\n",
       " (123, 0.067159511),\n",
       " (128, 0.065842278),\n",
       " (115, 0.062897228),\n",
       " (26, 0.056936093),\n",
       " (102, 0.05550079),\n",
       " (61, 0.051719069),\n",
       " (55, 0.044977404),\n",
       " (137, 0.03767265),\n",
       " (76, 0.024233375),\n",
       " (15, 0.023283564),\n",
       " (73, 0.02175444),\n",
       " (112, 0.020317653),\n",
       " (59, 0.01843743),\n",
       " (124, 0.0178039),\n",
       " (86, 0.016772231),\n",
       " (94, 0.013220478),\n",
       " (46, 0.011905041),\n",
       " (99, 0.0054392857),\n",
       " (67, 0.0040047299),\n",
       " (45, 0.0010928386),\n",
       " (98, 0.00094571523),\n",
       " (133, -0.00859382),\n",
       " (79, -0.0091148335),\n",
       " (64, -0.0094349775),\n",
       " (81, -0.014235254),\n",
       " (24, -0.016206739),\n",
       " (1, -0.020903304),\n",
       " (13, -0.025938299),\n",
       " (32, -0.028143007),\n",
       " (109, -0.031612951),\n",
       " (103, -0.032444783),\n",
       " (68, -0.038194101),\n",
       " (27, -0.042399433),\n",
       " (126, -0.043069907),\n",
       " (89, -0.044243567),\n",
       " (54, -0.045229543),\n",
       " (135, -0.046684049),\n",
       " (93, -0.048299253),\n",
       " (14, -0.049331978),\n",
       " (38, -0.049615193),\n",
       " (85, -0.056360621),\n",
       " (82, -0.058501456),\n",
       " (71, -0.064856663),\n",
       " (33, -0.065749191),\n",
       " (87, -0.067308806),\n",
       " (116, -0.067804098),\n",
       " (134, -0.067965239),\n",
       " (37, -0.068598315),\n",
       " (72, -0.076814227),\n",
       " (120, -0.082210392),\n",
       " (10, -0.09088441),\n",
       " (75, -0.091886774),\n",
       " (12, -0.095136359),\n",
       " (8, -0.098234743),\n",
       " (41, -0.10593861),\n",
       " (127, -0.1089863),\n",
       " (49, -0.11115988),\n",
       " (119, -0.11274005),\n",
       " (66, -0.11457704),\n",
       " (48, -0.11847476),\n",
       " (44, -0.12283158),\n",
       " (50, -0.12294526),\n",
       " (95, -0.12540253),\n",
       " (52, -0.13340454),\n",
       " (40, -0.1346916),\n",
       " (30, -0.14092842),\n",
       " (28, -0.14260174),\n",
       " (77, -0.14337929),\n",
       " (83, -0.14346147),\n",
       " (9, -0.1440876),\n",
       " (7, -0.15496004),\n",
       " (22, -0.15804867),\n",
       " (47, -0.16854048),\n",
       " (106, -0.17699382),\n",
       " (58, -0.17704877),\n",
       " (43, -0.17872494),\n",
       " (56, -0.18025878),\n",
       " (138, -0.18304765),\n",
       " (5, -0.19692001),\n",
       " (36, -0.21287055),\n",
       " (57, -0.2380053),\n",
       " (136, -0.23909521),\n",
       " (118, -0.30775529)]"
      ]
     },
     "execution_count": 7,
     "metadata": {},
     "output_type": "execute_result"
    }
   ],
   "source": [
    "pubmed_doc_vecs = [doc for doc in pubmed_lsi_corpus]\n",
    "index = similarities.MatrixSimilarity(pubmed_doc_vecs)\n",
    "sims = sorted(enumerate(index[pubmed_doc_vecs[0]]), key=lambda item: -item[1])\n",
    "sims"
   ]
  },
  {
   "cell_type": "markdown",
   "metadata": {},
   "source": [
    "## Fold in a new document"
   ]
  },
  {
   "cell_type": "markdown",
   "metadata": {},
   "source": [
    "##### Count vectorize the document"
   ]
  },
  {
   "cell_type": "code",
   "execution_count": 34,
   "metadata": {
    "collapsed": false
   },
   "outputs": [],
   "source": [
    "article = [\"If a patient is ill and takes drugs for that illness, these drugs often lead to further illnesses and complications. This affects millions of people throughout the world. An international research team from Bielefeld University, universities in Novosibirsk (Russia) and Tomsk (Russia), and from the National Academy of Sciences of Ukraine in Kiev are studying how to prevent this problem. Starting in May, the Volkswagen Foundation will be funding this cooperation with about 235,000 Euro for the next two years. The project will be coordinated at Bielefeld University by Professor Dr. Ralf from the Faculty of Technology.\"]\n",
    "# article = sent_tokenize(article)\n",
    "# count_vectorizer.fit(article)\n",
    "article_vecs = count_vectorizer.transform(article).transpose()\n",
    "article_vecs_sparse = matutils.Sparse2Corpus(article_vecs)\n",
    "# article_vecs.shape"
   ]
  },
  {
   "cell_type": "code",
   "execution_count": 35,
   "metadata": {
    "collapsed": true
   },
   "outputs": [
    {
     "data": {
      "text/plain": [
       "(34714, 1)"
      ]
     },
     "execution_count": 35,
     "metadata": {},
     "output_type": "execute_result"
    }
   ],
   "source": [
    "article_vecs.shape"
   ]
  },
  {
   "cell_type": "markdown",
   "metadata": {},
   "source": [
    "##### TFIDF"
   ]
  },
  {
   "cell_type": "code",
   "execution_count": 36,
   "metadata": {
    "collapsed": true
   },
   "outputs": [],
   "source": [
    "article_tfidf = pubmed_tfidf[article_vecs_sparse]"
   ]
  },
  {
   "cell_type": "code",
   "execution_count": null,
   "metadata": {
    "collapsed": false
   },
   "outputs": [],
   "source": []
  },
  {
   "cell_type": "markdown",
   "metadata": {},
   "source": [
    "##### SVD"
   ]
  },
  {
   "cell_type": "markdown",
   "metadata": {},
   "source": [
    "how's this shape compare to our pubmed_lsi_corpus space? "
   ]
  },
  {
   "cell_type": "code",
   "execution_count": 42,
   "metadata": {
    "collapsed": false
   },
   "outputs": [],
   "source": [
    "article_lsi = lsi[article_tfidf]"
   ]
  },
  {
   "cell_type": "code",
   "execution_count": 43,
   "metadata": {
    "collapsed": false
   },
   "outputs": [],
   "source": [
    "article_doc_vecs = [doc for doc in article_lsi]"
   ]
  },
  {
   "cell_type": "markdown",
   "metadata": {},
   "source": [
    "##### Concept Similarity Between Documents"
   ]
  },
  {
   "cell_type": "code",
   "execution_count": null,
   "metadata": {
    "collapsed": true
   },
   "outputs": [],
   "source": [
    "index = similarities.MatrixSimilarity(pubmed_doc_vecs)\n",
    "sims = sorted(enumerate(index[pubmed_doc_vecs[0]]), key=lambda item: -item[1])\n",
    "sims"
   ]
  },
  {
   "cell_type": "code",
   "execution_count": null,
   "metadata": {
    "collapsed": false
   },
   "outputs": [],
   "source": []
  },
  {
   "cell_type": "code",
   "execution_count": null,
   "metadata": {
    "collapsed": true
   },
   "outputs": [],
   "source": []
  },
  {
   "cell_type": "code",
   "execution_count": null,
   "metadata": {
    "collapsed": true
   },
   "outputs": [],
   "source": []
  },
  {
   "cell_type": "code",
   "execution_count": null,
   "metadata": {
    "collapsed": true
   },
   "outputs": [],
   "source": []
  },
  {
   "cell_type": "code",
   "execution_count": null,
   "metadata": {
    "collapsed": true
   },
   "outputs": [],
   "source": []
  },
  {
   "cell_type": "code",
   "execution_count": 3,
   "metadata": {
    "collapsed": true
   },
   "outputs": [
    {
     "data": {
      "text/plain": [
       "\"\\n==== Front\\nArch Dis ChildArch. Dis. ChildarchdischildadcArchives of Disease in Childhood0003-98881468-2044BMJ Publishing Group BMA House, Tavistock Square, London, WC1H 9JR 26342094archdischild-2015-30872310.1136/archdischild-2015-3087231506Original ArticleAdmission to hospital for bronchiolitis in England: trends over five decades, geographical variation and association with perinatal characteristics and subsequent asthma Green Christopher A 1Yeates David 2Goldacre Allie 2Sande Charles 1Parslow Roger C 3McShane Philip 3Pollard Andrew J 1Goldacre Michael J 21 Department of Paediatrics, University of Oxford, and the NIHR Oxford Biomedical Research Centre, UK2 Unit of Health-Care Epidemiology, Nuffield Department of Population Health, University of Oxford, Oxford, UK3 Division of Epidemiology and Biostatistics, University of Leeds, Leeds, UKCorrespondence to  Dr Christopher A Green, Oxford Vaccine Group, Centre for Clinical Vaccinology & Tropical Medicine, Churchill Hospital, Oxford OX3 7LE, UK; christopher.green@paediatrics.ox.ac.uk2 2016 4 9 2015 101 2 140 146 3 4 2015 28 7 2015 Published by the BMJ Publishing Group Limited. For permission to use (where not already granted under a licence) please go to http://www.bmj.com/company/products-services/rights-and-licensing/2016This is an Open Access article distributed in accordance with the terms of the Creative Commons Attribution (CC BY 4.0) license, which permits others to distribute, remix, adapt and build upon this work, for commercial use, provided the original work is properly cited. See: http://creativecommons.org/licenses/by/4.0/Background\\nAdmission of infants to hospital with bronchiolitis consumes considerable healthcare resources each winter. We report an analysis of hospital admissions in England over five decades.\\n\\nMethods\\nData were analysed from the Hospital In-Patient Enquiry (HIPE, 1968\\xe2\\x80\\x931985), Hospital Episode Statistics (HES, 1989\\xe2\\x80\\x932011), Oxford Record Linkage Study (ORLS, 1963\\xe2\\x80\\x932011) and Paediatric Intensive Care Audit Network (PICANet, 2003\\xe2\\x80\\x932012). Cases were identified using International Classification of Diseases (ICD) codes in discharge records. Bronchiolitis was given a separate code in ICD9 (used in England from 1979). Geographical variation was analysed using Local Authority area boundaries. Maternal and perinatal risk factors associated with bronchiolitis and subsequent admissions for asthma were analysed using record-linkage.\\n\\nResults\\nAll-England HIPE and HES data recorded 468\\xe2\\x80\\x85138 episodes of admission for bronchiolitis in infants aged <1\\xe2\\x80\\x85year between 1979 and 2011. In 2011 the estimated annual hospital admission rate was 46.1 (95% CI 45.6 to 46.6) per 1000 infants aged <1\\xe2\\x80\\x85year. Between 2004 and 2011 the rates rose by an average of 1.8% per year in the all-England HES data, whereas admission rates to paediatric intensive care changed little (1.3 to 1.6 per 1000 infants aged <1\\xe2\\x80\\x85year). A fivefold geographical variation in hospital admission rates was observed. Young maternal age, low social class, low birth weight and maternal smoking were among factors associated with an increased risk of hospital admission with bronchiolitis.\\n\\nConclusions\\nHospital admissions for infants with bronchiolitis have increased substantially in recent years. However, cases requiring intensive care have changed little since 2004.\\n\\nEpidemiologyGeneral PaediatricsInfectious DiseasesIntensive CareRespiratoryspecial-featureunlocked\\n==== Body\\nWhat is already known\\nBronchiolitis admissions are a great burden to paediatric hospital resources each winter in industrialised healthcare systems.\\n\\nHospitalisation rates for bronchiolitis rose significantly in the USA and Canada in the 1990s.\\n\\nWhat this study adds\\nThe annual average episode-based admission rate for bronchiolitis rose sevenfold between 1979 and 2011.\\n\\nSince 2004, the estimated all-England annual average hospital admission rate rose by an average of 1.8% each year.\\n\\nBronchiolitis admission rates to paediatric intensive care did not change, implying that increasing hospital admission rates have not been driven by any change in disease severity.\\n\\nRecord-linkage shows that maternal and perinatal factors are important risk factors for developing severe bronchiolitis and the need for hospitalisation in infancy.\\n\\nIntroduction\\nCare of infants with bronchiolitis places a substantial burden on paediatric hospital resources each winter. Infants aged <1\\xe2\\x80\\x85year with bronchiolitis account for 18% of all paediatric admissions.1 Infection by respiratory syncytial virus (RSV) is responsible for almost 80% of cases.2 Most cases are not severe and can be managed conservatively at home, but approximately 30% of primary infections involve the lower respiratory tract3 and supportive care by hospital admission is warranted if feeding or respiration become compromised. Two-thirds of infants have an RSV infection in the first year of life,3 2%\\xe2\\x80\\x933% of primary infections will require admission to hospital4\\n5 and 2%\\xe2\\x80\\x936% of these admissions need management on paediatric intensive care units (PICUs).1\\n5\\xe2\\x80\\x937 Bronchiolitis early in infancy is associated with a higher likelihood of developing wheeze and asthma later in life, and a causal association with asthma remains the subject of enquiry.8\\xe2\\x80\\x9310 Worldwide, RSV disease in children under the age of 5\\xe2\\x80\\x85years accounts for 33.8 million lower respiratory infections and 3.4 million hospitalisations. Access to mechanical ventilation on PICUs has helped maintain a low mortality in industrialised nations (0%\\xe2\\x80\\x931.5% in otherwise healthy infants with RSV).11 Globally, an estimated 66\\xe2\\x80\\x85000\\xe2\\x80\\x93199\\xe2\\x80\\x85000 RSV-related deaths occur annually, almost exclusively in resource-poor areas, with RSV being second only to malaria in all-cause infant mortality between 1 and 12\\xe2\\x80\\x85months of age.12\\n13 Prematurity, bronchopulmonary dysplasia, congenital heart disease, immunodeficiency, cerebral palsy and Down's syndrome are recognised risk factors for severe bronchiolitis,14\\xe2\\x80\\x9316 but 50%\\xe2\\x80\\x9380% of emergency admissions occur in otherwise healthy infants born at term.15\\n16\\n\\nThere is evidence of a rise in admission rates for bronchiolitis occurring over time in the USA and Canada during the 1990s.17\\n18 We report an analysis of hospital admissions of infants with bronchiolitis in England over five decades. The main objective was to describe a time-trend analysis of admission to hospitals and to PICUs in England. Additional objectives were to map geographical and socioeconomic variation in hospital admission rates. Record-linked data were used to quantify social, maternal and perinatal factors that confer a risk of admission for bronchiolitis, and to measure the risk of later admission for asthma after bronchiolitis.\\n\\nMethods\\nWe used discharge codes in any diagnostic position on hospital admission datasets that are routinely collected in England including the Hospital In-Patient Enquiry (HIPE), Hospital Episode Statistics (HES) and Oxford Record Linkage Study (ORLS). Hospital admissions for bronchiolitis were identified using International Classification of Disease (ICD) codes J21.0, J21.1, J21.8 and J21.9 in the 10th revision of the ICD (ICD10, 1999\\xe2\\x80\\x932011) and 466.1 in ICD9 (1979\\xe2\\x80\\x931998). In the early years of the ORLS (1963\\xe2\\x80\\x931978) and HIPE (1968\\xe2\\x80\\x931978), covered by ICD7 and ICD8, cases were identified from codes 500 (ICD7 until 1965; bronchitis) and 466 (ICD8, 1965\\xe2\\x80\\x931978; acute bronchitis and bronchiolitis), and therefore covered acute bronchitis and bronchiolitis without distinguishing them for the period before 1979. The relevant codes used for asthma admissions were 493 (ICD8 and ICD9) and J45-46 (ICD10).\\n\\nNational Health Service (NHS) admission statistics from 1968 to 1985 were collected on a one-in-ten basis for the whole of England in the HIPE and scaled up to represent all admissions. Admissions from 1989, including day case admissions, were recorded in HES data. Linked HES data from 1999 permitted an analysis of successive admissions for individuals within the population. The ORLS is essentially a fully linked regional subset of HES, collected independently of HIPE and HES, without sampling, from 1963 to 1998 and compiled as a subset from national HES since then. ORLS covers the period between 1985 and 1989 when no HIPE or HES data were collected. ORLS also includes a specialist maternal dataset, collected between 1970 and 1989 with linkage to later years, which includes maternal and perinatal data not routinely collected through HES and has linked data between mother and baby. Infants admitted with bronchiolitis were compared, in this maternal dataset, with all other infants in ORLS born between 1970 and 1989, using methods described elsewhere.19 Some data items\\xe2\\x80\\x94for example, maternal smoking, breast feeding\\xe2\\x80\\x94were not covered in all years. Univariable analysis followed by multivariable adjustment was done for significant variables using logistic regression and the stepwise forward method. A cohort of children with bronchiolitis in HES was compared with a cohort of children without a record of bronchiolitis, using analytical methods for disease associations described elsewhere,20 to compare the incidence of asthma admissions when aged between 2 and 14\\xe2\\x80\\x85years.\\n\\nIn the trend analyses, hospital admission rates are presented as episode-based and person-based admission rates of cases per 1000 population, for both sexes combined, aged under <1\\xe2\\x80\\x85year, expressed as an annual rate. The population denominator for each year and each local area was obtained from mid-year population estimates from the Office for National Statistics (ONS). With the episode-based admission rate, a person admitted several times for the condition is counted as many times as he/she has admissions. The person-based admission rate counts individuals once, and only once, at the first admission per year in which they were admitted. In the geographical analyses, confined to 1999\\xe2\\x80\\x932011 when linked person-based data from HES were available, place of residence was determined from the HES record. The boundaries of the Local Government Areas of England were used to map geographical variations in the recorded rates of admissions and the Index of Multiple Deprivation (IMD 2004) score was used as a measure of socioeconomic status for each local area.\\n\\nThe Paediatric Intensive Care Audit Network (PICANet) dataset is a national audit that has collected data on admissions to all PICUs across England since 2002. We used the primary diagnosis for admission and Read codes X100C, XSDOK, H061, H0615, H061z, X100D, Xa0BK, H0612 and XaPOd to identify admissions for bronchiolitis, deaths and length of stay between 2004 and 2012. The PICANet population denominator for each year was estimated from ONS data. Analyses were performed in SAS (trends, mapping, asthma), GraphPad Prism (PICANet) and SPSS (perinatal study).\\n\\nResults\\nHospital admission rates for bronchiolitis over time\\nAll-England HIPE and HES data recorded 468\\xe2\\x80\\x85138 episodes of admissions for bronchiolitis in infants aged <1\\xe2\\x80\\x85year between 1979 and 2011, accounting for 92.6% of all bronchiolitis admissions in all ages. HES data between 1999 and 2011 recorded 299\\xe2\\x80\\x85397 episodes and 259\\xe2\\x80\\x85044 infants aged <1\\xe2\\x80\\x85year admitted for bronchiolitis. The mean ratio of episodes to people was 1.16. The annual average episode-based admission rate reached 46.1 (95% CI 45.6 to \\xe2\\x88\\x9246.6) in 2011, from 6.6 (95% CI 6.0 to 7.2) in 1979 when bronchiolitis discharge codes came into use (a near sevenfold rise in 32\\xe2\\x80\\x85years) (figure 1). The ORLS recorded a total of 25\\xe2\\x80\\x85852 episodes and 23\\xe2\\x80\\x85319\\xc2\\xa0infants aged <1\\xe2\\x80\\x85year admitted for bronchiolitis in this subpopulation of England between 1979 and 2011. The mean ratio of bronchiolitis episodes to number of infants was lower at 1.11, and 98.2% of all bronchiolitis admissions were in children aged <1\\xe2\\x80\\x85year. Per 1000 infants aged <1\\xe2\\x80\\x85year, the annual average episode-based admission rate reached 40.4 (95% CI 38.5 to 42.3) in 2011, up from 4.5 (95% CI 3.7 to 5.3) in 1979 (a near ninefold rise in 32\\xe2\\x80\\x85years). The trend could be observed before 1979, from when discharge records began 50\\xe2\\x80\\x85years ago. Between 2004 and 2011, when PICU admissions were recorded, the HES and ORLS datasets recorded an episode-based average annual increment in hospitalisation rates of 1.8% and 1.6% respectively. A small, relatively fixed difference between the episode-based and person-based rates of admission emerged from 1995.\\n\\nFigure\\xc2\\xa01 Point estimates for the annual average episode and person-based hospital admission rate for bronchiolitis per 1000 infants aged <12\\xe2\\x80\\x85months from 1979 to 2011, episode-based combined acute bronchitis and bronchiolitis rates from 1965 to 1979 and bronchitis before 1965. Person-based hospital admission rates for males were consistently higher than females (see supplementary material online). 128\\xc3\\x9763\\xe2\\x80\\x85mm (300\\xc3\\x97300\\xe2\\x80\\x85DPI). HES, Hospital Episode Statistics; HIPE, Hospital In-Patient Enquiry; ORLS, Oxford Record Linkage Study.\\n\\nBronchiolitis admissions to PICU over time\\nA total of 102\\xe2\\x80\\x85126 infants aged 0\\xe2\\x80\\x935\\xe2\\x80\\x85years were admitted to PICUs between 2004 and 2012. Of the 64\\xe2\\x80\\x85066 infants aged <1\\xe2\\x80\\x85year, 8172 were diagnosed with bronchiolitis. Infants aged <1\\xe2\\x80\\x85year accounted for 93% of all bronchiolitis admissions and 11.8% (95% CI 10.5% to 13.1%) of admissions each year. The estimated PICU admission rate ranged between 1.3 and 1.6 per 1000 infants aged <1\\xe2\\x80\\x85year with no consistent trend towards increasing admissions (figure 2). The most frequent age at PICU admission was 1\\xe2\\x80\\x85month and 5083/8172 (62.2%) of infants were aged 0\\xe2\\x80\\x932\\xe2\\x80\\x85months. The annual average length of stay for all ages admitted to PICU with bronchiolitis ranged from 5.4 to 6.7\\xe2\\x80\\x85days (mean 6.1\\xe2\\x80\\x85days). Of the bronchiolitis admissions, 158 resulted in death, representing a PICU case-fatality of 1.75% in infants aged <12\\xe2\\x80\\x85months and 4.4% in infants aged 12\\xe2\\x80\\x85months and older.\\n\\nFigure\\xc2\\xa02 PICU admissions with bronchiolitis and all-causes from 2004 to 2012. (A) All-cause and bronchiolitis admission rates per 1000 infants. (B) Mean age (months with 95% CI) at admission for bronchiolitis. Between 2004 and 2006 the mean age rose significantly (**p=0.0004, two-tailed Mann\\xe2\\x80\\x93Whitney). In more recent years the mean age has fallen significantly between 2008 and 2012 (*p=0.04, two-tailed Mann\\xe2\\x80\\x93Whitney). 124\\xc3\\x9762\\xe2\\x80\\x85mm (300\\xc3\\x97300\\xe2\\x80\\x85DPI). PICU, paediatric intensive care unit.\\n\\nVariation in hospital admission rates for bronchiolitis across England\\nThe mean person-based rate of admissions between 1999 and 2011 was 32.4 per 1000 infants aged <1\\xe2\\x80\\x85year (95% CI 32.2 to 32.5) and ranged 5.3-fold across the 352 Local Government Areas (figure 3). A positive correlation with higher admission rates for bronchiolitis in areas with higher socioeconomic deprivation was observed (see online supplementary material).\\n\\nFigure\\xc2\\xa03 National variation in person-based bronchiolitis hospital admission rates, 1999\\xe2\\x80\\x932011. Bronchiolitis admission rates per 1000 infants aged <1\\xe2\\x80\\x85year, as analysed using Hospital Episode Statistics, both sexes, mapped using the boundaries of each Local Government Area. 135\\xc3\\x97173\\xe2\\x80\\x85mm (72\\xc3\\x9772\\xe2\\x80\\x85DPI).\\n\\nMaternal and perinatal factors associated with hospital admission for bronchiolitis\\nOf a total of 243\\xe2\\x80\\x85708\\xc2\\xa0infants, 2078 (0.86%) were admitted to hospital with a diagnosis of bronchiolitis. Of these admissions, 88.7% (1852/2087) were aged <1\\xe2\\x80\\x85year (tables 1 and 2). After adjustment of each factor for other significant variables, there were significant associations with year of birth (corroborating the rise in bronchiolitis admission rates over time), low maternal age, low social class, maternal smoking, high parity, twin birth, low birth weight, short gestational age, low birth weight for gestational age, not being breast fed, breech delivery and low Apgar 1 at birth.\\n\\nTable\\xc2\\xa01 Characteristics of the mother and pregnancy associated with the risk of hospital admission for bronchiolitis in infancy\\n\\n\\tNumber of children with bronchiolitis (total number with each characteristic)\\t% with bronchiolitis\\tp Value\\tAdjustment for year of birth, social class, mother\\xe2\\x80\\x99s age, parity, smoking and sex: OR (95% CI)\\t\\nYear of birth\\t\\n\\xe2\\x80\\x831970\\xe2\\x80\\x931974\\t397 (69\\xe2\\x80\\x85372)\\t0.57\\t<0.001\\t\\t\\n\\xe2\\x80\\x831975\\xe2\\x80\\x931979\\t273 (56\\xe2\\x80\\x85768)\\t0.48\\t\\t\\t\\n\\xe2\\x80\\x831980\\xe2\\x80\\x931984\\t530 (60\\xe2\\x80\\x85446)\\t0.88\\t\\t\\t\\n\\xe2\\x80\\x831985\\xe2\\x80\\x931989\\t887 (57\\xe2\\x80\\x85122)\\t1.55\\t\\t\\t\\n\\xe2\\x80\\x83Total\\t2087 (243\\xe2\\x80\\x85708)\\t0.86\\t\\t\\t\\nMother's age (years)\\t\\n\\xe2\\x80\\x8314\\xe2\\x80\\x9319\\t260 (17\\xe2\\x80\\x85611)\\t1.48\\t<0.001\\t2.36 (1.81 to 3.08)\\t\\n\\xe2\\x80\\x8320\\xe2\\x80\\x9324\\t729 (67\\xe2\\x80\\x85447)\\t1.08\\t\\t1.42 (1.22 to 1.66)\\t\\n\\xe2\\x80\\x8325\\xe2\\x80\\x9329\\t648 (90\\xe2\\x80\\x85467)\\t0.72\\t\\t1 (1)\\t\\n\\xe2\\x80\\x8330\\xe2\\x80\\x9334\\t325 (49\\xe2\\x80\\x85544)\\t0.66\\t\\t0.87 (0.73 to 1.03)\\t\\n\\xe2\\x80\\x8335\\xe2\\x80\\x9339\\t106 (15\\xe2\\x80\\x85423)\\t0.69\\t\\t0.63 (0.48 to 0.84)\\t\\n\\xe2\\x80\\x8340+\\t18 (2896)\\t0.62\\t\\t0.70 (0.39 to 1.26)\\t\\n\\xe2\\x80\\x83Total\\t2086 (243\\xe2\\x80\\x85388)\\t0.86\\t\\t\\t\\nSocial class\\t\\n\\xe2\\x80\\x831 (high)\\t88 (22\\xe2\\x80\\x85368)\\t0.39\\t<0.001\\t1 (1)\\t\\n\\xe2\\x80\\x832\\t289 (46\\xe2\\x80\\x85092)\\t0.63\\t\\t1.49 (1.12 to 1.99)\\t\\n\\xe2\\x80\\x833\\t723 (87\\xe2\\x80\\x85431)\\t0.83\\t\\t1.81 (1.38 to 2.38)\\t\\n\\xe2\\x80\\x834\\t286 (25\\xe2\\x80\\x85999)\\t1.10\\t\\t2.20 (1.64 to 2.97)\\t\\n\\xe2\\x80\\x835 (low)\\t152 (9776)\\t1.55\\t\\t2.34 (1.65 to 3.30)\\t\\n\\xe2\\x80\\x83Total\\t1538 (191\\xe2\\x80\\x85666)\\t0.80\\t\\t\\t\\nMarried\\t\\n\\xe2\\x80\\x83Yes\\t1675 (220\\xe2\\x80\\x85269)\\t0.76\\t<0.001\\t1 (1)\\t\\n\\xe2\\x80\\x83No\\t411 (22\\xe2\\x80\\x85996)\\t1.79\\t\\t1.13 (0.92 to 1.38)\\t\\n\\xe2\\x80\\x83Total\\t2086 (243\\xe2\\x80\\x85265)\\t0.86\\t\\t\\t\\nCigarettes smoked per day\\t\\n\\xe2\\x80\\x83None\\t822 (103\\xe2\\x80\\x85596)\\t0.79\\t<0.001\\t1 (1)\\t\\n\\xe2\\x80\\x831\\xe2\\x80\\x934\\t42 (3765)\\t1.12\\t\\t1.23 (0.84 to 1.80)\\t\\n\\xe2\\x80\\x835\\xe2\\x80\\x9314\\t250 (13\\xe2\\x80\\x85668)\\t1.83\\t\\t1.89 (1.59 to 2.25)\\t\\n\\xe2\\x80\\x8315+\\t298 (12\\xe2\\x80\\x85991)\\t2.29\\t\\t2.09 (1.77 to 2.48)\\t\\n\\xe2\\x80\\x83Total\\t1412 (134\\xe2\\x80\\x85020)\\t1.05\\t\\t\\t\\nParity\\t\\n\\xe2\\x80\\x831\\t806 (87\\xe2\\x80\\x85340)\\t0.92\\t\\t1.93 (1.65 to 2.25)\\t\\n\\xe2\\x80\\x832\\t387 (35\\xe2\\x80\\x85342)\\t1.10\\t\\t2.26 (1.87 to 2.73)\\t\\n\\xe2\\x80\\x833+\\t256 (18\\xe2\\x80\\x85387)\\t1.39\\t\\t2.73 (2.17 to 3.43)\\t\\n\\xe2\\x80\\x83Total\\t2083 (243\\xe2\\x80\\x85159)\\t0.86\\t\\t\\t\\nPre-eclampsia\\t\\n\\xe2\\x80\\x83No\\t1917 (219\\xe2\\x80\\x85636)\\t0.70\\t0.006\\t1 (1)\\t\\n\\xe2\\x80\\x83Yes\\t168 (24\\xe2\\x80\\x85023)\\t0.87\\t\\t1.20 (0.96 to 1.50)\\t\\n\\xe2\\x80\\x83Total\\t2085 (243\\xe2\\x80\\x85659)\\t0.86\\t\\t\\t\\nData from the Oxford Record Linkage Study specialist maternity dataset.\\n\\nTable\\xc2\\xa02 Characteristics of the delivery and infant associated with the risk of hospital admission for bronchiolitis in infancy\\n\\n\\tNumber children with bronchiolitis (total number with each characteristic)\\t% with bronchiolitis\\tp Value\\tAdjustment for year of birth, social class, mother\\xe2\\x80\\x99s age, parity, smoking and sex: OR (95% CI)\\t\\nNumber of babies\\t\\n\\xe2\\x80\\x831\\t2009 (238\\xe2\\x80\\x85311)\\t0.84\\t<0.001\\t1 (1)\\t\\n\\xe2\\x80\\x832\\t76 (5348)\\t1.42\\t\\t1.86 (1.37 to 2.54)\\t\\n\\xe2\\x80\\x83Total\\t2085 (243\\xe2\\x80\\x85659)\\t0.86\\t\\t\\t\\nBirth weight of baby (kg)\\t\\n\\xe2\\x80\\x831\\xe2\\x80\\x931.499\\t27 (1028)\\t2.63\\t<0.001\\t3.74 (2.32 to 6.01)\\t\\n\\xe2\\x80\\x831.5\\xe2\\x80\\x931.999\\t57 (2745)\\t2.08\\t\\t2.34 (1.59 to 3.44)\\t\\n\\xe2\\x80\\x832\\xe2\\x80\\x932.499\\t174 (10\\xe2\\x80\\x85079)\\t1.73\\t\\t1.90 (1.50 to 2.41)\\t\\n\\xe2\\x80\\x832.5\\xe2\\x80\\x932.999\\t428 (43\\xe2\\x80\\x85857)\\t0.98\\t\\t1.14 (0.96 to 1.35)\\t\\n\\xe2\\x80\\x833\\xe2\\x80\\x933.499\\t777 (95\\xe2\\x80\\x85463)\\t0.81\\t\\t1 (1)\\t\\n\\xe2\\x80\\x833.5\\xe2\\x80\\x933.999\\t450 (68\\xe2\\x80\\x85984)\\t0.65\\t\\t0.76 (0.64 to 0.89)\\t\\n\\xe2\\x80\\x834\\xe2\\x80\\x935.499\\t163 (20\\xe2\\x80\\x85661)\\t0.79\\t\\t0.90 (0.71 to 1.14)\\t\\n\\xe2\\x80\\x83Total\\t2076 (242\\xe2\\x80\\x85817)\\t0.85\\t\\t\\t\\nLowest 10th percentile of birth weight for gestational age\\t\\n\\xe2\\x80\\x83No\\t1509 (195\\xe2\\x80\\x85332)\\t0.77\\t<0.001\\t1 (1)\\t\\n\\xe2\\x80\\x83Yes\\t257 (21\\xe2\\x80\\x85694)\\t1.18\\t\\t1.34 (1.10 to 1.63)\\t\\n\\xe2\\x80\\x83Total\\t1766 (217\\xe2\\x80\\x85026)\\t0.81\\t\\t\\t\\nGestational age (weeks)\\t\\n\\xe2\\x80\\x8328\\xe2\\x80\\x9336\\t184 (11\\xe2\\x80\\x85997)\\t1.53\\t<0.001\\t2.24 (1.78 to 2.82)\\t\\n\\xe2\\x80\\x8337\\t114 (10\\xe2\\x80\\x85275)\\t1.11\\t\\t1.62 (1.23 to 2.14)\\t\\n\\xe2\\x80\\x8338\\t254 (27\\xe2\\x80\\x85314)\\t0.93\\t\\t1.23 (0.99 to 1.52)\\t\\n\\xe2\\x80\\x8339\\t352 (45\\xe2\\x80\\x85299)\\t0.78\\t\\t0.97 (0.80 to 1.19)\\t\\n\\xe2\\x80\\x8340\\t429 (59\\xe2\\x80\\x85596)\\t0.72\\t\\t1 (1)\\t\\n\\xe2\\x80\\x8341\\t246 (42\\xe2\\x80\\x85113)\\t0.58\\t\\t0.82 (0.66 to 1.02)\\t\\n\\xe2\\x80\\x8342\\t105 (12\\xe2\\x80\\x85811)\\t0.82\\t\\t1.04 (0.76 to 1.40)\\t\\n\\xe2\\x80\\x8343\\t32 (3603)\\t0.89\\t\\t1.21 (0.76 to 1.95)\\t\\n\\xe2\\x80\\x8344+\\t57 (4742)\\t1.20\\t\\t1.02 (0.67 to 1.55)\\t\\n\\xe2\\x80\\x83Total\\t1773 (217\\xe2\\x80\\x85750)\\t0.81\\t\\t\\t\\nInfant feeding\\t\\n\\xe2\\x80\\x83Breast\\t796 (113\\xe2\\x80\\x85432)\\t0.70\\t<0.001\\t1 (1)\\t\\n\\xe2\\x80\\x83Artificial\\t758 (49\\xe2\\x80\\x85245)\\t1.54\\t\\t1.35 (1.18 to 1.55)\\t\\n\\xe2\\x80\\x83Total\\t1554 (162\\xe2\\x80\\x85677)\\t0.96\\t\\t\\t\\nCaesarean delivery\\t\\n\\xe2\\x80\\x83No\\t1895 (224\\xe2\\x80\\x85350)\\t0.84\\t0.026\\t1 (1)\\t\\n\\xe2\\x80\\x83Yes\\t183 (18\\xe2\\x80\\x85248)\\t1.00\\t\\t1.35 (1.03 to 1.53)\\t\\n\\xe2\\x80\\x83Total\\t2078 (242\\xe2\\x80\\x85598)\\t0.86\\t\\t\\t\\nPresentation\\t\\n\\xe2\\x80\\x83Vertex\\t1510 (153\\xe2\\x80\\x85258)\\t0.99\\t0.28\\t1 (1)\\t\\n\\xe2\\x80\\x83Other\\t12 (1528)\\t0.79\\t\\t1.37 (1.03 to 1.81)\\t\\n\\xe2\\x80\\x83Breech\\t76 (6578)\\t1.16\\t\\t0.76 (0.36 to 1.60)\\t\\n\\xe2\\x80\\x83Total\\t1598 (161\\xe2\\x80\\x85364)\\t0.99\\t\\t\\t\\nApgar score at 1\\xe2\\x80\\x85min\\t\\n\\xe2\\x80\\x831\\xe2\\x80\\x937\\t437 (45\\xe2\\x80\\x85935)\\t0.95\\t0.015\\t1.29 (1.01 to 1.66)\\t\\n\\xe2\\x80\\x838\\xe2\\x80\\x939\\t1288 (146\\xe2\\x80\\x85938)\\t0.88\\t\\t1.07 (0.86 to 1.34)\\t\\n\\xe2\\x80\\x8310\\t209 (28\\xe2\\x80\\x85015)\\t0.75\\t\\t1 (1)\\t\\n\\xe2\\x80\\x83Total\\t1934 (220\\xe2\\x80\\x85888)\\t0.88\\t\\t\\t\\nApgar score at 5\\xe2\\x80\\x85min\\t\\n\\xe2\\x80\\x831\\xe2\\x80\\x937\\t34 (2758)\\t1.23\\t0.16\\t1.07 (0.67 to 1.72)\\t\\n\\xe2\\x80\\x838\\xe2\\x80\\x939\\t130 (11\\xe2\\x80\\x85133)\\t1.17\\t\\t1.30 (1.05 to 1.62)\\t\\n\\xe2\\x80\\x8310\\t1360 (134\\xe2\\x80\\x85510)\\t1.01\\t\\t1 (1)\\t\\n\\xe2\\x80\\x83Total\\t1524 (148\\xe2\\x80\\x85401)\\t1.03\\t\\t\\t\\nSex\\t\\n\\xe2\\x80\\x83Male\\t1216 (125\\xe2\\x80\\x85358)\\t0.97\\t<0.001\\t1 (1)\\t\\n\\xe2\\x80\\x83Female\\t871 (118\\xe2\\x80\\x85344)\\t0.74\\t\\t0.74 (0.66 to 0.84)\\t\\n\\xe2\\x80\\x83Total\\t2087 (243\\xe2\\x80\\x85702)\\t0.86\\t\\t\\t\\nData from the Oxford Record Linkage Study specialist maternity dataset.\\n\\nHospital admissions for asthma following bronchiolitis in infancy\\nNine thousand six hundred and twelve children identified in HES were used as the cohort of admissions with bronchiolitis under the age of 2\\xe2\\x80\\x85years. The control cohort used for comparative analysis numbered 46\\xe2\\x80\\x85377 children. Of these, 715/9612 (7%) children from the bronchiolitis cohort had an admission for asthma before age 14\\xe2\\x80\\x85years. The rate ratio for asthma admissions, comparing the bronchiolitis cohort with the control cohort, was 2.8 (95% CI 2.6 to 3.1).\\n\\nDiscussion\\nData on hospital admission trends for bronchiolitis in the USA, measured per 1000 infants aged <1\\xe2\\x80\\x85year, showed a 2.4-fold rise from 1980 to 1996.17 In Canada, between 1981 and 1999, the bronchiolitis admission rate per 1000 infants aged <6\\xe2\\x80\\x85months rose 3.5-fold and 2.1-fold in infants aged 6\\xe2\\x80\\x9312\\xe2\\x80\\x85months.18 UK data from a single region between 1996 and 1999 recorded an average rate of 30.85 and the last estimate from an industrialised nation was single-season data from France, which estimated 35.8 admissions per 1000 infants aged <1\\xe2\\x80\\x85year in 2009.21 The only all-England estimate recorded an admission rate of 24.2 per 1000 infants aged <1\\xe2\\x80\\x85year16 using discharge codes in the primary diagnostic position only, which may explain their lower estimated rate for 2007/08 compared with our data.\\n\\nWe have analysed several datasets over a substantial period and consistently found a substantial rise in hospitalisation rates for bronchiolitis in recent years. In contrast, PICU admission rates have changed little from 2004 to 2012 when hospital admission rates rose by an average 1.8% each year. Although PICU admissions for bronchiolitis have steadily increased as a proportion of all admissions since 2002,22 these data suggest that the overall rise in hospital admissions reflects changes in the threshold for admission rather than an increase in disease incidence or severity over time. In the early years of the study, ORLS data collection was independent of that in HIPE and the maternity ORLS dataset was collected separately from the \\xe2\\x80\\x98general hospital\\xe2\\x80\\x99 data in the ORLS. These levels of independence increase confidence in the time-trend analyses.\\n\\nPossible drivers behind changes in recorded hospital admission rates include the increasing prevalence of maternal and perinatal factors that predispose to severe disease, social factors such as parents' expectations, and changes to the way care is provided and used. Improvements in neonatal care have led to an increase in the population at enhanced risk: hospital admission rates are 24.2 for all infants and 47.3 among premature infants per 1000 aged <1\\xe2\\x80\\x85year.16\\n23\\n24 Even after 36\\xe2\\x80\\x85weeks gestation, our data continue to show an effect of gestational age on the risk of severe disease in single weeks up to weeks 39\\xe2\\x80\\x9341. Before then, each extra week in utero seems to confer added protection against admission with bronchiolitis. In 2003, 7%\\xe2\\x80\\x939% of bronchiolitis admissions were re-admissions5\\n25 and more recent data estimated that 21% of infants had more than one bronchiolitis admission during the first year of life.16 The risk of asthma admission up to the age of 14\\xe2\\x80\\x85years with a preceding history of hospitalisation for bronchiolitis supports previous findings and emphasises the possible wider health consequences of bronchiolitis.9\\n\\nIt is noteworthy that overall admission rates in England for children under 15\\xe2\\x80\\x85years of age with lower respiratory tract infections have risen by 40% in the last decade, together with large increases in paediatric admissions for upper respiratory tract infections, urinary infections and gastroenteritis.26 These increases were driven by an increase in admissions of short duration (under 24\\xe2\\x80\\x85h). We speculate that major changes in the organisation of healthcare in England may have contributed to changing admission rates. One major change has been decreased access to medical assessment outside hospital as a result of both a reduction in out-of-hours care by general practitioners under a reorganised contract from 200427 and the introduction of a non-medical protocol-based telephone triage (NHS Direct) in 1999.28 The potential for these changes to direct parents to hospital care, where availability of new technology over this period, including oximeters,29 may have inadvertently encouraged clinicians to lower the threshold for admission to meet waiting time targets and as a result of clinical protocols. We found that only 25% of the geographic variation in hospital admission rates could be attributed to socioeconomic deprivation, which is consistent with two other publications of HES data.16\\n30 The finding of geographical variation and increasing admission rates indicate that there is clinical uncertainty, probably combined with organisational factors, about when to admit a sick child with bronchiolitis.\\n\\nLimitations of the study\\nWhile the length of the time-period of data collection is a considerable strength of this study, there may have been variation over time in the quality of diagnostic coding and therefore in the accuracy of our data. However, our findings are consistent across different studies both in the UK and elsewhere, suggesting that the large increases in admissions are real. We used PICU admissions as a proxy for severe disease, but other surrogates (such as length of stay in hospital) were not available to infer whether admission rates for cases of mild or moderate disease severity changed over time. Although the overall trend is clear, we noted significant year-to-year variations in hospitalisation rates. Trend data were not available for some factors that may have influenced trends in bronchiolitis rates: these include other conditions that predispose to developing severe bronchiolitis, and demographic factors such as ethnicity.31\\n\\nConclusions\\nHospital admissions for bronchiolitis in England are increasing and exceed recent estimates from similar industrialised nations. PICU admission rates have changed little over the same period and indicate a need to examine the threshold used for hospital admission and explore the medical and social factors behind the rising admission rates. The high rate of emergency admissions, lack of universal and cost-effective preventative measures and the magnitude of disease incidence make bronchiolitis a major priority for control; these factors also provide a strong rationale for development of strategies for RSV prevention through vaccination.\\n\\nSupplementary Material\\nWeb supplement\\n We would like to thank all the staff in the participating hospitals who collected data for PICANet. We are grateful to the UK Paediatric Intensive Care Society for continued support and to the members of the PICANet Steering Group and Clinical Advisory Group who are listed on the PICANet website http://www.picanet.org.uk/participants.html. The HES data for 1989\\xe2\\x80\\x932011 were provided by the Health and Social Care Information Centre (which has been unable to supply data from 2012, following a general embargo on its supplying HES data to academic researchers).\\n\\nContributors: AJP and MJG instigated, designed and supervised the study. CAG drafted the manuscript for publication. Data were collected and analysed by CAG, AG, RCP, PM, CS and MJG. DY designed the software for analysis of HIPE and HES data. All authors provided critical revision to the manuscript, had access to all of the data and took responsibility for the integrity of the data and accuracy of data analysis.\\n\\nFunding: This work was supported by several sources. Building of the ORLS, HIPE and HES datasets was funded by the National Institute for Health Research (grant RNC/035/02). MJG is part-funded by Public Health England. PICANet is funded by the National Clinical Audit & Patient Outcomes Programme, administered by the Healthcare Quality Improvement Partnership (HQIP); Welsh Health Specialised Services Committee; NHS Lothian/National Service Division NHS Scotland; the Royal Belfast Hospital for Sick Children; National Office of Clinical Audit Ireland (NOCA) and HCA International. Role of the Funders and Sponsors: This was an investigator-controlled study. The design and conduct of the study, collection and management of data, manuscript preparation and review, manuscript approval and the decision to submit the manuscript for publication was made independently and exclusively by the authors.\\n\\nCompeting interests: AJP has previously conducted clinical trials of vaccines on behalf of Oxford University funded by industry, but does not receive any personal payments from them. AJP is chair of the UK Department of Health's (DH) Joint Committee on Vaccination and Immunisation (JCVI), but the views expressed in this manuscript do not necessarily represent the views of JCVI or DH.\\n\\nEthics approval: Approval for research using the anonymised datasets of the ORLS, HIPE and HES was obtained from the Central and South Bristol Research Ethics Committee (04/Q2006/176). Collection of personally identifiable data by PICANet was approved by the Patient Information Advisory Group (now the NHS Health Research Authority Confidentiality Advisory Group) and ethical approval granted by the Trent Medical Research Ethics Committee (05/MRE04/17+5).\\n\\nProvenance and peer review: Not commissioned; externally peer reviewed.\\n==== Refs\\nReferences\\n1 Hasegawa K , Tsugawa Y , Brown DF , et al \\nTrends in bronchiolitis hospitalizations in the United States, 2000\\xe2\\x80\\x932009 . Pediatrics \\n2013 ;132 :28 \\xe2\\x80\\x9336 . doi:10.1542/peds.2012-387723733801 \\n2 Miller EK , Gebretsadik T , Carroll KN , et al \\nViral etiologies of infant bronchiolitis, croup and upper respiratory illness during 4 consecutive years . Pediatr Infect Dis J \\n2013 ;32 :950 \\xe2\\x80\\x935 . doi:10.1097/INF.0b013e31829b7e4323694832 \\n3 Glezen WP , Taber LH , Frank AL , et al \\nRisk of primary infection and reinfection with respiratory syncytial virus . Am J Dis Child \\n1986 ;140 :543 \\xe2\\x80\\x936 .3706232 \\n4 Hall CB , Weinberg GA , Iwane MK , et al \\nThe burden of respiratory syncytial virus infection in young children . N Engl J Med \\n2009 ;360 :588 \\xe2\\x80\\x9398 . doi:10.1056/NEJMoa080487719196675 \\n5 Deshpande SA , Northern V  \\nThe clinical and health economic burden of respiratory syncytial virus disease among children under 2 years of age in a defined geographical area . Arch Dis Child \\n2003 ;88 :1065 \\xe2\\x80\\x939 . doi:10.1136/adc.88.12.106514670770 \\n6 Tsolia MN , Kafetzis D , Danelatou K , et al \\nEpidemiology of respiratory syncytial virus bronchiolitis in hospitalized infants in Greece . Eur J Epidemiol \\n2003 ;18 :55 \\xe2\\x80\\x9361 . doi:10.1023/A:102255621519012705624 \\n7 Hasegawa K , Pate BM , Mansbach JM , et al \\nRisk factors for requiring intensive care among children admitted to ward with bronchiolitis . Acad Pediatr \\n2015 ;15 :77 \\xe2\\x80\\x9381 . doi:10.1016/j.acap.2014.06.00825528126 \\n8 Sigurs N , Aljassim F , Kjellman B , et al \\nAsthma and allergy patterns over 18 years after severe RSV bronchiolitis in the first year of life . Thorax \\n2010 ;65 :1045 \\xe2\\x80\\x9352 . doi:10.1136/thx.2009.12158220581410 \\n9 Regnier SA , Huels J  \\nAssociation between respiratory syncytial virus hospitalizations in infants and respiratory sequelae: systematic review and meta-analysis . Pediatr Infect Dis J \\n2013 ;32 :820 \\xe2\\x80\\x936 .23518824 \\n10 Blanken MO , Rovers MM , Molenaar JM , et al \\nRespiratory syncytial virus and recurrent wheeze in healthy preterm infants . N Engl J Med \\n2013 ;368 :1791 \\xe2\\x80\\x939 . doi:10.1056/NEJMoa121191723656644 \\n11 Szabo SM , Gooch KL , Bibby MM , et al \\nThe risk of mortality among young children hospitalized for severe respiratory syncytial virus infection . Paediatr Respir Rev \\n2013 ;13 :S1 \\xe2\\x80\\x938 . doi:10.1016/S1526-0542(12)00095-423269181 \\n12 Lozano R , Naghavi M , Foreman K , et al \\nGlobal and regional mortality from 235 causes of death for 20 age groups in 1990 and 2010: a systematic analysis for the Global Burden of Disease Study 2010 . Lancet \\n2012 ;380 :2095 \\xe2\\x80\\x93128 . doi:10.1016/S0140-6736(12)61728-023245604 \\n13 Nair H , Nokes DJ , Gessner BD , et al \\nGlobal burden of acute lower respiratory infections due to respiratory syncytial virus in young children: a systematic review and meta-analysis . Lancet \\n2010 ;375 :1545 \\xe2\\x80\\x9355 . doi:10.1016/S0140-6736(10)60206-120399493 \\n14 Sommer C , Resch B , Simoes EA  \\nRisk factors for severe respiratory syncytial virus lower respiratory tract infection . Open Microbiol J \\n2011 ;5 :144 \\xe2\\x80\\x9354 . doi:10.2174/187428580110501014422262987 \\n15 Boyce TG , Mellen BG , Mitchel EF Jr., et al \\nRates of hospitalization for respiratory syncytial virus infection among children in medicaid . J Pediatr \\n2000 ;137 :865 \\xe2\\x80\\x9370 . doi:10.1067/mpd.2000.11053111113845 \\n16 Murray J , Bottle A , Sharland M , et al \\nRisk factors for hospital admission with RSV bronchiolitis in England: a population-based birth cohort study . PLoS ONE \\n2014 ;9 :e89186 \\ndoi:10.1371/journal.pone.008918624586581 \\n17 Shay DK , Holman RC , Newman RD , et al \\nBronchiolitis-associated hospitalizations among US children, 1980\\xe2\\x80\\x931996 . JAMA \\n1999 ;282 :1440 \\xe2\\x80\\x936 . doi:10.1001/jama.282.15.144010535434 \\n18 Langley JM , LeBlanc JC , Smith B , et al \\nIncreasing incidence of hospitalization for bronchiolitis among Canadian children, 1980\\xe2\\x80\\x932000 . J Infect Dis \\n2003 ;188 :1764 \\xe2\\x80\\x937 . doi:10.1086/37974014639549 \\n19 Goldacre MJ , Wotton CJ , Maisonneuve JJ  \\nMaternal and perinatal factors associated with subsequent meningococcal, Haemophilus or enteroviral meningitis in children: database study . Epidemiol Infect \\n2014 ;142 :371 \\xe2\\x80\\x938 . doi:10.1017/S095026881300099X23659618 \\n20 Gold J , Goldacre R , Maruszak H , et al \\nHIV and lower risk of multiple sclerosis: beginning to unravel a mystery using a record-linked database study . J Neurol Neurosurg Psychiatry \\n2015 ;86 :9 \\xe2\\x80\\x9312 . doi:10.1136/jnnp-2014-30793225091370 \\n21 Che D , Nicolau J , Bergounioux J , et al \\nBronchiolitis among infants under 1 year of age in France: epidemiology and factors associated with mortality . Arch Pediatr \\n2012 ;19 :700 \\xe2\\x80\\x936 .22652519 \\n22 Paediatric Intensive Care Audit Network . http://www.picanet.org.uk/Audit/Annual-Reporting/PICANet_Annual_Report_2013_summary.pdf \\n23 Weisman L  \\nPopulations at risk for developing respiratory syncytial virus and risk factors for respiratory syncytial virus severity: infants with predisposing conditions . Pediatr Infect Dis J \\n2003 ;22 (2 Suppl) :S33 \\xe2\\x80\\x937 ; discussion S37\\xe2\\x80\\x939 .12671450 \\n24 Wen SW , Smith G , Yang Q , et al \\nEpidemiology of preterm birth and neonatal outcome . Semin Fetal Neonatal Med \\n2004 ;9 :429 \\xe2\\x80\\x9335 . doi:10.1016/j.siny.2004.04.00215691780 \\n25 Fjaerli HO , Farstad T , Bratlid D  \\nHospitalisations for respiratory syncytial virus bronchiolitis in Akershus, Norway, 1993\\xe2\\x80\\x932000: a population-based retrospective study . BMC Pediatr \\n2004 ;4 :25 \\ndoi:10.1186/1471-2431-4-2515606912 \\n26 Gill PJ , Goldacre MJ , Mant D , et al \\nIncrease in emergency admissions to hospital for children aged under 15 in England, 1999\\xe2\\x80\\x932010: national database analysis . Arch Dis Child \\n2013 ;98 :328 \\xe2\\x80\\x9334 . doi:10.1136/archdischild-2012-30238323401058 \\n27 National Audit Office . The provision of out-of-hours care in England . National Audit Office , 2006 .\\n28 Cooper DL , Smith GE , Edmunds WJ , et al \\nThe contribution of respiratory pathogens to the seasonality of NHS Direct calls . J Infect \\n2007 ;55 :240 \\xe2\\x80\\x938 . doi:10.1016/j.jinf.2007.04.35317582503 \\n29 Schuh S , Freedman S , Coates A , et al \\nEffect of oximetry on hospitalization in bronchiolitis: a randomized clinical trial . JAMA \\n2014 ;312 :712 \\xe2\\x80\\x9318 . doi:10.1001/jama.2014.863725138332 \\n30 Cheung CR , Smith H , Thurland K , et al \\nPopulation variation in admission rates and duration of inpatient stay for bronchiolitis in England . Arch Dis Child \\n2013 ;98 :57 \\xe2\\x80\\x939 . doi:10.1136/archdischild-2012-30227723220210 \\n31 O'Donnell DR , Parslow RC , Draper ES  \\nDeprivation, ethnicity and prematurity in infant respiratory failure in PICU in the UK . Acta Paediatr \\n2010 ;99 :1186 \\xe2\\x80\\x9391 . doi:10.1111/j.1651-2227.2010.01803.x20236254\\n\""
      ]
     },
     "execution_count": 3,
     "metadata": {},
     "output_type": "execute_result"
    }
   ],
   "source": [
    "ARTICLE_DOCUMENT_LIST[0]"
   ]
  },
  {
   "cell_type": "code",
   "execution_count": 10,
   "metadata": {
    "collapsed": false
   },
   "outputs": [
    {
     "ename": "ValueError",
     "evalue": "need more than 1 value to unpack",
     "output_type": "error",
     "traceback": [
      "\u001b[0;31m---------------------------------------------------------------------------\u001b[0m",
      "\u001b[0;31mValueError\u001b[0m                                Traceback (most recent call last)",
      "\u001b[0;32m<ipython-input-10-533c05332009>\u001b[0m in \u001b[0;36m<module>\u001b[0;34m()\u001b[0m\n\u001b[0;32m----> 1\u001b[0;31m \u001b[0mmodel\u001b[0m \u001b[0;34m=\u001b[0m \u001b[0mmodels\u001b[0m\u001b[0;34m.\u001b[0m\u001b[0mtfidfmodel\u001b[0m\u001b[0;34m.\u001b[0m\u001b[0mTfidfModel\u001b[0m\u001b[0;34m(\u001b[0m\u001b[0mARTICLE_DOCUMENT_LIST\u001b[0m\u001b[0;34m)\u001b[0m\u001b[0;34m\u001b[0m\u001b[0m\n\u001b[0m",
      "\u001b[0;32m/usr/local/lib/python2.7/site-packages/gensim-0.12.4-py2.7-macosx-10.11-x86_64.egg/gensim/models/tfidfmodel.pyc\u001b[0m in \u001b[0;36m__init__\u001b[0;34m(self, corpus, id2word, dictionary, wlocal, wglobal, normalize)\u001b[0m\n\u001b[1;32m     94\u001b[0m             \u001b[0mself\u001b[0m\u001b[0;34m.\u001b[0m\u001b[0midfs\u001b[0m \u001b[0;34m=\u001b[0m \u001b[0mprecompute_idfs\u001b[0m\u001b[0;34m(\u001b[0m\u001b[0mself\u001b[0m\u001b[0;34m.\u001b[0m\u001b[0mwglobal\u001b[0m\u001b[0;34m,\u001b[0m \u001b[0mself\u001b[0m\u001b[0;34m.\u001b[0m\u001b[0mdfs\u001b[0m\u001b[0;34m,\u001b[0m \u001b[0mself\u001b[0m\u001b[0;34m.\u001b[0m\u001b[0mnum_docs\u001b[0m\u001b[0;34m)\u001b[0m\u001b[0;34m\u001b[0m\u001b[0m\n\u001b[1;32m     95\u001b[0m         \u001b[0;32melif\u001b[0m \u001b[0mcorpus\u001b[0m \u001b[0;32mis\u001b[0m \u001b[0;32mnot\u001b[0m \u001b[0mNone\u001b[0m\u001b[0;34m:\u001b[0m\u001b[0;34m\u001b[0m\u001b[0m\n\u001b[0;32m---> 96\u001b[0;31m             \u001b[0mself\u001b[0m\u001b[0;34m.\u001b[0m\u001b[0minitialize\u001b[0m\u001b[0;34m(\u001b[0m\u001b[0mcorpus\u001b[0m\u001b[0;34m)\u001b[0m\u001b[0;34m\u001b[0m\u001b[0m\n\u001b[0m\u001b[1;32m     97\u001b[0m         \u001b[0;32melse\u001b[0m\u001b[0;34m:\u001b[0m\u001b[0;34m\u001b[0m\u001b[0m\n\u001b[1;32m     98\u001b[0m             \u001b[0;31m# NOTE: everything is left uninitialized; presumably the model will\u001b[0m\u001b[0;34m\u001b[0m\u001b[0;34m\u001b[0m\u001b[0m\n",
      "\u001b[0;32m/usr/local/lib/python2.7/site-packages/gensim-0.12.4-py2.7-macosx-10.11-x86_64.egg/gensim/models/tfidfmodel.pyc\u001b[0m in \u001b[0;36minitialize\u001b[0;34m(self, corpus)\u001b[0m\n\u001b[1;32m    117\u001b[0m                 \u001b[0mlogger\u001b[0m\u001b[0;34m.\u001b[0m\u001b[0minfo\u001b[0m\u001b[0;34m(\u001b[0m\u001b[0;34m\"PROGRESS: processing document #%i\"\u001b[0m \u001b[0;34m%\u001b[0m \u001b[0mdocno\u001b[0m\u001b[0;34m)\u001b[0m\u001b[0;34m\u001b[0m\u001b[0m\n\u001b[1;32m    118\u001b[0m             \u001b[0mnumnnz\u001b[0m \u001b[0;34m+=\u001b[0m \u001b[0mlen\u001b[0m\u001b[0;34m(\u001b[0m\u001b[0mbow\u001b[0m\u001b[0;34m)\u001b[0m\u001b[0;34m\u001b[0m\u001b[0m\n\u001b[0;32m--> 119\u001b[0;31m             \u001b[0;32mfor\u001b[0m \u001b[0mtermid\u001b[0m\u001b[0;34m,\u001b[0m \u001b[0m_\u001b[0m \u001b[0;32min\u001b[0m \u001b[0mbow\u001b[0m\u001b[0;34m:\u001b[0m\u001b[0;34m\u001b[0m\u001b[0m\n\u001b[0m\u001b[1;32m    120\u001b[0m                 \u001b[0mdfs\u001b[0m\u001b[0;34m[\u001b[0m\u001b[0mtermid\u001b[0m\u001b[0;34m]\u001b[0m \u001b[0;34m=\u001b[0m \u001b[0mdfs\u001b[0m\u001b[0;34m.\u001b[0m\u001b[0mget\u001b[0m\u001b[0;34m(\u001b[0m\u001b[0mtermid\u001b[0m\u001b[0;34m,\u001b[0m \u001b[0;36m0\u001b[0m\u001b[0;34m)\u001b[0m \u001b[0;34m+\u001b[0m \u001b[0;36m1\u001b[0m\u001b[0;34m\u001b[0m\u001b[0m\n\u001b[1;32m    121\u001b[0m \u001b[0;34m\u001b[0m\u001b[0m\n",
      "\u001b[0;31mValueError\u001b[0m: need more than 1 value to unpack"
     ]
    }
   ],
   "source": [
    "model = models.tfidfmodel.TfidfModel(ARTICLE_DOCUMENT_LIST)"
   ]
  },
  {
   "cell_type": "code",
   "execution_count": null,
   "metadata": {
    "collapsed": true
   },
   "outputs": [],
   "source": []
  },
  {
   "cell_type": "code",
   "execution_count": null,
   "metadata": {
    "collapsed": true
   },
   "outputs": [],
   "source": []
  },
  {
   "cell_type": "code",
   "execution_count": null,
   "metadata": {
    "collapsed": true
   },
   "outputs": [],
   "source": []
  },
  {
   "cell_type": "code",
   "execution_count": null,
   "metadata": {
    "collapsed": true
   },
   "outputs": [],
   "source": []
  },
  {
   "cell_type": "code",
   "execution_count": null,
   "metadata": {
    "collapsed": true
   },
   "outputs": [],
   "source": []
  },
  {
   "cell_type": "code",
   "execution_count": null,
   "metadata": {
    "collapsed": true
   },
   "outputs": [],
   "source": []
  },
  {
   "cell_type": "code",
   "execution_count": null,
   "metadata": {
    "collapsed": true
   },
   "outputs": [],
   "source": []
  },
  {
   "cell_type": "code",
   "execution_count": null,
   "metadata": {
    "collapsed": false
   },
   "outputs": [],
   "source": []
  },
  {
   "cell_type": "code",
   "execution_count": null,
   "metadata": {
    "collapsed": true
   },
   "outputs": [],
   "source": []
  },
  {
   "cell_type": "code",
   "execution_count": null,
   "metadata": {
    "collapsed": true
   },
   "outputs": [],
   "source": []
  },
  {
   "cell_type": "code",
   "execution_count": null,
   "metadata": {
    "collapsed": true
   },
   "outputs": [],
   "source": []
  },
  {
   "cell_type": "code",
   "execution_count": null,
   "metadata": {
    "collapsed": true
   },
   "outputs": [],
   "source": []
  },
  {
   "cell_type": "code",
   "execution_count": null,
   "metadata": {
    "collapsed": true
   },
   "outputs": [],
   "source": []
  },
  {
   "cell_type": "code",
   "execution_count": null,
   "metadata": {
    "collapsed": true
   },
   "outputs": [],
   "source": []
  },
  {
   "cell_type": "code",
   "execution_count": null,
   "metadata": {
    "collapsed": true
   },
   "outputs": [],
   "source": []
  },
  {
   "cell_type": "code",
   "execution_count": null,
   "metadata": {
    "collapsed": true
   },
   "outputs": [],
   "source": []
  },
  {
   "cell_type": "code",
   "execution_count": null,
   "metadata": {
    "collapsed": true
   },
   "outputs": [],
   "source": []
  },
  {
   "cell_type": "code",
   "execution_count": null,
   "metadata": {
    "collapsed": true
   },
   "outputs": [],
   "source": []
  },
  {
   "cell_type": "code",
   "execution_count": null,
   "metadata": {
    "collapsed": true
   },
   "outputs": [],
   "source": []
  },
  {
   "cell_type": "code",
   "execution_count": null,
   "metadata": {
    "collapsed": true
   },
   "outputs": [],
   "source": []
  },
  {
   "cell_type": "code",
   "execution_count": null,
   "metadata": {
    "collapsed": true
   },
   "outputs": [],
   "source": []
  },
  {
   "cell_type": "code",
   "execution_count": null,
   "metadata": {
    "collapsed": true
   },
   "outputs": [],
   "source": []
  },
  {
   "cell_type": "code",
   "execution_count": null,
   "metadata": {
    "collapsed": true
   },
   "outputs": [],
   "source": []
  },
  {
   "cell_type": "code",
   "execution_count": null,
   "metadata": {
    "collapsed": true
   },
   "outputs": [],
   "source": []
  },
  {
   "cell_type": "code",
   "execution_count": null,
   "metadata": {
    "collapsed": true
   },
   "outputs": [],
   "source": []
  },
  {
   "cell_type": "code",
   "execution_count": null,
   "metadata": {
    "collapsed": true
   },
   "outputs": [],
   "source": []
  }
 ],
 "metadata": {
  "kernelspec": {
   "display_name": "Python 2",
   "language": "python",
   "name": "python2"
  },
  "language_info": {
   "codemirror_mode": {
    "name": "ipython",
    "version": 2
   },
   "file_extension": ".py",
   "mimetype": "text/x-python",
   "name": "python",
   "nbconvert_exporter": "python",
   "pygments_lexer": "ipython2",
   "version": "2.7.11"
  }
 },
 "nbformat": 4,
 "nbformat_minor": 0
}
