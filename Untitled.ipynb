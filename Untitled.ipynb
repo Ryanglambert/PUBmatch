{
 "cells": [
  {
   "cell_type": "code",
   "execution_count": 1,
   "metadata": {
    "collapsed": false
   },
   "outputs": [],
   "source": [
    "import pdb\n",
    "import os\n",
    "import pickle\n",
    "from sklearn.feature_extraction.text import TfidfVectorizer\n",
    "from sklearn.metrics.pairwise import distance_metrics\n",
    "from sklearn.metrics.pairwise import pairwise_distances\n",
    "from scipy.sparse.linalg import svds as SVDS\n",
    "import pandas as pd\n",
    "import numpy as np\n"
   ]
  },
  {
   "cell_type": "code",
   "execution_count": 3,
   "metadata": {
    "collapsed": false
   },
   "outputs": [],
   "source": [
    "with open('./pubmed_tfidf.pkl', 'rb') as f:\n",
    "    pubmed_vectors = pickle.load(f)\n",
    "pubmed_vectors = pubmed_vectors.T"
   ]
  },
  {
   "cell_type": "markdown",
   "metadata": {},
   "source": [
    "# Get into Gensim "
   ]
  },
  {
   "cell_type": "code",
   "execution_count": 4,
   "metadata": {
    "collapsed": false
   },
   "outputs": [],
   "source": [
    "from gensim import corpora, models, similarities, matutils"
   ]
  },
  {
   "cell_type": "markdown",
   "metadata": {},
   "source": [
    "# Fold new document in here!"
   ]
  },
  {
   "cell_type": "code",
   "execution_count": 5,
   "metadata": {
    "collapsed": true
   },
   "outputs": [],
   "source": [
    "pubmed_tfidf_corpus = matutils.Sparse2Corpus(pubmed_vectors)"
   ]
  },
  {
   "cell_type": "code",
   "execution_count": 6,
   "metadata": {
    "collapsed": false
   },
   "outputs": [
    {
     "data": {
      "text/plain": [
       "(34866, 139)"
      ]
     },
     "execution_count": 6,
     "metadata": {},
     "output_type": "execute_result"
    }
   ],
   "source": [
    "pubmed_tfidf_corpus.sparse.toarray().shape"
   ]
  },
  {
   "cell_type": "code",
   "execution_count": 7,
   "metadata": {
    "collapsed": true
   },
   "outputs": [],
   "source": [
    "lsi = models.LsiModel(pubmed_tfidf_corpus, num_topics=50)"
   ]
  },
  {
   "cell_type": "code",
   "execution_count": 8,
   "metadata": {
    "collapsed": false
   },
   "outputs": [],
   "source": [
    "pm_lsi_corpus = lsi[pubmed_tfidf_corpus]"
   ]
  },
  {
   "cell_type": "code",
   "execution_count": 9,
   "metadata": {
    "collapsed": true
   },
   "outputs": [],
   "source": [
    "pm_doc_vecs = [doc for doc in pm_lsi_corpus]"
   ]
  },
  {
   "cell_type": "code",
   "execution_count": 10,
   "metadata": {
    "collapsed": true
   },
   "outputs": [],
   "source": [
    "index = similarities.MatrixSimilarity(pm_doc_vecs)"
   ]
  },
  {
   "cell_type": "code",
   "execution_count": 11,
   "metadata": {
    "collapsed": false
   },
   "outputs": [],
   "source": [
    "sims = sorted(enumerate(index[pm_doc_vecs[0]]), key=lambda item: -item[1])"
   ]
  },
  {
   "cell_type": "code",
   "execution_count": 12,
   "metadata": {
    "collapsed": false
   },
   "outputs": [
    {
     "data": {
      "text/plain": [
       "139"
      ]
     },
     "execution_count": 12,
     "metadata": {},
     "output_type": "execute_result"
    }
   ],
   "source": [
    "len(pm_doc_vecs)"
   ]
  },
  {
   "cell_type": "code",
   "execution_count": 13,
   "metadata": {
    "collapsed": false
   },
   "outputs": [
    {
     "data": {
      "text/plain": [
       "[(0, 1.0),\n",
       " (3, 0.69405693),\n",
       " (69, 0.51231152),\n",
       " (91, 0.48765099),\n",
       " (6, 0.43398595),\n",
       " (2, 0.37149402),\n",
       " (107, 0.36674857),\n",
       " (4, 0.34834832),\n",
       " (19, 0.34472984),\n",
       " (39, 0.31283337),\n",
       " (130, 0.27812722),\n",
       " (117, 0.26206151),\n",
       " (80, 0.25437516),\n",
       " (132, 0.24937442),\n",
       " (70, 0.24405691),\n",
       " (50, 0.22377279),\n",
       " (88, 0.22147742),\n",
       " (10, 0.21187729),\n",
       " (34, 0.19765945),\n",
       " (111, 0.18532899),\n",
       " (100, 0.18493994),\n",
       " (40, 0.17923959),\n",
       " (71, 0.17803332),\n",
       " (84, 0.17656326),\n",
       " (21, 0.17561924),\n",
       " (113, 0.16806211),\n",
       " (103, 0.16534157),\n",
       " (51, 0.16137202),\n",
       " (112, 0.1572367),\n",
       " (108, 0.15616457),\n",
       " (136, 0.15589312),\n",
       " (94, 0.15503488),\n",
       " (123, 0.15490776),\n",
       " (48, 0.1508712),\n",
       " (104, 0.14794001),\n",
       " (74, 0.14757919),\n",
       " (106, 0.14393575),\n",
       " (122, 0.13968067),\n",
       " (42, 0.13904804),\n",
       " (8, 0.13826336),\n",
       " (116, 0.13540858),\n",
       " (126, 0.13494214),\n",
       " (13, 0.13380307),\n",
       " (96, 0.13303068),\n",
       " (65, 0.13280559),\n",
       " (129, 0.13165785),\n",
       " (78, 0.13101999),\n",
       " (101, 0.13018712),\n",
       " (124, 0.12973),\n",
       " (81, 0.12586853),\n",
       " (29, 0.1246248),\n",
       " (120, 0.11938613),\n",
       " (44, 0.11925557),\n",
       " (86, 0.11665958),\n",
       " (60, 0.11192644),\n",
       " (63, 0.10694265),\n",
       " (30, 0.10526095),\n",
       " (83, 0.10481529),\n",
       " (114, 0.10246304),\n",
       " (98, 0.10192783),\n",
       " (105, 0.10009399),\n",
       " (97, 0.098136932),\n",
       " (56, 0.097484306),\n",
       " (9, 0.092487499),\n",
       " (64, 0.091488957),\n",
       " (12, 0.09143208),\n",
       " (20, 0.091152079),\n",
       " (7, 0.090425342),\n",
       " (73, 0.0899266),\n",
       " (134, 0.088729888),\n",
       " (67, 0.08867161),\n",
       " (57, 0.088367835),\n",
       " (11, 0.088208735),\n",
       " (45, 0.087957822),\n",
       " (54, 0.087094635),\n",
       " (58, 0.08528401),\n",
       " (31, 0.084729291),\n",
       " (41, 0.079707876),\n",
       " (128, 0.078848548),\n",
       " (14, 0.077854492),\n",
       " (24, 0.077304378),\n",
       " (131, 0.076940209),\n",
       " (121, 0.076875985),\n",
       " (137, 0.075189181),\n",
       " (59, 0.071617335),\n",
       " (15, 0.070780382),\n",
       " (92, 0.070226386),\n",
       " (25, 0.06623207),\n",
       " (5, 0.065215953),\n",
       " (99, 0.064554833),\n",
       " (53, 0.064314306),\n",
       " (119, 0.064123847),\n",
       " (37, 0.063980639),\n",
       " (66, 0.063376486),\n",
       " (89, 0.063249201),\n",
       " (109, 0.062906221),\n",
       " (138, 0.061164949),\n",
       " (95, 0.060255937),\n",
       " (135, 0.058742221),\n",
       " (77, 0.057302546),\n",
       " (17, 0.055619042),\n",
       " (82, 0.055542931),\n",
       " (125, 0.053001091),\n",
       " (118, 0.052405193),\n",
       " (23, 0.051578976),\n",
       " (55, 0.05096592),\n",
       " (93, 0.048047904),\n",
       " (18, 0.047910001),\n",
       " (38, 0.045734968),\n",
       " (35, 0.044484377),\n",
       " (43, 0.044466998),\n",
       " (22, 0.042704888),\n",
       " (87, 0.040154539),\n",
       " (36, 0.039525319),\n",
       " (115, 0.039247885),\n",
       " (61, 0.038462866),\n",
       " (127, 0.036707025),\n",
       " (1, 0.036373757),\n",
       " (79, 0.03547211),\n",
       " (72, 0.035096783),\n",
       " (49, 0.033087753),\n",
       " (33, 0.03129936),\n",
       " (102, 0.01840226),\n",
       " (85, 0.017838903),\n",
       " (133, 0.016983654),\n",
       " (90, 0.01453842),\n",
       " (62, 0.013196198),\n",
       " (26, 0.0090796761),\n",
       " (28, 0.0060622655),\n",
       " (32, -0.0034952154),\n",
       " (110, -0.0043701082),\n",
       " (27, -0.0088951746),\n",
       " (68, -0.010782951),\n",
       " (76, -0.013295718),\n",
       " (52, -0.014621809),\n",
       " (47, -0.026126564),\n",
       " (16, -0.044815719),\n",
       " (75, -0.050177336),\n",
       " (46, -0.067647859)]"
      ]
     },
     "execution_count": 13,
     "metadata": {},
     "output_type": "execute_result"
    }
   ],
   "source": [
    "sims"
   ]
  },
  {
   "cell_type": "code",
   "execution_count": 14,
   "metadata": {
    "collapsed": false
   },
   "outputs": [
    {
     "data": {
      "text/plain": [
       "[(0, 0.23938720669661348),\n",
       " (1, -0.10860164908874695),\n",
       " (2, 0.023694159330602167),\n",
       " (3, -0.014458556444388936),\n",
       " (4, 0.11351837307141158),\n",
       " (5, -0.0021081369741661523),\n",
       " (6, 0.056133002606608674),\n",
       " (7, -0.045761078786739184),\n",
       " (8, 0.12632636605417391),\n",
       " (9, -0.12898827203260893),\n",
       " (10, 0.060988359060114093),\n",
       " (11, -0.027500675749228595),\n",
       " (12, 0.073836788448605861),\n",
       " (13, -0.0028890381925739993),\n",
       " (14, 0.14835069434639689),\n",
       " (15, -0.16400716415348687),\n",
       " (16, 0.088799824469439417),\n",
       " (17, -0.11009590775977031),\n",
       " (18, 0.09186964359999282),\n",
       " (19, -0.02127747333528195),\n",
       " (20, 0.093067287502459239),\n",
       " (21, -0.032120510972135294),\n",
       " (22, 0.10649768115936877),\n",
       " (23, -0.010873143441464277),\n",
       " (24, 0.050227553498244655),\n",
       " (25, -0.04154391914595592),\n",
       " (26, 0.068733997036915198),\n",
       " (27, -0.0080800217485859239),\n",
       " (28, -0.030707753680036049),\n",
       " (29, 0.11932418674030894),\n",
       " (30, 0.15636407501018856),\n",
       " (31, -0.16560922165810987),\n",
       " (32, 0.068981155868742719),\n",
       " (33, 0.02352566966161599),\n",
       " (34, -0.23858330974712824),\n",
       " (35, -0.12217072201810626),\n",
       " (36, 0.048152960014910214),\n",
       " (37, 0.070873106743127426),\n",
       " (38, 0.097354748518621276),\n",
       " (39, 0.044848038754288791),\n",
       " (40, -0.22432209893877589),\n",
       " (41, -0.038734383400551409),\n",
       " (42, 0.016605297184895711),\n",
       " (43, 0.058932107045733692),\n",
       " (44, 0.13744878442177791),\n",
       " (45, 0.03649505419199435),\n",
       " (46, 0.11501837747650899),\n",
       " (47, -0.094850574042221844),\n",
       " (48, -0.10272551499628632),\n",
       " (49, -0.11247954530305589)]"
      ]
     },
     "execution_count": 14,
     "metadata": {},
     "output_type": "execute_result"
    }
   ],
   "source": [
    "pm_doc_vecs"
   ]
  },
  {
   "cell_type": "code",
   "execution_count": null,
   "metadata": {
    "collapsed": true
   },
   "outputs": [],
   "source": []
  },
  {
   "cell_type": "code",
   "execution_count": null,
   "metadata": {
    "collapsed": true
   },
   "outputs": [],
   "source": []
  },
  {
   "cell_type": "code",
   "execution_count": null,
   "metadata": {
    "collapsed": true
   },
   "outputs": [],
   "source": []
  },
  {
   "cell_type": "code",
   "execution_count": null,
   "metadata": {
    "collapsed": true
   },
   "outputs": [],
   "source": []
  },
  {
   "cell_type": "code",
   "execution_count": null,
   "metadata": {
    "collapsed": true
   },
   "outputs": [],
   "source": []
  },
  {
   "cell_type": "code",
   "execution_count": null,
   "metadata": {
    "collapsed": true
   },
   "outputs": [],
   "source": []
  },
  {
   "cell_type": "code",
   "execution_count": null,
   "metadata": {
    "collapsed": true
   },
   "outputs": [],
   "source": []
  },
  {
   "cell_type": "code",
   "execution_count": null,
   "metadata": {
    "collapsed": true
   },
   "outputs": [],
   "source": []
  },
  {
   "cell_type": "code",
   "execution_count": null,
   "metadata": {
    "collapsed": true
   },
   "outputs": [],
   "source": []
  },
  {
   "cell_type": "code",
   "execution_count": null,
   "metadata": {
    "collapsed": true
   },
   "outputs": [],
   "source": []
  },
  {
   "cell_type": "code",
   "execution_count": null,
   "metadata": {
    "collapsed": true
   },
   "outputs": [],
   "source": []
  },
  {
   "cell_type": "code",
   "execution_count": null,
   "metadata": {
    "collapsed": true
   },
   "outputs": [],
   "source": []
  }
 ],
 "metadata": {
  "kernelspec": {
   "display_name": "Python 2",
   "language": "python",
   "name": "python2"
  },
  "language_info": {
   "codemirror_mode": {
    "name": "ipython",
    "version": 2
   },
   "file_extension": ".py",
   "mimetype": "text/x-python",
   "name": "python",
   "nbconvert_exporter": "python",
   "pygments_lexer": "ipython2",
   "version": "2.7.11"
  }
 },
 "nbformat": 4,
 "nbformat_minor": 0
}
