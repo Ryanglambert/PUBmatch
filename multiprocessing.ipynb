{
 "cells": [
  {
   "cell_type": "markdown",
   "metadata": {},
   "source": [
    "# Make BoW, TFIDF, Lsi"
   ]
  },
  {
   "cell_type": "code",
   "execution_count": 65,
   "metadata": {
    "collapsed": false
   },
   "outputs": [],
   "source": [
    "from tfidf_pm import *\n",
    "pubmed_corpus = PubmedCorpus()"
   ]
  },
  {
   "cell_type": "code",
   "execution_count": 66,
   "metadata": {
    "collapsed": false
   },
   "outputs": [],
   "source": [
    "pubmed_corpus.load_corpus()"
   ]
  },
  {
   "cell_type": "code",
   "execution_count": 67,
   "metadata": {
    "collapsed": false
   },
   "outputs": [
    {
     "data": {
      "text/plain": [
       "[(49, 1), (561, 1)]"
      ]
     },
     "execution_count": 67,
     "metadata": {},
     "output_type": "execute_result"
    }
   ],
   "source": [
    "pubmed_corpus.dictionary.doc2bow(['yo', 'yellow', 'circumference', 'obesity'])"
   ]
  },
  {
   "cell_type": "code",
   "execution_count": null,
   "metadata": {
    "collapsed": false
   },
   "outputs": [],
   "source": [
    "pubmed_tfidf = models.TfidfModel(pubmed_corpus, normalize=True)\n",
    "pubmed_tfidf.save(os.path.join(SAVE_LOCATION, 'pubmed_tfidf'))\n",
    "\n",
    "pubmed_corpus_tfidf = pubmed_tfidf[pubmed_corpus]\n",
    "pubmed_corpus_tfidf.save(os.path.join(SAVE_LOCATION, 'pubmed_corpus_tfidf'))\n",
    "\n",
    "pubmed_lsi = models.LsiModel(pubmed_corpus_tfidf, \n",
    "                             id2word=pubmed_corpus.dictionary, \n",
    "                             num_topics=200)\n",
    "pubmed_corpus_lsi = pubmed_lsi[pubmed_corpus_tfidf]\n",
    "pubmed_lsi.save(os.path.join(SAVE_LOCATION, 'pubmed_lsi'))"
   ]
  },
  {
   "cell_type": "markdown",
   "metadata": {},
   "source": [
    "##### save dictionary"
   ]
  },
  {
   "cell_type": "code",
   "execution_count": 68,
   "metadata": {
    "collapsed": true
   },
   "outputs": [],
   "source": [
    "corpora.MmCorpus.serialize('./pmc_models_serialized/pubmed_corpus.mm', pubmed_corpus)"
   ]
  },
  {
   "cell_type": "markdown",
   "metadata": {},
   "source": [
    "### Folding in a new document and loading models\n",
    "\n",
    "tfidf = models.tfidfmodel.TfidfModel.load('tfidf')\n",
    "\n",
    "lsi = models.LsiModel.load('lsi')\n",
    "\n",
    "Create an index transformer that calculates similarity based on our space\n",
    " \n",
    "test_index1 = similarities.MatrixSimilarity(test_lsi1)"
   ]
  },
  {
   "cell_type": "code",
   "execution_count": 69,
   "metadata": {
    "collapsed": true
   },
   "outputs": [],
   "source": [
    "pubmed_corpus = PubmedCorpus()"
   ]
  },
  {
   "cell_type": "code",
   "execution_count": 75,
   "metadata": {
    "collapsed": true
   },
   "outputs": [],
   "source": [
    "something = corpora.mmcorpus.MmCorpus('./pmc_models_serialized/pubmed_corpus.mm')"
   ]
  },
  {
   "cell_type": "code",
   "execution_count": null,
   "metadata": {
    "collapsed": false
   },
   "outputs": [],
   "source": [
    "something.load"
   ]
  },
  {
   "cell_type": "code",
   "execution_count": 71,
   "metadata": {
    "collapsed": true
   },
   "outputs": [],
   "source": [
    "??pubmed_corpus.dictionary.load"
   ]
  },
  {
   "cell_type": "code",
   "execution_count": 33,
   "metadata": {
    "collapsed": false
   },
   "outputs": [
    {
     "data": {
      "text/plain": [
       "[]"
      ]
     },
     "execution_count": 33,
     "metadata": {},
     "output_type": "execute_result"
    }
   ],
   "source": [
    "pubmed_corpus.dictionary.doc2bow(['yo', 'yellow', 'circumference', 'obesity'])"
   ]
  },
  {
   "cell_type": "code",
   "execution_count": 72,
   "metadata": {
    "collapsed": true
   },
   "outputs": [],
   "source": [
    "??corpora.MmCorpus"
   ]
  },
  {
   "cell_type": "code",
   "execution_count": null,
   "metadata": {
    "collapsed": true
   },
   "outputs": [],
   "source": []
  },
  {
   "cell_type": "code",
   "execution_count": 51,
   "metadata": {
    "collapsed": true
   },
   "outputs": [],
   "source": [
    "??models.TfidfModel"
   ]
  },
  {
   "cell_type": "code",
   "execution_count": 53,
   "metadata": {
    "collapsed": true
   },
   "outputs": [],
   "source": [
    "??corpora.TextCorpus"
   ]
  },
  {
   "cell_type": "code",
   "execution_count": 54,
   "metadata": {
    "collapsed": true
   },
   "outputs": [],
   "source": [
    "??interfaces.CorpusABC"
   ]
  },
  {
   "cell_type": "code",
   "execution_count": null,
   "metadata": {
    "collapsed": true
   },
   "outputs": [],
   "source": [
    "pubmed_corpus.dictionary."
   ]
  },
  {
   "cell_type": "code",
   "execution_count": null,
   "metadata": {
    "collapsed": true
   },
   "outputs": [],
   "source": []
  },
  {
   "cell_type": "code",
   "execution_count": null,
   "metadata": {
    "collapsed": true
   },
   "outputs": [],
   "source": []
  },
  {
   "cell_type": "code",
   "execution_count": null,
   "metadata": {
    "collapsed": true
   },
   "outputs": [],
   "source": []
  },
  {
   "cell_type": "code",
   "execution_count": null,
   "metadata": {
    "collapsed": true
   },
   "outputs": [],
   "source": []
  },
  {
   "cell_type": "code",
   "execution_count": null,
   "metadata": {
    "collapsed": true
   },
   "outputs": [],
   "source": []
  },
  {
   "cell_type": "code",
   "execution_count": null,
   "metadata": {
    "collapsed": true
   },
   "outputs": [],
   "source": []
  },
  {
   "cell_type": "code",
   "execution_count": null,
   "metadata": {
    "collapsed": true
   },
   "outputs": [],
   "source": []
  },
  {
   "cell_type": "code",
   "execution_count": null,
   "metadata": {
    "collapsed": true
   },
   "outputs": [],
   "source": []
  },
  {
   "cell_type": "code",
   "execution_count": null,
   "metadata": {
    "collapsed": true
   },
   "outputs": [],
   "source": []
  },
  {
   "cell_type": "code",
   "execution_count": null,
   "metadata": {
    "collapsed": true
   },
   "outputs": [],
   "source": []
  },
  {
   "cell_type": "code",
   "execution_count": null,
   "metadata": {
    "collapsed": true
   },
   "outputs": [],
   "source": []
  },
  {
   "cell_type": "code",
   "execution_count": null,
   "metadata": {
    "collapsed": true
   },
   "outputs": [],
   "source": []
  },
  {
   "cell_type": "code",
   "execution_count": null,
   "metadata": {
    "collapsed": true
   },
   "outputs": [],
   "source": []
  },
  {
   "cell_type": "code",
   "execution_count": null,
   "metadata": {
    "collapsed": true
   },
   "outputs": [],
   "source": [
    "dictionary = corpora.Dictionary()"
   ]
  },
  {
   "cell_type": "code",
   "execution_count": null,
   "metadata": {
    "collapsed": false
   },
   "outputs": [],
   "source": [
    "dictionary.doc2bow(['hello', 'something'])"
   ]
  },
  {
   "cell_type": "code",
   "execution_count": null,
   "metadata": {
    "collapsed": true
   },
   "outputs": [],
   "source": [
    "class thing:\n",
    "    def __init__(self):\n",
    "        self.array = [(1, 2, 3), (3,3, 3) , (2, 2, 2)]\n",
    "    \n",
    "    def __iter__(self):\n",
    "        for i, j, k in self.array:\n",
    "            yield i * 2\n",
    "            \n",
    "    def load_stuff(self):\n",
    "        for i in self:\n",
    "            print i\n",
    "            \n",
    "    def again(self):\n",
    "        for i in self:\n",
    "            print i"
   ]
  },
  {
   "cell_type": "code",
   "execution_count": null,
   "metadata": {
    "collapsed": true
   },
   "outputs": [],
   "source": [
    "a = thing()"
   ]
  },
  {
   "cell_type": "code",
   "execution_count": null,
   "metadata": {
    "collapsed": false
   },
   "outputs": [],
   "source": [
    "a.load_stuff()"
   ]
  },
  {
   "cell_type": "code",
   "execution_count": null,
   "metadata": {
    "collapsed": true
   },
   "outputs": [],
   "source": []
  },
  {
   "cell_type": "code",
   "execution_count": null,
   "metadata": {
    "collapsed": true
   },
   "outputs": [],
   "source": [
    "# class PubmedCorpus(corpora.TextCorpus):\n",
    "    \n",
    "#     def get_texts(self):\n",
    "#         directory = os.walk(self.input)\n",
    "#         for root, dirs, files in directory:\n",
    "#             for file_name in files:\n",
    "#                 file_path = os.path.join(root, file_name)\n",
    "#                 with open(file_path, 'rb') as f:\n",
    "#                     file_string = to_unicode_or_bust(f.read().lower())\n",
    "#                     file_tokenized = word_tokenize(file_string)\n",
    "#                     file_no_stops = [word for word in file_tokenized if word not in STOP_WORDS]\n",
    "#                     yield file_no_stops\n",
    "\n",
    "# class PubmedCorpus(corpora.TextCorpus):\n",
    "        \n",
    "#     def get_texts(self):\n",
    "#         for file_path in self.input:\n",
    "#             with open(file_path, 'rb') as f:\n",
    "#                 file_string = to_unicode_or_bust(f.read().lower())\n",
    "#                 file_tokenized = word_tokenize(file_string)\n",
    "#                 file_no_stops = [word for word in file_tokenized if word not in STOP_WORDS]\n",
    "#                 yield file_no_stops\n",
    "                    \n",
    "                \n",
    "# def load_article_paths():\n",
    "#     for root, dirs, files in os.walk('./pmc_data/pmc_text_files/'):\n",
    "#         for name in files:\n",
    "#             ARTICLE_FILE_PATHS.append(os.path.join(root, name))\n",
    "#     genre_folders_left = len(GENRE_FOLDERS)\n",
    "#     completed_genre_folders = 0 \n",
    "#     for genre_folder in GENRE_FOLDERS:\n",
    "#         completed_genre_folders += 1\n",
    "#         genre_folder_path = os.path.join(DATA_PATH, genre_folder)\n",
    "#         genre_file_list = os.listdir(genre_folder_path)\n",
    "#         for article_file_title in genre_file_list:\n",
    "#             article_file_path = os.path.join(genre_folder_path, article_file_title)\n",
    "#             if os.path.isfile(article_file_path):\n",
    "#                 ARTICLE_FILE_TITLES.append(article_file_title)\n",
    "#                 ARTICLE_FILE_PATHS.append(article_file_path)\n",
    "# #                 with open(article_file_path, 'rb') as f:\n",
    "# #                     document = f.read()\n",
    "# #                     ARTICLE_DOCUMENT_LIST.append(document)\n",
    "\n",
    "#                 print \"done with: \", article_file_title\n",
    "#                 print \"progress: \", completed_genre_folders / float(genre_folders_left)\n",
    "#             else:\n",
    "#                 sub_article_folder_list = os.listdir(article_file_path)\n",
    "#                 for sub_article_file_title in sub_article_folder_list:\n",
    "#                     sub_article_file_path = os.path.join(article_file_path, \n",
    "#                             sub_article_file_title)\n",
    "#                     ARTICLE_FILE_TITLES.append(sub_article_file_title)\n",
    "#                     ARTICLE_FILE_PATHS.append(sub_article_file_path)\n",
    "# #                     with open(sub_article_file_path, 'rb') as f:\n",
    "# #                         document = f.read()\n",
    "# #                         ARTICLE_DOCUMENT_LIST.append(document)"
   ]
  },
  {
   "cell_type": "markdown",
   "metadata": {
    "collapsed": false
   },
   "source": [
    "### Pubmed Corpus from corpora.TextCorpus"
   ]
  },
  {
   "cell_type": "code",
   "execution_count": null,
   "metadata": {
    "collapsed": true
   },
   "outputs": [],
   "source": [
    "# class PubmedCorpus(corpora.TextCorpus):\n",
    "#     def __init__(self, input=None, data_folder=DATA_PATH):\n",
    "#         super(TextCorpus, self).__init__()\n",
    "#         self.input = None\n",
    "#         self.data_folder = os.walk(data_folder)\n",
    "#         self.dictionary = Dictionary()\n",
    "#         self.metadata = False        \n",
    "#         if data_folder is not None:\n",
    "#             self.dictionary.add_documents\n",
    "    \n",
    "#     def __iter__(self):\n",
    "        \n",
    "        \n",
    "#     def get_texts(self, file_name):\n",
    "#         with open(file_name, 'rb') as doc_file:\n",
    "#             doc = doc_file.read()\n",
    "#             doc_tokenized = utils.tokenize(doc, lowercase=True)\n",
    "#             doc_tokenized = [word for word in doc_tokenized if word not in STOP_WORDS]\n",
    "#             yield doc_tokenized\n",
    "\n",
    "                    \n",
    "# #         for doc_file in self.input:\n",
    "# #             with open(doc_file, 'rb') as doc:\n",
    "# #                 doc_text = doc.read()\n",
    "# #                 tokenized_text = [token for token in utils.tokenize(doc_text, \n",
    "# #                                                                     lowercase=True)]\n",
    "# #                 tokenized_text = [word for word in tokenized_text if word not in STOP_WORDS]\n",
    "# #                 self.dictionary.add_documents([tokenized_text])\n",
    "# #                 yield self.dictionary.doc2bow(tokenized_text, allow_update=False)\n",
    "                \n",
    "        \n",
    "        \n",
    "        \n",
    "        \n",
    "# #         directory = os.walk(self.input)\n",
    "# #         for root, dirs, files in directory:\n",
    "# #             for file_name in files:\n",
    "# #                 file_path = os.path.join(root, file_name)\n",
    "# #                 with open(file_path, 'rb') as f:\n",
    "# #                     file_string = to_unicode_or_bust(f.read().lower())\n",
    "# #                     file_tokenized = word_tokenize(file_string)\n",
    "# #                     file_no_stops = [word for word in file_tokenized if word not in STOP_WORDS]\n",
    "# #                     yield file_no_stops"
   ]
  },
  {
   "cell_type": "code",
   "execution_count": null,
   "metadata": {
    "collapsed": true
   },
   "outputs": [],
   "source": []
  },
  {
   "cell_type": "code",
   "execution_count": null,
   "metadata": {
    "collapsed": true
   },
   "outputs": [],
   "source": []
  },
  {
   "cell_type": "code",
   "execution_count": null,
   "metadata": {
    "collapsed": true
   },
   "outputs": [],
   "source": []
  },
  {
   "cell_type": "code",
   "execution_count": null,
   "metadata": {
    "collapsed": true
   },
   "outputs": [],
   "source": []
  },
  {
   "cell_type": "code",
   "execution_count": null,
   "metadata": {
    "collapsed": true
   },
   "outputs": [],
   "source": []
  },
  {
   "cell_type": "code",
   "execution_count": null,
   "metadata": {
    "collapsed": true
   },
   "outputs": [],
   "source": []
  },
  {
   "cell_type": "code",
   "execution_count": null,
   "metadata": {
    "collapsed": true
   },
   "outputs": [],
   "source": []
  },
  {
   "cell_type": "code",
   "execution_count": null,
   "metadata": {
    "collapsed": true
   },
   "outputs": [],
   "source": []
  },
  {
   "cell_type": "code",
   "execution_count": null,
   "metadata": {
    "collapsed": true
   },
   "outputs": [],
   "source": []
  },
  {
   "cell_type": "code",
   "execution_count": null,
   "metadata": {
    "collapsed": true
   },
   "outputs": [],
   "source": []
  },
  {
   "cell_type": "code",
   "execution_count": null,
   "metadata": {
    "collapsed": true
   },
   "outputs": [],
   "source": []
  },
  {
   "cell_type": "code",
   "execution_count": null,
   "metadata": {
    "collapsed": true
   },
   "outputs": [],
   "source": []
  },
  {
   "cell_type": "code",
   "execution_count": null,
   "metadata": {
    "collapsed": true
   },
   "outputs": [],
   "source": []
  },
  {
   "cell_type": "code",
   "execution_count": null,
   "metadata": {
    "collapsed": true
   },
   "outputs": [],
   "source": []
  },
  {
   "cell_type": "code",
   "execution_count": null,
   "metadata": {
    "collapsed": true
   },
   "outputs": [],
   "source": []
  },
  {
   "cell_type": "code",
   "execution_count": null,
   "metadata": {
    "collapsed": true
   },
   "outputs": [],
   "source": []
  },
  {
   "cell_type": "code",
   "execution_count": null,
   "metadata": {
    "collapsed": true
   },
   "outputs": [],
   "source": []
  }
 ],
 "metadata": {
  "kernelspec": {
   "display_name": "Python 2",
   "language": "python",
   "name": "python2"
  },
  "language_info": {
   "codemirror_mode": {
    "name": "ipython",
    "version": 2
   },
   "file_extension": ".py",
   "mimetype": "text/x-python",
   "name": "python",
   "nbconvert_exporter": "python",
   "pygments_lexer": "ipython2",
   "version": "2.7.11"
  }
 },
 "nbformat": 4,
 "nbformat_minor": 0
}
