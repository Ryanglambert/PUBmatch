{
 "cells": [
  {
   "cell_type": "markdown",
   "metadata": {},
   "source": [
    "# Make BoW, TFIDF, Lsi"
   ]
  },
  {
   "cell_type": "code",
   "execution_count": null,
   "metadata": {
    "collapsed": true
   },
   "outputs": [],
   "source": [
    "from tfidf_pm import *\n",
    "# pubmed_corpus = PubmedCorpus()"
   ]
  },
  {
   "cell_type": "markdown",
   "metadata": {},
   "source": [
    "##### load dictionary"
   ]
  },
  {
   "cell_type": "code",
   "execution_count": null,
   "metadata": {
    "collapsed": true
   },
   "outputs": [],
   "source": [
    "from tfidf_pm import *"
   ]
  },
  {
   "cell_type": "markdown",
   "metadata": {},
   "source": [
    "##### Load LSI and TFIDF models and Dictionaries for transforming"
   ]
  },
  {
   "cell_type": "code",
   "execution_count": null,
   "metadata": {
    "collapsed": true
   },
   "outputs": [],
   "source": [
    "# pubmed_corpus = corpora.MmCorpus('./pmc_models_serialized/pubmed_corpus.mm')"
   ]
  },
  {
   "cell_type": "code",
   "execution_count": null,
   "metadata": {
    "collapsed": false
   },
   "outputs": [],
   "source": [
    "# pubmed_dict = corpora.Dictionary.load('./pmc_models_serialized/pubmed_corpus.dict')"
   ]
  },
  {
   "cell_type": "code",
   "execution_count": null,
   "metadata": {
    "collapsed": true
   },
   "outputs": [],
   "source": [
    "pubmed_tfidf = models.tfidfmodel.TfidfModel.load('./pmc_models_serialized/pubmed_tfidf')\n",
    "# pubmed_corpus_tfidf = models.tfidfmodel.TfidfModel.load('./pmc_models_serialized/pubmed_corpus_tfidf')"
   ]
  },
  {
   "cell_type": "code",
   "execution_count": null,
   "metadata": {
    "collapsed": true
   },
   "outputs": [],
   "source": [
    "pubmed_lsi = models.LsiModel.load('./pmc_models_serialized/pubmed_lsi')\n",
    "pubmed_corpus_lsi = models.LsiModel.load('./pmc_models_serialized/pubmed_corpus_lsi')"
   ]
  },
  {
   "cell_type": "markdown",
   "metadata": {},
   "source": [
    "##### Make Similarity Matrix"
   ]
  },
  {
   "cell_type": "code",
   "execution_count": null,
   "metadata": {
    "collapsed": true
   },
   "outputs": [],
   "source": [
    "pubmed_sim = similarities.Similarity('/tmp/sim', pubmed_corpus_lsi, pubmed_lsi.num_topics)"
   ]
  },
  {
   "cell_type": "code",
   "execution_count": null,
   "metadata": {
    "collapsed": true
   },
   "outputs": [],
   "source": [
    "pubmed_sim.save('./pmc_models_serialized/pubmed_sim')"
   ]
  },
  {
   "cell_type": "markdown",
   "metadata": {},
   "source": [
    "### Folding in a new document and loading models\n",
    "\n",
    "tfidf = models.tfidfmodel.TfidfModel.load('tfidf')\n",
    "\n",
    "lsi = models.LsiModel.load('lsi')\n",
    "\n",
    "Create an index transformer that calculates similarity based on our space\n",
    " \n",
    "test_index1 = similarities.MatrixSimilarity(test_lsi1)"
   ]
  },
  {
   "cell_type": "markdown",
   "metadata": {},
   "source": [
    "##### Transform New Doc"
   ]
  },
  {
   "cell_type": "code",
   "execution_count": 5,
   "metadata": {
    "collapsed": true
   },
   "outputs": [],
   "source": [
    "new_doc = \"\"\"\n",
    "The abnormal position of the testis is the most common congenital anomaly of genitalia in men, with two different periods of presentation: either early in life, commonly called congenital undescended testes, or a few years later, called acquired or ascending testes. In the second group, it seems that the testis has been positioned properly at an early stage of growth, but has subsequently left its normal scrotal position to occupy the inguinal area. This group is quite controversial, as some authors considered these cases to be misdiagnoses owing to an error in physical examination.1 The cumulative experience of qualified examiners, however, suggests that this is a real phenomenon,2 which explains the increasing proportion of orchidopexies performed in late infancy.3 obesity obesity obesity circumference huge huge large large large cigarettesobesity obesity obesity circumference huge huge large large large cigarettesobesity obesity obesity circumference huge huge large large large cigarettesobesity obesity obesity circumference huge huge large large large cigarettesobesity obesity obesity circumference huge huge large large large cigarettesobesity obesity obesity circumference huge huge large large large cigarettesobesity obesity obesity circumference huge huge large large large cigarettesobesity obesity obesity circumference huge huge large large large cigarettesobesity obesity obesity circumference huge huge large large large cigarettesobesity obesity obesity circumference huge huge large large large cigarettesobesity obesity obesity circumference huge huge large large large cigarettes\"\"\""
   ]
  },
  {
   "cell_type": "code",
   "execution_count": 6,
   "metadata": {
    "collapsed": true
   },
   "outputs": [],
   "source": [
    "new_doc = utils.tokenize(new_doc)"
   ]
  },
  {
   "cell_type": "code",
   "execution_count": 7,
   "metadata": {
    "collapsed": false
   },
   "outputs": [],
   "source": [
    "new_doc_bow = pubmed_corpus_lsi.corpus.corpus.dictionary.doc2bow(new_doc)"
   ]
  },
  {
   "cell_type": "code",
   "execution_count": 8,
   "metadata": {
    "collapsed": false
   },
   "outputs": [],
   "source": [
    "new_doc_tfidf = pubmed_tfidf[new_doc_bow]"
   ]
  },
  {
   "cell_type": "code",
   "execution_count": 9,
   "metadata": {
    "collapsed": false
   },
   "outputs": [],
   "source": [
    "new_doc_lsi = pubmed_lsi[new_doc_tfidf]"
   ]
  },
  {
   "cell_type": "code",
   "execution_count": 10,
   "metadata": {
    "collapsed": true
   },
   "outputs": [
    {
     "data": {
      "text/plain": [
       "[(0, -0.12000446291369563),\n",
       " (1, 0.20150191950928154),\n",
       " (2, -0.045225862478399118),\n",
       " (3, -0.053866822432977655),\n",
       " (4, -0.026808551135531457),\n",
       " (5, -0.03838459278510669),\n",
       " (6, -0.018883901450622857),\n",
       " (7, 0.017147405511320553),\n",
       " (8, -0.029993826708680168),\n",
       " (9, 0.035487177557742625),\n",
       " (10, 0.019654076525946359),\n",
       " (11, 0.020371078517634415),\n",
       " (12, 0.0020395792132859017),\n",
       " (13, -0.0076387136955628097),\n",
       " (14, 0.0044546927074813778),\n",
       " (15, -0.0027367587254059854),\n",
       " (16, 0.0083795018318535766),\n",
       " (17, 0.015525374899008017),\n",
       " (18, -0.019949175190026817),\n",
       " (19, -0.0015975524484670481),\n",
       " (20, -0.00069886653782304708),\n",
       " (21, 0.005762389101559723),\n",
       " (22, 0.012153077636187259),\n",
       " (23, 0.00054767702911859837),\n",
       " (24, 0.016345075319382129),\n",
       " (25, -0.0077603459214458164),\n",
       " (26, 0.0025975282370102356),\n",
       " (27, 0.014801422447714012),\n",
       " (28, 0.012066774889209552),\n",
       " (29, 0.011321961133926544),\n",
       " (30, 0.0041440503695063203),\n",
       " (31, 0.013937350414204913),\n",
       " (32, 0.0169204719284206),\n",
       " (33, 0.0052728681883941518),\n",
       " (34, 0.025085481202304253),\n",
       " (35, -0.017017472084114769),\n",
       " (36, 0.0043196458490129897),\n",
       " (37, 0.0043463688322540415),\n",
       " (38, -0.0070428901951003669),\n",
       " (39, 0.026045163035237986),\n",
       " (40, 0.0074282707645289131),\n",
       " (41, 0.00964105719713086),\n",
       " (42, -0.0094847513586168442),\n",
       " (43, 0.011085292412957764),\n",
       " (44, -0.0042861343455748461),\n",
       " (45, -0.00067888894056867069),\n",
       " (46, 0.0095304803660665703),\n",
       " (47, 0.004936900495130226),\n",
       " (48, 0.0010619818788506613),\n",
       " (49, -0.0059489114579782581),\n",
       " (50, -0.00020999179903305335),\n",
       " (51, 0.00041007488544045204),\n",
       " (52, 0.0089026960088858728),\n",
       " (53, 0.0056679518317142453),\n",
       " (54, 0.0096355893159964547),\n",
       " (55, 0.0013588416155409333),\n",
       " (56, -0.0089499998522726918),\n",
       " (57, -0.0006995686705501212),\n",
       " (58, -0.014991774561898867),\n",
       " (59, -0.010208673982838505),\n",
       " (60, -0.006584278038539202),\n",
       " (61, -0.013908552724462351),\n",
       " (62, -0.015905801686592117),\n",
       " (63, 0.013334922198072804),\n",
       " (64, 0.00040423656376668691),\n",
       " (65, 0.0088958140193360694),\n",
       " (66, 0.0051142078693338167),\n",
       " (67, -0.008177701856067426),\n",
       " (68, -0.0043548102960815982),\n",
       " (69, -0.031479211138829344),\n",
       " (70, 0.0033323517065209298),\n",
       " (71, -0.020872377445651378),\n",
       " (72, -0.0029318534210253863),\n",
       " (73, 0.0021019072540816482),\n",
       " (74, -0.0051993857734365118),\n",
       " (75, 0.022639242667259529),\n",
       " (76, -0.0048598309548936267),\n",
       " (77, 0.0402562632577547),\n",
       " (78, 0.0082302319273938745),\n",
       " (79, 0.011089587984778349),\n",
       " (80, 0.023709368025191902),\n",
       " (81, -0.0019317561812491274),\n",
       " (82, -0.00047852534378911381),\n",
       " (83, -0.015302711209859805),\n",
       " (84, -0.023396654221211604),\n",
       " (85, -0.013864739266644012),\n",
       " (86, 0.014028646800706363),\n",
       " (87, -0.0028357969643033483),\n",
       " (88, -0.0053650243832315684),\n",
       " (89, 0.0015781318242459234),\n",
       " (90, -0.015311049690957663),\n",
       " (91, 0.0019332442373646446),\n",
       " (92, -0.013752766200932817),\n",
       " (93, -0.0130973761201759),\n",
       " (94, -0.011735559856118911),\n",
       " (95, 0.00050511535014496358),\n",
       " (96, -0.01779990687682273),\n",
       " (97, -0.0079180239872123359),\n",
       " (98, 0.0084066137400135299),\n",
       " (99, 0.0074235972817301814),\n",
       " (100, -0.0088455803978021424),\n",
       " (101, 0.0032880743508665808),\n",
       " (102, -0.022405395160806914),\n",
       " (103, -0.014166970223843724),\n",
       " (104, 0.0069276021198404038),\n",
       " (105, -0.0091170237314596395),\n",
       " (106, -6.9696530332288628e-05),\n",
       " (107, 0.022877033691828592),\n",
       " (108, 0.0032898754122646606),\n",
       " (109, -0.0042314658095130272),\n",
       " (110, -0.032541578509872507),\n",
       " (111, 0.033986670674097892),\n",
       " (112, -0.017218020159630341),\n",
       " (113, 0.021172563750721209),\n",
       " (114, 0.037088414457646428),\n",
       " (115, 0.015155429261134916),\n",
       " (116, 0.035491519637796252),\n",
       " (117, -0.024463951254191554),\n",
       " (118, 0.014929214391875726),\n",
       " (119, -0.01060370111378814),\n",
       " (120, 0.0087288416916745069),\n",
       " (121, 0.012164341544001363),\n",
       " (122, -0.00021264499947773989),\n",
       " (123, -0.0063651173477006469),\n",
       " (124, -0.028804379507832198),\n",
       " (125, -0.052906028582252657),\n",
       " (126, -0.0065253588714828921),\n",
       " (127, -0.013965399473961851),\n",
       " (128, -0.033249703529001202),\n",
       " (129, 0.0041678827530616707),\n",
       " (130, 0.0036630680802195196),\n",
       " (131, -0.013157764350523644),\n",
       " (132, 0.0029053803629789307)]"
      ]
     },
     "execution_count": 10,
     "metadata": {},
     "output_type": "execute_result"
    }
   ],
   "source": [
    "new_doc_lsi"
   ]
  },
  {
   "cell_type": "code",
   "execution_count": null,
   "metadata": {
    "collapsed": false
   },
   "outputs": [],
   "source": []
  },
  {
   "cell_type": "markdown",
   "metadata": {},
   "source": [
    "##### Load similarity object"
   ]
  },
  {
   "cell_type": "code",
   "execution_count": 1,
   "metadata": {
    "collapsed": true
   },
   "outputs": [],
   "source": [
    "from tfidf_pm import *"
   ]
  },
  {
   "cell_type": "code",
   "execution_count": 2,
   "metadata": {
    "collapsed": false
   },
   "outputs": [],
   "source": [
    "pubmed_sim = similarities.Similarity.load('./pmc_models_serialized/pubmed_sim')"
   ]
  },
  {
   "cell_type": "code",
   "execution_count": 3,
   "metadata": {
    "collapsed": true
   },
   "outputs": [],
   "source": [
    "pubmed_tfidf = models.tfidfmodel.TfidfModel.load('./pmc_models_serialized/pubmed_tfidf')\n",
    "# pubmed_corpus_tfidf = models.tfidfmodel.TfidfModel.load('./pmc_models_serialized/pubmed_corpus_tfidf')"
   ]
  },
  {
   "cell_type": "code",
   "execution_count": 4,
   "metadata": {
    "collapsed": true
   },
   "outputs": [],
   "source": [
    "pubmed_lsi = models.LsiModel.load('./pmc_models_serialized/pubmed_lsi')\n",
    "pubmed_corpus_lsi = models.LsiModel.load('./pmc_models_serialized/pubmed_corpus_lsi')"
   ]
  },
  {
   "cell_type": "markdown",
   "metadata": {},
   "source": [
    "##### Load transform new doc"
   ]
  },
  {
   "cell_type": "code",
   "execution_count": 11,
   "metadata": {
    "collapsed": true
   },
   "outputs": [],
   "source": [
    "new_doc = \"\"\"\n",
    "The abnormal position of the testis is the most common congenital anomaly of genitalia in men, with two different periods of presentation: either early in life, commonly called congenital undescended testes, or a few years later, called acquired or ascending testes. In the second group, it seems that the testis has been positioned properly at an early stage of growth, but has subsequently left its normal scrotal position to occupy the inguinal area. This group is quite controversial, as some authors considered these cases to be misdiagnoses owing to an error in physical examination.1 The cumulative experience of qualified examiners, however, suggests that this is a real phenomenon,2 which explains the increasing proportion of orchidopexies performed in late infancy.3 obesity obesity obesity circumference huge huge large large large cigarettesobesity obesity obesity circumference huge huge large large large cigarettesobesity obesity obesity circumference huge huge large large large cigarettesobesity obesity obesity circumference huge huge large large large cigarettesobesity obesity obesity circumference huge huge large large large cigarettesobesity obesity obesity circumference huge huge large large large cigarettesobesity obesity obesity circumference huge huge large large large cigarettesobesity obesity obesity circumference huge huge large large large cigarettesobesity obesity obesity circumference huge huge large large large cigarettesobesity obesity obesity circumference huge huge large large large cigarettesobesity obesity obesity circumference huge huge large large large cigarettes\"\"\""
   ]
  },
  {
   "cell_type": "code",
   "execution_count": 12,
   "metadata": {
    "collapsed": true
   },
   "outputs": [],
   "source": [
    "new_doc = utils.tokenize(new_doc)"
   ]
  },
  {
   "cell_type": "code",
   "execution_count": 13,
   "metadata": {
    "collapsed": false
   },
   "outputs": [],
   "source": [
    "new_doc_bow = pubmed_corpus_lsi.corpus.corpus.dictionary.doc2bow(new_doc)"
   ]
  },
  {
   "cell_type": "code",
   "execution_count": 14,
   "metadata": {
    "collapsed": false
   },
   "outputs": [],
   "source": [
    "new_doc_tfidf = pubmed_tfidf[new_doc_bow]"
   ]
  },
  {
   "cell_type": "code",
   "execution_count": 15,
   "metadata": {
    "collapsed": false
   },
   "outputs": [],
   "source": [
    "new_doc_lsi = pubmed_lsi[new_doc_tfidf]"
   ]
  },
  {
   "cell_type": "code",
   "execution_count": 16,
   "metadata": {
    "collapsed": true
   },
   "outputs": [
    {
     "data": {
      "text/plain": [
       "[(0, -0.12000446291369563),\n",
       " (1, 0.20150191950928154),\n",
       " (2, -0.045225862478399118),\n",
       " (3, -0.053866822432977655),\n",
       " (4, -0.026808551135531457),\n",
       " (5, -0.03838459278510669),\n",
       " (6, -0.018883901450622857),\n",
       " (7, 0.017147405511320553),\n",
       " (8, -0.029993826708680168),\n",
       " (9, 0.035487177557742625),\n",
       " (10, 0.019654076525946359),\n",
       " (11, 0.020371078517634415),\n",
       " (12, 0.0020395792132859017),\n",
       " (13, -0.0076387136955628097),\n",
       " (14, 0.0044546927074813778),\n",
       " (15, -0.0027367587254059854),\n",
       " (16, 0.0083795018318535766),\n",
       " (17, 0.015525374899008017),\n",
       " (18, -0.019949175190026817),\n",
       " (19, -0.0015975524484670481),\n",
       " (20, -0.00069886653782304708),\n",
       " (21, 0.005762389101559723),\n",
       " (22, 0.012153077636187259),\n",
       " (23, 0.00054767702911859837),\n",
       " (24, 0.016345075319382129),\n",
       " (25, -0.0077603459214458164),\n",
       " (26, 0.0025975282370102356),\n",
       " (27, 0.014801422447714012),\n",
       " (28, 0.012066774889209552),\n",
       " (29, 0.011321961133926544),\n",
       " (30, 0.0041440503695063203),\n",
       " (31, 0.013937350414204913),\n",
       " (32, 0.0169204719284206),\n",
       " (33, 0.0052728681883941518),\n",
       " (34, 0.025085481202304253),\n",
       " (35, -0.017017472084114769),\n",
       " (36, 0.0043196458490129897),\n",
       " (37, 0.0043463688322540415),\n",
       " (38, -0.0070428901951003669),\n",
       " (39, 0.026045163035237986),\n",
       " (40, 0.0074282707645289131),\n",
       " (41, 0.00964105719713086),\n",
       " (42, -0.0094847513586168442),\n",
       " (43, 0.011085292412957764),\n",
       " (44, -0.0042861343455748461),\n",
       " (45, -0.00067888894056867069),\n",
       " (46, 0.0095304803660665703),\n",
       " (47, 0.004936900495130226),\n",
       " (48, 0.0010619818788506613),\n",
       " (49, -0.0059489114579782581),\n",
       " (50, -0.00020999179903305335),\n",
       " (51, 0.00041007488544045204),\n",
       " (52, 0.0089026960088858728),\n",
       " (53, 0.0056679518317142453),\n",
       " (54, 0.0096355893159964547),\n",
       " (55, 0.0013588416155409333),\n",
       " (56, -0.0089499998522726918),\n",
       " (57, -0.0006995686705501212),\n",
       " (58, -0.014991774561898867),\n",
       " (59, -0.010208673982838505),\n",
       " (60, -0.006584278038539202),\n",
       " (61, -0.013908552724462351),\n",
       " (62, -0.015905801686592117),\n",
       " (63, 0.013334922198072804),\n",
       " (64, 0.00040423656376668691),\n",
       " (65, 0.0088958140193360694),\n",
       " (66, 0.0051142078693338167),\n",
       " (67, -0.008177701856067426),\n",
       " (68, -0.0043548102960815982),\n",
       " (69, -0.031479211138829344),\n",
       " (70, 0.0033323517065209298),\n",
       " (71, -0.020872377445651378),\n",
       " (72, -0.0029318534210253863),\n",
       " (73, 0.0021019072540816482),\n",
       " (74, -0.0051993857734365118),\n",
       " (75, 0.022639242667259529),\n",
       " (76, -0.0048598309548936267),\n",
       " (77, 0.0402562632577547),\n",
       " (78, 0.0082302319273938745),\n",
       " (79, 0.011089587984778349),\n",
       " (80, 0.023709368025191902),\n",
       " (81, -0.0019317561812491274),\n",
       " (82, -0.00047852534378911381),\n",
       " (83, -0.015302711209859805),\n",
       " (84, -0.023396654221211604),\n",
       " (85, -0.013864739266644012),\n",
       " (86, 0.014028646800706363),\n",
       " (87, -0.0028357969643033483),\n",
       " (88, -0.0053650243832315684),\n",
       " (89, 0.0015781318242459234),\n",
       " (90, -0.015311049690957663),\n",
       " (91, 0.0019332442373646446),\n",
       " (92, -0.013752766200932817),\n",
       " (93, -0.0130973761201759),\n",
       " (94, -0.011735559856118911),\n",
       " (95, 0.00050511535014496358),\n",
       " (96, -0.01779990687682273),\n",
       " (97, -0.0079180239872123359),\n",
       " (98, 0.0084066137400135299),\n",
       " (99, 0.0074235972817301814),\n",
       " (100, -0.0088455803978021424),\n",
       " (101, 0.0032880743508665808),\n",
       " (102, -0.022405395160806914),\n",
       " (103, -0.014166970223843724),\n",
       " (104, 0.0069276021198404038),\n",
       " (105, -0.0091170237314596395),\n",
       " (106, -6.9696530332288628e-05),\n",
       " (107, 0.022877033691828592),\n",
       " (108, 0.0032898754122646606),\n",
       " (109, -0.0042314658095130272),\n",
       " (110, -0.032541578509872507),\n",
       " (111, 0.033986670674097892),\n",
       " (112, -0.017218020159630341),\n",
       " (113, 0.021172563750721209),\n",
       " (114, 0.037088414457646428),\n",
       " (115, 0.015155429261134916),\n",
       " (116, 0.035491519637796252),\n",
       " (117, -0.024463951254191554),\n",
       " (118, 0.014929214391875726),\n",
       " (119, -0.01060370111378814),\n",
       " (120, 0.0087288416916745069),\n",
       " (121, 0.012164341544001363),\n",
       " (122, -0.00021264499947773989),\n",
       " (123, -0.0063651173477006469),\n",
       " (124, -0.028804379507832198),\n",
       " (125, -0.052906028582252657),\n",
       " (126, -0.0065253588714828921),\n",
       " (127, -0.013965399473961851),\n",
       " (128, -0.033249703529001202),\n",
       " (129, 0.0041678827530616707),\n",
       " (130, 0.0036630680802195196),\n",
       " (131, -0.013157764350523644),\n",
       " (132, 0.0029053803629789307)]"
      ]
     },
     "execution_count": 16,
     "metadata": {},
     "output_type": "execute_result"
    }
   ],
   "source": [
    "new_doc_lsi"
   ]
  },
  {
   "cell_type": "markdown",
   "metadata": {},
   "source": [
    "##### Check Similarity of Doc to similarity object"
   ]
  },
  {
   "cell_type": "code",
   "execution_count": 19,
   "metadata": {
    "collapsed": true
   },
   "outputs": [
    {
     "data": {
      "text/plain": [
       "array([  1.01645477e-01,   2.54664756e-03,   1.27428100e-01,\n",
       "         1.16558215e-02,   2.77505308e-01,   4.37154900e-03,\n",
       "         7.90964812e-03,   6.42142212e-03,   2.53281114e-03,\n",
       "         4.19112481e-03,   3.60108004e-03,   1.97149976e-03,\n",
       "         1.06929066e-02,   4.16142531e-02,   3.54088889e-03,\n",
       "         2.92124110e-03,   3.79980691e-02,   2.09376700e-02,\n",
       "         1.17590241e-02,   8.19695555e-03,   1.51452236e-02,\n",
       "         7.58612715e-03,   3.59889655e-03,   3.94141208e-03,\n",
       "         2.89300992e-03,   2.71927402e-03,   3.31791164e-03,\n",
       "         3.80168785e-10,   5.31935645e-03,   1.65734515e-01,\n",
       "         5.31699881e-02,   3.53473350e-02,   3.82298715e-02,\n",
       "         1.24141378e-02,   5.31550467e-01,   2.61813705e-03,\n",
       "         1.12342474e-03,   1.36011206e-02,   1.90989394e-02,\n",
       "         6.21445514e-02,   3.94942565e-03,   2.07392219e-03,\n",
       "         2.44927639e-03,   5.50797861e-03,   9.76257119e-03,\n",
       "         6.24545068e-02,   3.74132232e-03,   4.17872798e-03,\n",
       "         2.93284492e-03,   6.04448747e-03,   1.14605231e-02,\n",
       "         5.55432774e-03,   7.83253108e-06,   1.80294726e-03,\n",
       "         1.64687133e-03,   7.95955013e-04,   2.60945875e-03,\n",
       "         1.53447660e-02,   4.70566330e-03,   6.06148876e-03,\n",
       "         3.30661833e-01,   1.38299577e-02,   3.76330386e-03,\n",
       "         3.32492986e-03,   2.77788416e-02,   3.62918247e-03,\n",
       "         2.18733493e-02,   5.27489604e-03,   4.29145154e-03,\n",
       "         1.19349234e-01,   1.09653607e-01,   4.85374639e-03,\n",
       "         1.15696238e-02,   2.33225455e-03,   8.10863730e-03,\n",
       "         8.31073336e-03,   4.72493935e-03,   1.85244288e-02,\n",
       "         6.77497804e-01,   5.03916806e-03,   8.70691240e-03,\n",
       "         1.77563243e-02,   7.05765327e-03,   7.51514733e-03,\n",
       "         7.91200325e-02,   4.63228347e-03,   3.71021568e-03,\n",
       "         2.66258675e-03,   8.35240074e-03,   3.24727502e-03,\n",
       "         5.94546506e-03,   1.07457945e-02,   4.48491890e-03,\n",
       "         3.58100161e-02,   5.20629575e-03,   3.31615540e-03,\n",
       "         7.06042815e-03,   3.26952972e-02,   9.06984613e-04,\n",
       "         6.20886572e-02,   4.08748584e-03,   4.55712192e-02,\n",
       "         5.93725732e-03,   9.82065033e-03,   6.79123821e-03,\n",
       "         6.82057859e-03,   1.84080768e-02,   7.57957101e-02,\n",
       "         4.05673496e-03,   7.30729802e-03,   4.88408562e-03,\n",
       "         6.07419480e-03,   1.87999592e-03,   6.06612070e-03,\n",
       "         6.88241841e-03,   8.59086215e-03,   4.97267907e-03,\n",
       "         8.48937452e-01,   1.23026082e-02,   1.56470649e-02,\n",
       "         7.06332736e-03,   1.66229520e-03,   6.49433374e-01,\n",
       "         9.37288627e-03,   9.64905787e-03,   5.73691726e-03,\n",
       "         8.39570444e-03,   7.50151137e-03,   3.25915702e-02,\n",
       "         6.70716306e-03,   1.92013122e-02,   2.94600497e-03,\n",
       "         7.95804523e-03], dtype=float32)"
      ]
     },
     "execution_count": 19,
     "metadata": {},
     "output_type": "execute_result"
    }
   ],
   "source": [
    "pubmed_sim[new_doc_lsi]"
   ]
  },
  {
   "cell_type": "markdown",
   "metadata": {},
   "source": [
    "##### zip with filenames"
   ]
  },
  {
   "cell_type": "code",
   "execution_count": null,
   "metadata": {
    "collapsed": true
   },
   "outputs": [],
   "source": [
    "def get_file_names"
   ]
  },
  {
   "cell_type": "code",
   "execution_count": null,
   "metadata": {
    "collapsed": false
   },
   "outputs": [],
   "source": [
    "new_doc_sims = pubmed_sim[new_doc_lsi]"
   ]
  },
  {
   "cell_type": "code",
   "execution_count": null,
   "metadata": {
    "collapsed": false
   },
   "outputs": [],
   "source": [
    "file_name_sims = zip(new_doc_sims.tolist(), pubmed_corpus_lsi.corpus.corpus.document_file_names)"
   ]
  },
  {
   "cell_type": "code",
   "execution_count": null,
   "metadata": {
    "collapsed": false
   },
   "outputs": [],
   "source": [
    "file_name_sims = sorted(file_name_sims, key=lambda x: x[0], reverse=True)"
   ]
  },
  {
   "cell_type": "code",
   "execution_count": null,
   "metadata": {
    "collapsed": false
   },
   "outputs": [],
   "source": [
    "file_name_sims[:5]"
   ]
  },
  {
   "cell_type": "code",
   "execution_count": null,
   "metadata": {
    "collapsed": true
   },
   "outputs": [],
   "source": []
  },
  {
   "cell_type": "markdown",
   "metadata": {},
   "source": [
    "##### Similarity one file to another"
   ]
  },
  {
   "cell_type": "code",
   "execution_count": null,
   "metadata": {
    "collapsed": false
   },
   "outputs": [],
   "source": [
    "pubmed_lsi_in_memory = [i for i in pubmed_corpus_lsi]\n",
    "one_pubmed_lsi_doc = pubmed_lsi_in_memory[0]\n",
    "one_pubmed_lsi_sim = pubmed_sim[one_pubmed_lsi_doc]\n",
    "one_pubmed_lsi_sim"
   ]
  },
  {
   "cell_type": "code",
   "execution_count": null,
   "metadata": {
    "collapsed": true
   },
   "outputs": [],
   "source": []
  },
  {
   "cell_type": "code",
   "execution_count": null,
   "metadata": {
    "collapsed": true
   },
   "outputs": [],
   "source": []
  },
  {
   "cell_type": "code",
   "execution_count": null,
   "metadata": {
    "collapsed": true
   },
   "outputs": [],
   "source": []
  },
  {
   "cell_type": "code",
   "execution_count": null,
   "metadata": {
    "collapsed": true
   },
   "outputs": [],
   "source": []
  },
  {
   "cell_type": "code",
   "execution_count": null,
   "metadata": {
    "collapsed": true
   },
   "outputs": [],
   "source": []
  },
  {
   "cell_type": "code",
   "execution_count": null,
   "metadata": {
    "collapsed": true
   },
   "outputs": [],
   "source": []
  },
  {
   "cell_type": "code",
   "execution_count": null,
   "metadata": {
    "collapsed": true
   },
   "outputs": [],
   "source": [
    "??similarities.Similarity"
   ]
  },
  {
   "cell_type": "code",
   "execution_count": null,
   "metadata": {
    "collapsed": true
   },
   "outputs": [],
   "source": [
    "??interfaces.SimilarityABC"
   ]
  },
  {
   "cell_type": "code",
   "execution_count": null,
   "metadata": {
    "collapsed": true
   },
   "outputs": [],
   "source": [
    "??pubmed_corpus.dictionary.load"
   ]
  },
  {
   "cell_type": "code",
   "execution_count": null,
   "metadata": {
    "collapsed": true
   },
   "outputs": [],
   "source": [
    "??corpora.mmcorpus.MmCorpus"
   ]
  },
  {
   "cell_type": "code",
   "execution_count": null,
   "metadata": {
    "collapsed": true
   },
   "outputs": [],
   "source": [
    "??models.TfidfModel"
   ]
  },
  {
   "cell_type": "code",
   "execution_count": null,
   "metadata": {
    "collapsed": true
   },
   "outputs": [],
   "source": [
    "??corpora.TextCorpus"
   ]
  },
  {
   "cell_type": "code",
   "execution_count": null,
   "metadata": {
    "collapsed": true
   },
   "outputs": [],
   "source": [
    "??interfaces.CorpusABC"
   ]
  },
  {
   "cell_type": "code",
   "execution_count": null,
   "metadata": {
    "collapsed": true
   },
   "outputs": [],
   "source": [
    "??utils.SaveLoad"
   ]
  },
  {
   "cell_type": "code",
   "execution_count": null,
   "metadata": {
    "collapsed": true
   },
   "outputs": [],
   "source": []
  },
  {
   "cell_type": "code",
   "execution_count": null,
   "metadata": {
    "collapsed": true
   },
   "outputs": [],
   "source": []
  },
  {
   "cell_type": "code",
   "execution_count": null,
   "metadata": {
    "collapsed": true
   },
   "outputs": [],
   "source": []
  },
  {
   "cell_type": "code",
   "execution_count": null,
   "metadata": {
    "collapsed": true
   },
   "outputs": [],
   "source": []
  },
  {
   "cell_type": "code",
   "execution_count": null,
   "metadata": {
    "collapsed": true
   },
   "outputs": [],
   "source": []
  },
  {
   "cell_type": "code",
   "execution_count": null,
   "metadata": {
    "collapsed": true
   },
   "outputs": [],
   "source": []
  },
  {
   "cell_type": "code",
   "execution_count": null,
   "metadata": {
    "collapsed": true
   },
   "outputs": [],
   "source": []
  },
  {
   "cell_type": "code",
   "execution_count": null,
   "metadata": {
    "collapsed": true
   },
   "outputs": [],
   "source": []
  },
  {
   "cell_type": "code",
   "execution_count": null,
   "metadata": {
    "collapsed": true
   },
   "outputs": [],
   "source": []
  },
  {
   "cell_type": "code",
   "execution_count": null,
   "metadata": {
    "collapsed": true
   },
   "outputs": [],
   "source": []
  },
  {
   "cell_type": "code",
   "execution_count": null,
   "metadata": {
    "collapsed": true
   },
   "outputs": [],
   "source": []
  },
  {
   "cell_type": "code",
   "execution_count": null,
   "metadata": {
    "collapsed": true
   },
   "outputs": [],
   "source": []
  },
  {
   "cell_type": "code",
   "execution_count": null,
   "metadata": {
    "collapsed": true
   },
   "outputs": [],
   "source": []
  },
  {
   "cell_type": "code",
   "execution_count": null,
   "metadata": {
    "collapsed": true
   },
   "outputs": [],
   "source": []
  },
  {
   "cell_type": "code",
   "execution_count": null,
   "metadata": {
    "collapsed": true
   },
   "outputs": [],
   "source": [
    "dictionary = corpora.Dictionary()"
   ]
  },
  {
   "cell_type": "code",
   "execution_count": null,
   "metadata": {
    "collapsed": false
   },
   "outputs": [],
   "source": [
    "dictionary.doc2bow(['hello', 'something'])"
   ]
  },
  {
   "cell_type": "code",
   "execution_count": null,
   "metadata": {
    "collapsed": true
   },
   "outputs": [],
   "source": [
    "class thing:\n",
    "    def __init__(self):\n",
    "        self.array = [(1, 2, 3), (3,3, 3) , (2, 2, 2)]\n",
    "    \n",
    "    def __iter__(self):\n",
    "        for i, j, k in self.array:\n",
    "            yield i * 2\n",
    "            \n",
    "    def load_stuff(self):\n",
    "        for i in self:\n",
    "            print i\n",
    "            \n",
    "    def again(self):\n",
    "        for i in self:\n",
    "            print i"
   ]
  },
  {
   "cell_type": "code",
   "execution_count": null,
   "metadata": {
    "collapsed": true
   },
   "outputs": [],
   "source": [
    "a = thing()"
   ]
  },
  {
   "cell_type": "code",
   "execution_count": null,
   "metadata": {
    "collapsed": false
   },
   "outputs": [],
   "source": [
    "a.load_stuff()"
   ]
  },
  {
   "cell_type": "code",
   "execution_count": null,
   "metadata": {
    "collapsed": true
   },
   "outputs": [],
   "source": []
  },
  {
   "cell_type": "code",
   "execution_count": null,
   "metadata": {
    "collapsed": true
   },
   "outputs": [],
   "source": [
    "# class PubmedCorpus(corpora.TextCorpus):\n",
    "    \n",
    "#     def get_texts(self):\n",
    "#         directory = os.walk(self.input)\n",
    "#         for root, dirs, files in directory:\n",
    "#             for file_name in files:\n",
    "#                 file_path = os.path.join(root, file_name)\n",
    "#                 with open(file_path, 'rb') as f:\n",
    "#                     file_string = to_unicode_or_bust(f.read().lower())\n",
    "#                     file_tokenized = word_tokenize(file_string)\n",
    "#                     file_no_stops = [word for word in file_tokenized if word not in STOP_WORDS]\n",
    "#                     yield file_no_stops\n",
    "\n",
    "# class PubmedCorpus(corpora.TextCorpus):\n",
    "        \n",
    "#     def get_texts(self):\n",
    "#         for file_path in self.input:\n",
    "#             with open(file_path, 'rb') as f:\n",
    "#                 file_string = to_unicode_or_bust(f.read().lower())\n",
    "#                 file_tokenized = word_tokenize(file_string)\n",
    "#                 file_no_stops = [word for word in file_tokenized if word not in STOP_WORDS]\n",
    "#                 yield file_no_stops\n",
    "                    \n",
    "                \n",
    "# def load_article_paths():\n",
    "#     for root, dirs, files in os.walk('./pmc_data/pmc_text_files/'):\n",
    "#         for name in files:\n",
    "#             ARTICLE_FILE_PATHS.append(os.path.join(root, name))\n",
    "#     genre_folders_left = len(GENRE_FOLDERS)\n",
    "#     completed_genre_folders = 0 \n",
    "#     for genre_folder in GENRE_FOLDERS:\n",
    "#         completed_genre_folders += 1\n",
    "#         genre_folder_path = os.path.join(DATA_PATH, genre_folder)\n",
    "#         genre_file_list = os.listdir(genre_folder_path)\n",
    "#         for article_file_title in genre_file_list:\n",
    "#             article_file_path = os.path.join(genre_folder_path, article_file_title)\n",
    "#             if os.path.isfile(article_file_path):\n",
    "#                 ARTICLE_FILE_TITLES.append(article_file_title)\n",
    "#                 ARTICLE_FILE_PATHS.append(article_file_path)\n",
    "# #                 with open(article_file_path, 'rb') as f:\n",
    "# #                     document = f.read()\n",
    "# #                     ARTICLE_DOCUMENT_LIST.append(document)\n",
    "\n",
    "#                 print \"done with: \", article_file_title\n",
    "#                 print \"progress: \", completed_genre_folders / float(genre_folders_left)\n",
    "#             else:\n",
    "#                 sub_article_folder_list = os.listdir(article_file_path)\n",
    "#                 for sub_article_file_title in sub_article_folder_list:\n",
    "#                     sub_article_file_path = os.path.join(article_file_path, \n",
    "#                             sub_article_file_title)\n",
    "#                     ARTICLE_FILE_TITLES.append(sub_article_file_title)\n",
    "#                     ARTICLE_FILE_PATHS.append(sub_article_file_path)\n",
    "# #                     with open(sub_article_file_path, 'rb') as f:\n",
    "# #                         document = f.read()\n",
    "# #                         ARTICLE_DOCUMENT_LIST.append(document)"
   ]
  },
  {
   "cell_type": "markdown",
   "metadata": {
    "collapsed": false
   },
   "source": [
    "### Pubmed Corpus from corpora.TextCorpus"
   ]
  },
  {
   "cell_type": "code",
   "execution_count": null,
   "metadata": {
    "collapsed": true
   },
   "outputs": [],
   "source": [
    "# class PubmedCorpus(corpora.TextCorpus):\n",
    "#     def __init__(self, input=None, data_folder=DATA_PATH):\n",
    "#         super(TextCorpus, self).__init__()\n",
    "#         self.input = None\n",
    "#         self.data_folder = os.walk(data_folder)\n",
    "#         self.dictionary = Dictionary()\n",
    "#         self.metadata = False        \n",
    "#         if data_folder is not None:\n",
    "#             self.dictionary.add_documents\n",
    "    \n",
    "#     def __iter__(self):\n",
    "        \n",
    "        \n",
    "#     def get_texts(self, file_name):\n",
    "#         with open(file_name, 'rb') as doc_file:\n",
    "#             doc = doc_file.read()\n",
    "#             doc_tokenized = utils.tokenize(doc, lowercase=True)\n",
    "#             doc_tokenized = [word for word in doc_tokenized if word not in STOP_WORDS]\n",
    "#             yield doc_tokenized\n",
    "\n",
    "                    \n",
    "# #         for doc_file in self.input:\n",
    "# #             with open(doc_file, 'rb') as doc:\n",
    "# #                 doc_text = doc.read()\n",
    "# #                 tokenized_text = [token for token in utils.tokenize(doc_text, \n",
    "# #                                                                     lowercase=True)]\n",
    "# #                 tokenized_text = [word for word in tokenized_text if word not in STOP_WORDS]\n",
    "# #                 self.dictionary.add_documents([tokenized_text])\n",
    "# #                 yield self.dictionary.doc2bow(tokenized_text, allow_update=False)\n",
    "                \n",
    "        \n",
    "        \n",
    "        \n",
    "        \n",
    "# #         directory = os.walk(self.input)\n",
    "# #         for root, dirs, files in directory:\n",
    "# #             for file_name in files:\n",
    "# #                 file_path = os.path.join(root, file_name)\n",
    "# #                 with open(file_path, 'rb') as f:\n",
    "# #                     file_string = to_unicode_or_bust(f.read().lower())\n",
    "# #                     file_tokenized = word_tokenize(file_string)\n",
    "# #                     file_no_stops = [word for word in file_tokenized if word not in STOP_WORDS]\n",
    "# #                     yield file_no_stops"
   ]
  },
  {
   "cell_type": "code",
   "execution_count": null,
   "metadata": {
    "collapsed": true
   },
   "outputs": [],
   "source": []
  },
  {
   "cell_type": "code",
   "execution_count": null,
   "metadata": {
    "collapsed": true
   },
   "outputs": [],
   "source": []
  },
  {
   "cell_type": "code",
   "execution_count": null,
   "metadata": {
    "collapsed": true
   },
   "outputs": [],
   "source": []
  },
  {
   "cell_type": "code",
   "execution_count": null,
   "metadata": {
    "collapsed": true
   },
   "outputs": [],
   "source": []
  },
  {
   "cell_type": "code",
   "execution_count": null,
   "metadata": {
    "collapsed": true
   },
   "outputs": [],
   "source": []
  },
  {
   "cell_type": "code",
   "execution_count": null,
   "metadata": {
    "collapsed": true
   },
   "outputs": [],
   "source": []
  },
  {
   "cell_type": "code",
   "execution_count": null,
   "metadata": {
    "collapsed": true
   },
   "outputs": [],
   "source": []
  },
  {
   "cell_type": "code",
   "execution_count": null,
   "metadata": {
    "collapsed": true
   },
   "outputs": [],
   "source": []
  },
  {
   "cell_type": "code",
   "execution_count": null,
   "metadata": {
    "collapsed": true
   },
   "outputs": [],
   "source": []
  },
  {
   "cell_type": "code",
   "execution_count": null,
   "metadata": {
    "collapsed": true
   },
   "outputs": [],
   "source": []
  },
  {
   "cell_type": "code",
   "execution_count": null,
   "metadata": {
    "collapsed": true
   },
   "outputs": [],
   "source": []
  },
  {
   "cell_type": "code",
   "execution_count": null,
   "metadata": {
    "collapsed": true
   },
   "outputs": [],
   "source": []
  },
  {
   "cell_type": "code",
   "execution_count": null,
   "metadata": {
    "collapsed": true
   },
   "outputs": [],
   "source": []
  },
  {
   "cell_type": "code",
   "execution_count": null,
   "metadata": {
    "collapsed": true
   },
   "outputs": [],
   "source": []
  },
  {
   "cell_type": "code",
   "execution_count": null,
   "metadata": {
    "collapsed": true
   },
   "outputs": [],
   "source": []
  },
  {
   "cell_type": "code",
   "execution_count": null,
   "metadata": {
    "collapsed": true
   },
   "outputs": [],
   "source": []
  },
  {
   "cell_type": "code",
   "execution_count": null,
   "metadata": {
    "collapsed": true
   },
   "outputs": [],
   "source": []
  }
 ],
 "metadata": {
  "kernelspec": {
   "display_name": "Python 2",
   "language": "python",
   "name": "python2"
  },
  "language_info": {
   "codemirror_mode": {
    "name": "ipython",
    "version": 2
   },
   "file_extension": ".py",
   "mimetype": "text/x-python",
   "name": "python",
   "nbconvert_exporter": "python",
   "pygments_lexer": "ipython2",
   "version": "2.7.11"
  }
 },
 "nbformat": 4,
 "nbformat_minor": 0
}
