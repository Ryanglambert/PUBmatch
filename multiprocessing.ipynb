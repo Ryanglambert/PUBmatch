{
 "cells": [
  {
   "cell_type": "markdown",
   "metadata": {},
   "source": [
    "# Make BoW, TFIDF, Lsi"
   ]
  },
  {
   "cell_type": "code",
   "execution_count": null,
   "metadata": {
    "collapsed": true
   },
   "outputs": [],
   "source": [
    "from tfidf_pm import *\n",
    "# pubmed_corpus = PubmedCorpus()"
   ]
  },
  {
   "cell_type": "markdown",
   "metadata": {},
   "source": [
    "##### load dictionary"
   ]
  },
  {
   "cell_type": "code",
   "execution_count": 99,
   "metadata": {
    "collapsed": true
   },
   "outputs": [],
   "source": [
    "from tfidf_pm import *"
   ]
  },
  {
   "cell_type": "markdown",
   "metadata": {},
   "source": [
    "##### Load LSI and TFIDF models and Dictionaries for transforming"
   ]
  },
  {
   "cell_type": "code",
   "execution_count": null,
   "metadata": {
    "collapsed": true
   },
   "outputs": [],
   "source": [
    "# pubmed_corpus = corpora.MmCorpus('./pmc_models_serialized/pubmed_corpus.mm')"
   ]
  },
  {
   "cell_type": "code",
   "execution_count": null,
   "metadata": {
    "collapsed": false
   },
   "outputs": [],
   "source": [
    "# pubmed_dict = corpora.Dictionary.load('./pmc_models_serialized/pubmed_corpus.dict')"
   ]
  },
  {
   "cell_type": "code",
   "execution_count": 100,
   "metadata": {
    "collapsed": true
   },
   "outputs": [],
   "source": [
    "pubmed_tfidf = models.tfidfmodel.TfidfModel.load('./pmc_models_serialized/pubmed_tfidf')\n",
    "# pubmed_corpus_tfidf = models.tfidfmodel.TfidfModel.load('./pmc_models_serialized/pubmed_corpus_tfidf')"
   ]
  },
  {
   "cell_type": "code",
   "execution_count": 101,
   "metadata": {
    "collapsed": true
   },
   "outputs": [],
   "source": [
    "pubmed_lsi = models.LsiModel.load('./pmc_models_serialized/pubmed_lsi')\n",
    "pubmed_corpus_lsi = models.LsiModel.load('./pmc_models_serialized/pubmed_corpus_lsi')"
   ]
  },
  {
   "cell_type": "markdown",
   "metadata": {},
   "source": [
    "##### Make Similarity Matrix"
   ]
  },
  {
   "cell_type": "code",
   "execution_count": 103,
   "metadata": {
    "collapsed": false
   },
   "outputs": [
    {
     "ename": "AttributeError",
     "evalue": "'PubmedCorpus' object has no attribute 'input'",
     "output_type": "error",
     "traceback": [
      "\u001b[0;31m---------------------------------------------------------------------------\u001b[0m",
      "\u001b[0;31mAttributeError\u001b[0m                            Traceback (most recent call last)",
      "\u001b[0;32m<ipython-input-103-55508f9df199>\u001b[0m in \u001b[0;36m<module>\u001b[0;34m()\u001b[0m\n\u001b[0;32m----> 1\u001b[0;31m \u001b[0mpubmed_sim\u001b[0m \u001b[0;34m=\u001b[0m \u001b[0msimilarities\u001b[0m\u001b[0;34m.\u001b[0m\u001b[0mMatrixSimilarity\u001b[0m\u001b[0;34m(\u001b[0m\u001b[0mpubmed_corpus_lsi\u001b[0m\u001b[0;34m,\u001b[0m \u001b[0mnum_features\u001b[0m\u001b[0;34m=\u001b[0m\u001b[0;36m1000\u001b[0m\u001b[0;34m,\u001b[0m \u001b[0mnum_best\u001b[0m\u001b[0;34m=\u001b[0m\u001b[0;36m10\u001b[0m\u001b[0;34m)\u001b[0m\u001b[0;34m\u001b[0m\u001b[0m\n\u001b[0m",
      "\u001b[0;32m/usr/local/lib/python2.7/site-packages/gensim-0.12.4-py2.7-macosx-10.11-x86_64.egg/gensim/similarities/docsim.pyc\u001b[0m in \u001b[0;36m__init__\u001b[0;34m(self, corpus, num_best, dtype, num_features, chunksize, corpus_len)\u001b[0m\n\u001b[1;32m    507\u001b[0m         \u001b[0mself\u001b[0m\u001b[0;34m.\u001b[0m\u001b[0mchunksize\u001b[0m \u001b[0;34m=\u001b[0m \u001b[0mchunksize\u001b[0m\u001b[0;34m\u001b[0m\u001b[0m\n\u001b[1;32m    508\u001b[0m         \u001b[0;32mif\u001b[0m \u001b[0mcorpus_len\u001b[0m \u001b[0;32mis\u001b[0m \u001b[0mNone\u001b[0m\u001b[0;34m:\u001b[0m\u001b[0;34m\u001b[0m\u001b[0m\n\u001b[0;32m--> 509\u001b[0;31m             \u001b[0mcorpus_len\u001b[0m \u001b[0;34m=\u001b[0m \u001b[0mlen\u001b[0m\u001b[0;34m(\u001b[0m\u001b[0mcorpus\u001b[0m\u001b[0;34m)\u001b[0m\u001b[0;34m\u001b[0m\u001b[0m\n\u001b[0m\u001b[1;32m    510\u001b[0m \u001b[0;34m\u001b[0m\u001b[0m\n\u001b[1;32m    511\u001b[0m         \u001b[0;32mif\u001b[0m \u001b[0mcorpus\u001b[0m \u001b[0;32mis\u001b[0m \u001b[0;32mnot\u001b[0m \u001b[0mNone\u001b[0m\u001b[0;34m:\u001b[0m\u001b[0;34m\u001b[0m\u001b[0m\n",
      "\u001b[0;32m/usr/local/lib/python2.7/site-packages/gensim-0.12.4-py2.7-macosx-10.11-x86_64.egg/gensim/interfaces.pyc\u001b[0m in \u001b[0;36m__len__\u001b[0;34m(self)\u001b[0m\n\u001b[1;32m    111\u001b[0m \u001b[0;34m\u001b[0m\u001b[0m\n\u001b[1;32m    112\u001b[0m     \u001b[0;32mdef\u001b[0m \u001b[0m__len__\u001b[0m\u001b[0;34m(\u001b[0m\u001b[0mself\u001b[0m\u001b[0;34m)\u001b[0m\u001b[0;34m:\u001b[0m\u001b[0;34m\u001b[0m\u001b[0m\n\u001b[0;32m--> 113\u001b[0;31m         \u001b[0;32mreturn\u001b[0m \u001b[0mlen\u001b[0m\u001b[0;34m(\u001b[0m\u001b[0mself\u001b[0m\u001b[0;34m.\u001b[0m\u001b[0mcorpus\u001b[0m\u001b[0;34m)\u001b[0m\u001b[0;34m\u001b[0m\u001b[0m\n\u001b[0m\u001b[1;32m    114\u001b[0m \u001b[0;34m\u001b[0m\u001b[0m\n\u001b[1;32m    115\u001b[0m     \u001b[0;32mdef\u001b[0m \u001b[0m__iter__\u001b[0m\u001b[0;34m(\u001b[0m\u001b[0mself\u001b[0m\u001b[0;34m)\u001b[0m\u001b[0;34m:\u001b[0m\u001b[0;34m\u001b[0m\u001b[0m\n",
      "\u001b[0;32m/usr/local/lib/python2.7/site-packages/gensim-0.12.4-py2.7-macosx-10.11-x86_64.egg/gensim/interfaces.pyc\u001b[0m in \u001b[0;36m__len__\u001b[0;34m(self)\u001b[0m\n\u001b[1;32m    111\u001b[0m \u001b[0;34m\u001b[0m\u001b[0m\n\u001b[1;32m    112\u001b[0m     \u001b[0;32mdef\u001b[0m \u001b[0m__len__\u001b[0m\u001b[0;34m(\u001b[0m\u001b[0mself\u001b[0m\u001b[0;34m)\u001b[0m\u001b[0;34m:\u001b[0m\u001b[0;34m\u001b[0m\u001b[0m\n\u001b[0;32m--> 113\u001b[0;31m         \u001b[0;32mreturn\u001b[0m \u001b[0mlen\u001b[0m\u001b[0;34m(\u001b[0m\u001b[0mself\u001b[0m\u001b[0;34m.\u001b[0m\u001b[0mcorpus\u001b[0m\u001b[0;34m)\u001b[0m\u001b[0;34m\u001b[0m\u001b[0m\n\u001b[0m\u001b[1;32m    114\u001b[0m \u001b[0;34m\u001b[0m\u001b[0m\n\u001b[1;32m    115\u001b[0m     \u001b[0;32mdef\u001b[0m \u001b[0m__iter__\u001b[0m\u001b[0;34m(\u001b[0m\u001b[0mself\u001b[0m\u001b[0;34m)\u001b[0m\u001b[0;34m:\u001b[0m\u001b[0;34m\u001b[0m\u001b[0m\n",
      "\u001b[0;32m/usr/local/lib/python2.7/site-packages/gensim-0.12.4-py2.7-macosx-10.11-x86_64.egg/gensim/corpora/textcorpus.pyc\u001b[0m in \u001b[0;36m__len__\u001b[0;34m(self)\u001b[0m\n\u001b[1;32m    101\u001b[0m         \u001b[0;32mif\u001b[0m \u001b[0;32mnot\u001b[0m \u001b[0mhasattr\u001b[0m\u001b[0;34m(\u001b[0m\u001b[0mself\u001b[0m\u001b[0;34m,\u001b[0m \u001b[0;34m'length'\u001b[0m\u001b[0;34m)\u001b[0m\u001b[0;34m:\u001b[0m\u001b[0;34m\u001b[0m\u001b[0m\n\u001b[1;32m    102\u001b[0m             \u001b[0;31m# cache the corpus length\u001b[0m\u001b[0;34m\u001b[0m\u001b[0;34m\u001b[0m\u001b[0m\n\u001b[0;32m--> 103\u001b[0;31m             \u001b[0mself\u001b[0m\u001b[0;34m.\u001b[0m\u001b[0mlength\u001b[0m \u001b[0;34m=\u001b[0m \u001b[0msum\u001b[0m\u001b[0;34m(\u001b[0m\u001b[0;36m1\u001b[0m \u001b[0;32mfor\u001b[0m \u001b[0m_\u001b[0m \u001b[0;32min\u001b[0m \u001b[0mself\u001b[0m\u001b[0;34m.\u001b[0m\u001b[0mget_texts\u001b[0m\u001b[0;34m(\u001b[0m\u001b[0;34m)\u001b[0m\u001b[0;34m)\u001b[0m\u001b[0;34m\u001b[0m\u001b[0m\n\u001b[0m\u001b[1;32m    104\u001b[0m         \u001b[0;32mreturn\u001b[0m \u001b[0mself\u001b[0m\u001b[0;34m.\u001b[0m\u001b[0mlength\u001b[0m\u001b[0;34m\u001b[0m\u001b[0m\n\u001b[1;32m    105\u001b[0m \u001b[0;34m\u001b[0m\u001b[0m\n",
      "\u001b[0;32m/usr/local/lib/python2.7/site-packages/gensim-0.12.4-py2.7-macosx-10.11-x86_64.egg/gensim/corpora/textcorpus.pyc\u001b[0m in \u001b[0;36m<genexpr>\u001b[0;34m(***failed resolving arguments***)\u001b[0m\n\u001b[1;32m    101\u001b[0m         \u001b[0;32mif\u001b[0m \u001b[0;32mnot\u001b[0m \u001b[0mhasattr\u001b[0m\u001b[0;34m(\u001b[0m\u001b[0mself\u001b[0m\u001b[0;34m,\u001b[0m \u001b[0;34m'length'\u001b[0m\u001b[0;34m)\u001b[0m\u001b[0;34m:\u001b[0m\u001b[0;34m\u001b[0m\u001b[0m\n\u001b[1;32m    102\u001b[0m             \u001b[0;31m# cache the corpus length\u001b[0m\u001b[0;34m\u001b[0m\u001b[0;34m\u001b[0m\u001b[0m\n\u001b[0;32m--> 103\u001b[0;31m             \u001b[0mself\u001b[0m\u001b[0;34m.\u001b[0m\u001b[0mlength\u001b[0m \u001b[0;34m=\u001b[0m \u001b[0msum\u001b[0m\u001b[0;34m(\u001b[0m\u001b[0;36m1\u001b[0m \u001b[0;32mfor\u001b[0m \u001b[0m_\u001b[0m \u001b[0;32min\u001b[0m \u001b[0mself\u001b[0m\u001b[0;34m.\u001b[0m\u001b[0mget_texts\u001b[0m\u001b[0;34m(\u001b[0m\u001b[0;34m)\u001b[0m\u001b[0;34m)\u001b[0m\u001b[0;34m\u001b[0m\u001b[0m\n\u001b[0m\u001b[1;32m    104\u001b[0m         \u001b[0;32mreturn\u001b[0m \u001b[0mself\u001b[0m\u001b[0;34m.\u001b[0m\u001b[0mlength\u001b[0m\u001b[0;34m\u001b[0m\u001b[0m\n\u001b[1;32m    105\u001b[0m \u001b[0;34m\u001b[0m\u001b[0m\n",
      "\u001b[0;32m/usr/local/lib/python2.7/site-packages/gensim-0.12.4-py2.7-macosx-10.11-x86_64.egg/gensim/corpora/textcorpus.pyc\u001b[0m in \u001b[0;36mget_texts\u001b[0;34m(self)\u001b[0m\n\u001b[1;32m     91\u001b[0m         \u001b[0;31m# assume documents are lines in a single file (one document per line).\u001b[0m\u001b[0;34m\u001b[0m\u001b[0;34m\u001b[0m\u001b[0m\n\u001b[1;32m     92\u001b[0m         \u001b[0;31m# Yield each document as a list of lowercase tokens, via `utils.tokenize`.\u001b[0m\u001b[0;34m\u001b[0m\u001b[0;34m\u001b[0m\u001b[0m\n\u001b[0;32m---> 93\u001b[0;31m         \u001b[0;32mwith\u001b[0m \u001b[0mself\u001b[0m\u001b[0;34m.\u001b[0m\u001b[0mgetstream\u001b[0m\u001b[0;34m(\u001b[0m\u001b[0;34m)\u001b[0m \u001b[0;32mas\u001b[0m \u001b[0mlines\u001b[0m\u001b[0;34m:\u001b[0m\u001b[0;34m\u001b[0m\u001b[0m\n\u001b[0m\u001b[1;32m     94\u001b[0m             \u001b[0;32mfor\u001b[0m \u001b[0mlineno\u001b[0m\u001b[0;34m,\u001b[0m \u001b[0mline\u001b[0m \u001b[0;32min\u001b[0m \u001b[0menumerate\u001b[0m\u001b[0;34m(\u001b[0m\u001b[0mlines\u001b[0m\u001b[0;34m)\u001b[0m\u001b[0;34m:\u001b[0m\u001b[0;34m\u001b[0m\u001b[0m\n\u001b[1;32m     95\u001b[0m                 \u001b[0;32mif\u001b[0m \u001b[0mself\u001b[0m\u001b[0;34m.\u001b[0m\u001b[0mmetadata\u001b[0m\u001b[0;34m:\u001b[0m\u001b[0;34m\u001b[0m\u001b[0m\n",
      "\u001b[0;32m/usr/local/lib/python2.7/site-packages/gensim-0.12.4-py2.7-macosx-10.11-x86_64.egg/gensim/corpora/textcorpus.pyc\u001b[0m in \u001b[0;36mgetstream\u001b[0;34m(self)\u001b[0m\n\u001b[1;32m     77\u001b[0m \u001b[0;34m\u001b[0m\u001b[0m\n\u001b[1;32m     78\u001b[0m     \u001b[0;32mdef\u001b[0m \u001b[0mgetstream\u001b[0m\u001b[0;34m(\u001b[0m\u001b[0mself\u001b[0m\u001b[0;34m)\u001b[0m\u001b[0;34m:\u001b[0m\u001b[0;34m\u001b[0m\u001b[0m\n\u001b[0;32m---> 79\u001b[0;31m         \u001b[0;32mreturn\u001b[0m \u001b[0mutils\u001b[0m\u001b[0;34m.\u001b[0m\u001b[0mfile_or_filename\u001b[0m\u001b[0;34m(\u001b[0m\u001b[0mself\u001b[0m\u001b[0;34m.\u001b[0m\u001b[0minput\u001b[0m\u001b[0;34m)\u001b[0m\u001b[0;34m\u001b[0m\u001b[0m\n\u001b[0m\u001b[1;32m     80\u001b[0m \u001b[0;34m\u001b[0m\u001b[0m\n\u001b[1;32m     81\u001b[0m     \u001b[0;32mdef\u001b[0m \u001b[0mget_texts\u001b[0m\u001b[0;34m(\u001b[0m\u001b[0mself\u001b[0m\u001b[0;34m)\u001b[0m\u001b[0;34m:\u001b[0m\u001b[0;34m\u001b[0m\u001b[0m\n",
      "\u001b[0;31mAttributeError\u001b[0m: 'PubmedCorpus' object has no attribute 'input'"
     ]
    }
   ],
   "source": [
    "pubmed_sim = similarities.MatrixSimilarity(pubmed_corpus_lsi, num_features=1000, )"
   ]
  },
  {
   "cell_type": "code",
   "execution_count": 102,
   "metadata": {
    "collapsed": false
   },
   "outputs": [
    {
     "ename": "ValueError",
     "evalue": "need more than 1 value to unpack",
     "output_type": "error",
     "traceback": [
      "\u001b[0;31m---------------------------------------------------------------------------\u001b[0m",
      "\u001b[0;31mValueError\u001b[0m                                Traceback (most recent call last)",
      "\u001b[0;32m<ipython-input-102-262ab98ca202>\u001b[0m in \u001b[0;36m<module>\u001b[0;34m()\u001b[0m\n\u001b[0;32m----> 1\u001b[0;31m \u001b[0mpubmed_sim\u001b[0m \u001b[0;34m=\u001b[0m \u001b[0msimilarities\u001b[0m\u001b[0;34m.\u001b[0m\u001b[0mMatrixSimilarity\u001b[0m\u001b[0;34m(\u001b[0m\u001b[0;34m'/tmp/sim'\u001b[0m\u001b[0;34m,\u001b[0m \u001b[0mpubmed_corpus_lsi\u001b[0m\u001b[0;34m,\u001b[0m \u001b[0mpubmed_lsi\u001b[0m\u001b[0;34m.\u001b[0m\u001b[0mnum_topics\u001b[0m\u001b[0;34m)\u001b[0m\u001b[0;34m\u001b[0m\u001b[0m\n\u001b[0m",
      "\u001b[0;32m/usr/local/lib/python2.7/site-packages/gensim-0.12.4-py2.7-macosx-10.11-x86_64.egg/gensim/similarities/docsim.pyc\u001b[0m in \u001b[0;36m__init__\u001b[0;34m(self, corpus, num_best, dtype, num_features, chunksize, corpus_len)\u001b[0m\n\u001b[1;32m    500\u001b[0m         \u001b[0;32mif\u001b[0m \u001b[0mnum_features\u001b[0m \u001b[0;32mis\u001b[0m \u001b[0mNone\u001b[0m\u001b[0;34m:\u001b[0m\u001b[0;34m\u001b[0m\u001b[0m\n\u001b[1;32m    501\u001b[0m             \u001b[0mlogger\u001b[0m\u001b[0;34m.\u001b[0m\u001b[0mwarning\u001b[0m\u001b[0;34m(\u001b[0m\u001b[0;34m\"scanning corpus to determine the number of features (consider setting `num_features` explicitly)\"\u001b[0m\u001b[0;34m)\u001b[0m\u001b[0;34m\u001b[0m\u001b[0m\n\u001b[0;32m--> 502\u001b[0;31m             \u001b[0mnum_features\u001b[0m \u001b[0;34m=\u001b[0m \u001b[0;36m1\u001b[0m \u001b[0;34m+\u001b[0m \u001b[0mutils\u001b[0m\u001b[0;34m.\u001b[0m\u001b[0mget_max_id\u001b[0m\u001b[0;34m(\u001b[0m\u001b[0mcorpus\u001b[0m\u001b[0;34m)\u001b[0m\u001b[0;34m\u001b[0m\u001b[0m\n\u001b[0m\u001b[1;32m    503\u001b[0m \u001b[0;34m\u001b[0m\u001b[0m\n\u001b[1;32m    504\u001b[0m         \u001b[0mself\u001b[0m\u001b[0;34m.\u001b[0m\u001b[0mnum_features\u001b[0m \u001b[0;34m=\u001b[0m \u001b[0mnum_features\u001b[0m\u001b[0;34m\u001b[0m\u001b[0m\n",
      "\u001b[0;32m/usr/local/lib/python2.7/site-packages/gensim-0.12.4-py2.7-macosx-10.11-x86_64.egg/gensim/utils.pyc\u001b[0m in \u001b[0;36mget_max_id\u001b[0;34m(corpus)\u001b[0m\n\u001b[1;32m    494\u001b[0m     \u001b[0mmaxid\u001b[0m \u001b[0;34m=\u001b[0m \u001b[0;34m-\u001b[0m\u001b[0;36m1\u001b[0m\u001b[0;34m\u001b[0m\u001b[0m\n\u001b[1;32m    495\u001b[0m     \u001b[0;32mfor\u001b[0m \u001b[0mdocument\u001b[0m \u001b[0;32min\u001b[0m \u001b[0mcorpus\u001b[0m\u001b[0;34m:\u001b[0m\u001b[0;34m\u001b[0m\u001b[0m\n\u001b[0;32m--> 496\u001b[0;31m         \u001b[0mmaxid\u001b[0m \u001b[0;34m=\u001b[0m \u001b[0mmax\u001b[0m\u001b[0;34m(\u001b[0m\u001b[0mmaxid\u001b[0m\u001b[0;34m,\u001b[0m \u001b[0mmax\u001b[0m\u001b[0;34m(\u001b[0m\u001b[0;34m[\u001b[0m\u001b[0;34m-\u001b[0m\u001b[0;36m1\u001b[0m\u001b[0;34m]\u001b[0m \u001b[0;34m+\u001b[0m \u001b[0;34m[\u001b[0m\u001b[0mfieldid\u001b[0m \u001b[0;32mfor\u001b[0m \u001b[0mfieldid\u001b[0m\u001b[0;34m,\u001b[0m \u001b[0m_\u001b[0m \u001b[0;32min\u001b[0m \u001b[0mdocument\u001b[0m\u001b[0;34m]\u001b[0m\u001b[0;34m)\u001b[0m\u001b[0;34m)\u001b[0m \u001b[0;31m# [-1] to avoid exceptions from max(empty)\u001b[0m\u001b[0;34m\u001b[0m\u001b[0m\n\u001b[0m\u001b[1;32m    497\u001b[0m     \u001b[0;32mreturn\u001b[0m \u001b[0mmaxid\u001b[0m\u001b[0;34m\u001b[0m\u001b[0m\n\u001b[1;32m    498\u001b[0m \u001b[0;34m\u001b[0m\u001b[0m\n",
      "\u001b[0;31mValueError\u001b[0m: need more than 1 value to unpack"
     ]
    }
   ],
   "source": [
    "pubmed_sim = similarities.MatrixSimilarity('/tmp/sim', pubmed_corpus_lsi, pubmed_lsi.num_topics)"
   ]
  },
  {
   "cell_type": "code",
   "execution_count": null,
   "metadata": {
    "collapsed": true
   },
   "outputs": [],
   "source": [
    "pubmed_sim.save('./pmc_models_serialized/pubmed_sim')"
   ]
  },
  {
   "cell_type": "markdown",
   "metadata": {},
   "source": [
    "### Folding in a new document and loading models\n",
    "\n",
    "tfidf = models.tfidfmodel.TfidfModel.load('tfidf')\n",
    "\n",
    "lsi = models.LsiModel.load('lsi')\n",
    "\n",
    "Create an index transformer that calculates similarity based on our space\n",
    " \n",
    "test_index1 = similarities.MatrixSimilarity(test_lsi1)"
   ]
  },
  {
   "cell_type": "markdown",
   "metadata": {},
   "source": [
    "##### Transform New Doc"
   ]
  },
  {
   "cell_type": "code",
   "execution_count": 5,
   "metadata": {
    "collapsed": true
   },
   "outputs": [],
   "source": [
    "new_doc = \"\"\"\n",
    "The abnormal position of the testis is the most common congenital anomaly of genitalia in men, with two different periods of presentation: either early in life, commonly called congenital undescended testes, or a few years later, called acquired or ascending testes. In the second group, it seems that the testis has been positioned properly at an early stage of growth, but has subsequently left its normal scrotal position to occupy the inguinal area. This group is quite controversial, as some authors considered these cases to be misdiagnoses owing to an error in physical examination.1 The cumulative experience of qualified examiners, however, suggests that this is a real phenomenon,2 which explains the increasing proportion of orchidopexies performed in late infancy.3 obesity obesity obesity circumference huge huge large large large cigarettesobesity obesity obesity circumference huge huge large large large cigarettesobesity obesity obesity circumference huge huge large large large cigarettesobesity obesity obesity circumference huge huge large large large cigarettesobesity obesity obesity circumference huge huge large large large cigarettesobesity obesity obesity circumference huge huge large large large cigarettesobesity obesity obesity circumference huge huge large large large cigarettesobesity obesity obesity circumference huge huge large large large cigarettesobesity obesity obesity circumference huge huge large large large cigarettesobesity obesity obesity circumference huge huge large large large cigarettesobesity obesity obesity circumference huge huge large large large cigarettes\"\"\""
   ]
  },
  {
   "cell_type": "code",
   "execution_count": 6,
   "metadata": {
    "collapsed": true
   },
   "outputs": [],
   "source": [
    "new_doc = utils.tokenize(new_doc)"
   ]
  },
  {
   "cell_type": "code",
   "execution_count": 7,
   "metadata": {
    "collapsed": false
   },
   "outputs": [],
   "source": [
    "new_doc_bow = pubmed_corpus_lsi.corpus.corpus.dictionary.doc2bow(new_doc)"
   ]
  },
  {
   "cell_type": "code",
   "execution_count": 8,
   "metadata": {
    "collapsed": false
   },
   "outputs": [],
   "source": [
    "new_doc_tfidf = pubmed_tfidf[new_doc_bow]"
   ]
  },
  {
   "cell_type": "code",
   "execution_count": 9,
   "metadata": {
    "collapsed": false
   },
   "outputs": [],
   "source": [
    "new_doc_lsi = pubmed_lsi[new_doc_tfidf]"
   ]
  },
  {
   "cell_type": "code",
   "execution_count": 10,
   "metadata": {
    "collapsed": true
   },
   "outputs": [
    {
     "data": {
      "text/plain": [
       "[(0, -0.12000446291369563),\n",
       " (1, 0.20150191950928154),\n",
       " (2, -0.045225862478399118),\n",
       " (3, -0.053866822432977655),\n",
       " (4, -0.026808551135531457),\n",
       " (5, -0.03838459278510669),\n",
       " (6, -0.018883901450622857),\n",
       " (7, 0.017147405511320553),\n",
       " (8, -0.029993826708680168),\n",
       " (9, 0.035487177557742625),\n",
       " (10, 0.019654076525946359),\n",
       " (11, 0.020371078517634415),\n",
       " (12, 0.0020395792132859017),\n",
       " (13, -0.0076387136955628097),\n",
       " (14, 0.0044546927074813778),\n",
       " (15, -0.0027367587254059854),\n",
       " (16, 0.0083795018318535766),\n",
       " (17, 0.015525374899008017),\n",
       " (18, -0.019949175190026817),\n",
       " (19, -0.0015975524484670481),\n",
       " (20, -0.00069886653782304708),\n",
       " (21, 0.005762389101559723),\n",
       " (22, 0.012153077636187259),\n",
       " (23, 0.00054767702911859837),\n",
       " (24, 0.016345075319382129),\n",
       " (25, -0.0077603459214458164),\n",
       " (26, 0.0025975282370102356),\n",
       " (27, 0.014801422447714012),\n",
       " (28, 0.012066774889209552),\n",
       " (29, 0.011321961133926544),\n",
       " (30, 0.0041440503695063203),\n",
       " (31, 0.013937350414204913),\n",
       " (32, 0.0169204719284206),\n",
       " (33, 0.0052728681883941518),\n",
       " (34, 0.025085481202304253),\n",
       " (35, -0.017017472084114769),\n",
       " (36, 0.0043196458490129897),\n",
       " (37, 0.0043463688322540415),\n",
       " (38, -0.0070428901951003669),\n",
       " (39, 0.026045163035237986),\n",
       " (40, 0.0074282707645289131),\n",
       " (41, 0.00964105719713086),\n",
       " (42, -0.0094847513586168442),\n",
       " (43, 0.011085292412957764),\n",
       " (44, -0.0042861343455748461),\n",
       " (45, -0.00067888894056867069),\n",
       " (46, 0.0095304803660665703),\n",
       " (47, 0.004936900495130226),\n",
       " (48, 0.0010619818788506613),\n",
       " (49, -0.0059489114579782581),\n",
       " (50, -0.00020999179903305335),\n",
       " (51, 0.00041007488544045204),\n",
       " (52, 0.0089026960088858728),\n",
       " (53, 0.0056679518317142453),\n",
       " (54, 0.0096355893159964547),\n",
       " (55, 0.0013588416155409333),\n",
       " (56, -0.0089499998522726918),\n",
       " (57, -0.0006995686705501212),\n",
       " (58, -0.014991774561898867),\n",
       " (59, -0.010208673982838505),\n",
       " (60, -0.006584278038539202),\n",
       " (61, -0.013908552724462351),\n",
       " (62, -0.015905801686592117),\n",
       " (63, 0.013334922198072804),\n",
       " (64, 0.00040423656376668691),\n",
       " (65, 0.0088958140193360694),\n",
       " (66, 0.0051142078693338167),\n",
       " (67, -0.008177701856067426),\n",
       " (68, -0.0043548102960815982),\n",
       " (69, -0.031479211138829344),\n",
       " (70, 0.0033323517065209298),\n",
       " (71, -0.020872377445651378),\n",
       " (72, -0.0029318534210253863),\n",
       " (73, 0.0021019072540816482),\n",
       " (74, -0.0051993857734365118),\n",
       " (75, 0.022639242667259529),\n",
       " (76, -0.0048598309548936267),\n",
       " (77, 0.0402562632577547),\n",
       " (78, 0.0082302319273938745),\n",
       " (79, 0.011089587984778349),\n",
       " (80, 0.023709368025191902),\n",
       " (81, -0.0019317561812491274),\n",
       " (82, -0.00047852534378911381),\n",
       " (83, -0.015302711209859805),\n",
       " (84, -0.023396654221211604),\n",
       " (85, -0.013864739266644012),\n",
       " (86, 0.014028646800706363),\n",
       " (87, -0.0028357969643033483),\n",
       " (88, -0.0053650243832315684),\n",
       " (89, 0.0015781318242459234),\n",
       " (90, -0.015311049690957663),\n",
       " (91, 0.0019332442373646446),\n",
       " (92, -0.013752766200932817),\n",
       " (93, -0.0130973761201759),\n",
       " (94, -0.011735559856118911),\n",
       " (95, 0.00050511535014496358),\n",
       " (96, -0.01779990687682273),\n",
       " (97, -0.0079180239872123359),\n",
       " (98, 0.0084066137400135299),\n",
       " (99, 0.0074235972817301814),\n",
       " (100, -0.0088455803978021424),\n",
       " (101, 0.0032880743508665808),\n",
       " (102, -0.022405395160806914),\n",
       " (103, -0.014166970223843724),\n",
       " (104, 0.0069276021198404038),\n",
       " (105, -0.0091170237314596395),\n",
       " (106, -6.9696530332288628e-05),\n",
       " (107, 0.022877033691828592),\n",
       " (108, 0.0032898754122646606),\n",
       " (109, -0.0042314658095130272),\n",
       " (110, -0.032541578509872507),\n",
       " (111, 0.033986670674097892),\n",
       " (112, -0.017218020159630341),\n",
       " (113, 0.021172563750721209),\n",
       " (114, 0.037088414457646428),\n",
       " (115, 0.015155429261134916),\n",
       " (116, 0.035491519637796252),\n",
       " (117, -0.024463951254191554),\n",
       " (118, 0.014929214391875726),\n",
       " (119, -0.01060370111378814),\n",
       " (120, 0.0087288416916745069),\n",
       " (121, 0.012164341544001363),\n",
       " (122, -0.00021264499947773989),\n",
       " (123, -0.0063651173477006469),\n",
       " (124, -0.028804379507832198),\n",
       " (125, -0.052906028582252657),\n",
       " (126, -0.0065253588714828921),\n",
       " (127, -0.013965399473961851),\n",
       " (128, -0.033249703529001202),\n",
       " (129, 0.0041678827530616707),\n",
       " (130, 0.0036630680802195196),\n",
       " (131, -0.013157764350523644),\n",
       " (132, 0.0029053803629789307)]"
      ]
     },
     "execution_count": 10,
     "metadata": {},
     "output_type": "execute_result"
    }
   ],
   "source": [
    "new_doc_lsi"
   ]
  },
  {
   "cell_type": "code",
   "execution_count": null,
   "metadata": {
    "collapsed": false
   },
   "outputs": [],
   "source": []
  },
  {
   "cell_type": "markdown",
   "metadata": {},
   "source": [
    "##### Load similarity object"
   ]
  },
  {
   "cell_type": "code",
   "execution_count": 1,
   "metadata": {
    "collapsed": true
   },
   "outputs": [],
   "source": [
    "from tfidf_pm import *"
   ]
  },
  {
   "cell_type": "code",
   "execution_count": 94,
   "metadata": {
    "collapsed": false
   },
   "outputs": [],
   "source": [
    "pubmed_sim = similarities.MatrixSimilarity.load('./pmc_models_serialized/pubmed_sim')"
   ]
  },
  {
   "cell_type": "code",
   "execution_count": 27,
   "metadata": {
    "collapsed": true
   },
   "outputs": [],
   "source": [
    "pubmed_tfidf = models.tfidfmodel.TfidfModel.load('./pmc_models_serialized/pubmed_tfidf')\n",
    "# pubmed_corpus_tfidf = models.tfidfmodel.TfidfModel.load('./pmc_models_serialized/pubmed_corpus_tfidf')"
   ]
  },
  {
   "cell_type": "code",
   "execution_count": 28,
   "metadata": {
    "collapsed": true
   },
   "outputs": [],
   "source": [
    "pubmed_lsi = models.LsiModel.load('./pmc_models_serialized/pubmed_lsi')\n",
    "pubmed_corpus_lsi = models.LsiModel.load('./pmc_models_serialized/pubmed_corpus_lsi')"
   ]
  },
  {
   "cell_type": "markdown",
   "metadata": {},
   "source": [
    "##### Load transform new doc"
   ]
  },
  {
   "cell_type": "code",
   "execution_count": 29,
   "metadata": {
    "collapsed": true
   },
   "outputs": [],
   "source": [
    "new_doc = \"\"\"\n",
    "The abnormal position of the testis is the most common congenital anomaly of genitalia in men, with two different periods of presentation: either early in life, commonly called congenital undescended testes, or a few years later, called acquired or ascending testes. In the second group, it seems that the testis has been positioned properly at an early stage of growth, but has subsequently left its normal scrotal position to occupy the inguinal area. This group is quite controversial, as some authors considered these cases to be misdiagnoses owing to an error in physical examination.1 The cumulative experience of qualified examiners, however, suggests that this is a real phenomenon,2 which explains the increasing proportion of orchidopexies performed in late infancy.3 obesity obesity obesity circumference huge huge large large large cigarettesobesity obesity obesity circumference huge huge large large large cigarettesobesity obesity obesity circumference huge huge large large large cigarettesobesity obesity obesity circumference huge huge large large large cigarettesobesity obesity obesity circumference huge huge large large large cigarettesobesity obesity obesity circumference huge huge large large large cigarettesobesity obesity obesity circumference huge huge large large large cigarettesobesity obesity obesity circumference huge huge large large large cigarettesobesity obesity obesity circumference huge huge large large large cigarettesobesity obesity obesity circumference huge huge large large large cigarettesobesity obesity obesity circumference huge huge large large large cigarettes\"\"\""
   ]
  },
  {
   "cell_type": "code",
   "execution_count": 95,
   "metadata": {
    "collapsed": false
   },
   "outputs": [],
   "source": [
    "def get_similarity_list(new_doc):\n",
    "    new_doc = utils.tokenize(new_doc)\n",
    "    new_doc_bow = pubmed_corpus_lsi.corpus.corpus.dictionary.doc2bow(new_doc)\n",
    "    new_doc_tfidf = pubmed_tfidf[new_doc_bow]\n",
    "    new_doc_lsi = pubmed_lsi[new_doc_tfidf]\n",
    "    new_doc_sim = pubmed_sim[new_doc_lsi]\n",
    "    return new_doc_lsi"
   ]
  },
  {
   "cell_type": "code",
   "execution_count": 12,
   "metadata": {
    "collapsed": true
   },
   "outputs": [],
   "source": [
    "new_doc = utils.tokenize(new_doc)"
   ]
  },
  {
   "cell_type": "code",
   "execution_count": 13,
   "metadata": {
    "collapsed": false
   },
   "outputs": [],
   "source": [
    "new_doc_bow = pubmed_corpus_lsi.corpus.corpus.dictionary.doc2bow(new_doc)"
   ]
  },
  {
   "cell_type": "code",
   "execution_count": 14,
   "metadata": {
    "collapsed": false
   },
   "outputs": [],
   "source": [
    "new_doc_tfidf = pubmed_tfidf[new_doc_bow]"
   ]
  },
  {
   "cell_type": "code",
   "execution_count": 15,
   "metadata": {
    "collapsed": false
   },
   "outputs": [],
   "source": [
    "new_doc_lsi = pubmed_lsi[new_doc_tfidf]"
   ]
  },
  {
   "cell_type": "code",
   "execution_count": 16,
   "metadata": {
    "collapsed": true
   },
   "outputs": [
    {
     "data": {
      "text/plain": [
       "[(0, -0.12000446291369563),\n",
       " (1, 0.20150191950928154),\n",
       " (2, -0.045225862478399118),\n",
       " (3, -0.053866822432977655),\n",
       " (4, -0.026808551135531457),\n",
       " (5, -0.03838459278510669),\n",
       " (6, -0.018883901450622857),\n",
       " (7, 0.017147405511320553),\n",
       " (8, -0.029993826708680168),\n",
       " (9, 0.035487177557742625),\n",
       " (10, 0.019654076525946359),\n",
       " (11, 0.020371078517634415),\n",
       " (12, 0.0020395792132859017),\n",
       " (13, -0.0076387136955628097),\n",
       " (14, 0.0044546927074813778),\n",
       " (15, -0.0027367587254059854),\n",
       " (16, 0.0083795018318535766),\n",
       " (17, 0.015525374899008017),\n",
       " (18, -0.019949175190026817),\n",
       " (19, -0.0015975524484670481),\n",
       " (20, -0.00069886653782304708),\n",
       " (21, 0.005762389101559723),\n",
       " (22, 0.012153077636187259),\n",
       " (23, 0.00054767702911859837),\n",
       " (24, 0.016345075319382129),\n",
       " (25, -0.0077603459214458164),\n",
       " (26, 0.0025975282370102356),\n",
       " (27, 0.014801422447714012),\n",
       " (28, 0.012066774889209552),\n",
       " (29, 0.011321961133926544),\n",
       " (30, 0.0041440503695063203),\n",
       " (31, 0.013937350414204913),\n",
       " (32, 0.0169204719284206),\n",
       " (33, 0.0052728681883941518),\n",
       " (34, 0.025085481202304253),\n",
       " (35, -0.017017472084114769),\n",
       " (36, 0.0043196458490129897),\n",
       " (37, 0.0043463688322540415),\n",
       " (38, -0.0070428901951003669),\n",
       " (39, 0.026045163035237986),\n",
       " (40, 0.0074282707645289131),\n",
       " (41, 0.00964105719713086),\n",
       " (42, -0.0094847513586168442),\n",
       " (43, 0.011085292412957764),\n",
       " (44, -0.0042861343455748461),\n",
       " (45, -0.00067888894056867069),\n",
       " (46, 0.0095304803660665703),\n",
       " (47, 0.004936900495130226),\n",
       " (48, 0.0010619818788506613),\n",
       " (49, -0.0059489114579782581),\n",
       " (50, -0.00020999179903305335),\n",
       " (51, 0.00041007488544045204),\n",
       " (52, 0.0089026960088858728),\n",
       " (53, 0.0056679518317142453),\n",
       " (54, 0.0096355893159964547),\n",
       " (55, 0.0013588416155409333),\n",
       " (56, -0.0089499998522726918),\n",
       " (57, -0.0006995686705501212),\n",
       " (58, -0.014991774561898867),\n",
       " (59, -0.010208673982838505),\n",
       " (60, -0.006584278038539202),\n",
       " (61, -0.013908552724462351),\n",
       " (62, -0.015905801686592117),\n",
       " (63, 0.013334922198072804),\n",
       " (64, 0.00040423656376668691),\n",
       " (65, 0.0088958140193360694),\n",
       " (66, 0.0051142078693338167),\n",
       " (67, -0.008177701856067426),\n",
       " (68, -0.0043548102960815982),\n",
       " (69, -0.031479211138829344),\n",
       " (70, 0.0033323517065209298),\n",
       " (71, -0.020872377445651378),\n",
       " (72, -0.0029318534210253863),\n",
       " (73, 0.0021019072540816482),\n",
       " (74, -0.0051993857734365118),\n",
       " (75, 0.022639242667259529),\n",
       " (76, -0.0048598309548936267),\n",
       " (77, 0.0402562632577547),\n",
       " (78, 0.0082302319273938745),\n",
       " (79, 0.011089587984778349),\n",
       " (80, 0.023709368025191902),\n",
       " (81, -0.0019317561812491274),\n",
       " (82, -0.00047852534378911381),\n",
       " (83, -0.015302711209859805),\n",
       " (84, -0.023396654221211604),\n",
       " (85, -0.013864739266644012),\n",
       " (86, 0.014028646800706363),\n",
       " (87, -0.0028357969643033483),\n",
       " (88, -0.0053650243832315684),\n",
       " (89, 0.0015781318242459234),\n",
       " (90, -0.015311049690957663),\n",
       " (91, 0.0019332442373646446),\n",
       " (92, -0.013752766200932817),\n",
       " (93, -0.0130973761201759),\n",
       " (94, -0.011735559856118911),\n",
       " (95, 0.00050511535014496358),\n",
       " (96, -0.01779990687682273),\n",
       " (97, -0.0079180239872123359),\n",
       " (98, 0.0084066137400135299),\n",
       " (99, 0.0074235972817301814),\n",
       " (100, -0.0088455803978021424),\n",
       " (101, 0.0032880743508665808),\n",
       " (102, -0.022405395160806914),\n",
       " (103, -0.014166970223843724),\n",
       " (104, 0.0069276021198404038),\n",
       " (105, -0.0091170237314596395),\n",
       " (106, -6.9696530332288628e-05),\n",
       " (107, 0.022877033691828592),\n",
       " (108, 0.0032898754122646606),\n",
       " (109, -0.0042314658095130272),\n",
       " (110, -0.032541578509872507),\n",
       " (111, 0.033986670674097892),\n",
       " (112, -0.017218020159630341),\n",
       " (113, 0.021172563750721209),\n",
       " (114, 0.037088414457646428),\n",
       " (115, 0.015155429261134916),\n",
       " (116, 0.035491519637796252),\n",
       " (117, -0.024463951254191554),\n",
       " (118, 0.014929214391875726),\n",
       " (119, -0.01060370111378814),\n",
       " (120, 0.0087288416916745069),\n",
       " (121, 0.012164341544001363),\n",
       " (122, -0.00021264499947773989),\n",
       " (123, -0.0063651173477006469),\n",
       " (124, -0.028804379507832198),\n",
       " (125, -0.052906028582252657),\n",
       " (126, -0.0065253588714828921),\n",
       " (127, -0.013965399473961851),\n",
       " (128, -0.033249703529001202),\n",
       " (129, 0.0041678827530616707),\n",
       " (130, 0.0036630680802195196),\n",
       " (131, -0.013157764350523644),\n",
       " (132, 0.0029053803629789307)]"
      ]
     },
     "execution_count": 16,
     "metadata": {},
     "output_type": "execute_result"
    }
   ],
   "source": [
    "new_doc_lsi"
   ]
  },
  {
   "cell_type": "code",
   "execution_count": 96,
   "metadata": {
    "collapsed": false
   },
   "outputs": [],
   "source": [
    "doc_sims = get_similarity_list(new_doc)"
   ]
  },
  {
   "cell_type": "code",
   "execution_count": 97,
   "metadata": {
    "collapsed": false
   },
   "outputs": [
    {
     "data": {
      "text/plain": [
       "[(0, 0.12000446291369517),\n",
       " (1, -0.2015019195092819),\n",
       " (2, 0.045225862478396911),\n",
       " (3, 0.053866822432978495),\n",
       " (4, 0.026808551135534011),\n",
       " (5, 0.038384592785106406),\n",
       " (6, 0.018883901450621018),\n",
       " (7, -0.017147405511325705),\n",
       " (8, 0.029993826708679443),\n",
       " (9, 0.035487177557741667),\n",
       " (10, 0.019654076525944631),\n",
       " (11, 0.02037107851763564),\n",
       " (12, 0.0020395792132824418),\n",
       " (13, -0.0076387136955624498),\n",
       " (14, 0.004454692707481305),\n",
       " (15, -0.0027367587254038582),\n",
       " (16, 0.0083795018318554501),\n",
       " (17, 0.015525374899005556),\n",
       " (18, -0.019949175190028302),\n",
       " (19, -0.0015975524484637689),\n",
       " (20, -0.00069886653782071507),\n",
       " (21, 0.0057623891015587689),\n",
       " (22, 0.012153077636186834),\n",
       " (23, 0.00054767702911967628),\n",
       " (24, 0.016345075319382719),\n",
       " (25, -0.0077603459214440193),\n",
       " (26, 0.0025975282370119942),\n",
       " (27, 0.014801422447714959),\n",
       " (28, 0.012066774889210317),\n",
       " (29, 0.011321961133929756),\n",
       " (30, 0.0041440503695075051),\n",
       " (31, 0.013937350414196676),\n",
       " (32, 0.016920471928421967),\n",
       " (33, 0.005272868188399088),\n",
       " (34, 0.025085481202310019),\n",
       " (35, -0.017017472084113063),\n",
       " (36, 0.0043196458490093789),\n",
       " (37, 0.0043463688322455561),\n",
       " (38, -0.0070428901950959624),\n",
       " (39, 0.02604516303524021),\n",
       " (40, 0.0074282707645297492),\n",
       " (41, 0.0096410571971298053),\n",
       " (42, -0.0094847513586110085),\n",
       " (43, 0.011085292412962022),\n",
       " (44, -0.0042861343455690001),\n",
       " (45, -0.00067888894057034686),\n",
       " (46, 0.0095304803660663691),\n",
       " (47, 0.0049369004951287836),\n",
       " (48, 0.0010619818788440611),\n",
       " (49, -0.0059489114579771799),\n",
       " (50, -0.00020999179904110211),\n",
       " (51, 0.0004100748854400053),\n",
       " (52, 0.0089026960088837235),\n",
       " (53, 0.0056679518317093967),\n",
       " (54, 0.0096355893159972249),\n",
       " (55, 0.0013588416155373264),\n",
       " (56, -0.0089499998522766643),\n",
       " (57, -0.00069956867053484642),\n",
       " (58, -0.014991774561899641),\n",
       " (59, -0.010208673982838749),\n",
       " (60, -0.0065842780385335581),\n",
       " (61, -0.013908552724434529),\n",
       " (62, -0.015905801686617493),\n",
       " (63, 0.013334922198075484),\n",
       " (64, 0.00040423656376942848),\n",
       " (65, 0.0088958140193391554),\n",
       " (66, 0.0051142078693312909),\n",
       " (67, -0.0081777018560607907),\n",
       " (68, -0.0043548102960779284),\n",
       " (69, -0.031479211138828948),\n",
       " (70, 0.0033323517065240948),\n",
       " (71, -0.020872377445655104),\n",
       " (72, -0.0029318534210241382),\n",
       " (73, 0.0021019072540702992),\n",
       " (74, -0.0051993857734400359),\n",
       " (75, 0.022639242667260417),\n",
       " (76, -0.0048598309548818575),\n",
       " (77, 0.040256263257757864),\n",
       " (78, 0.00823023192739291),\n",
       " (79, 0.011089587984774101),\n",
       " (80, 0.023709368025195347),\n",
       " (81, -0.0019317561812482683),\n",
       " (82, -0.00047852534379550844),\n",
       " (83, -0.015302711209864225),\n",
       " (84, -0.023396654221205775),\n",
       " (85, -0.013864739266652449),\n",
       " (86, 0.014028646800708781),\n",
       " (87, -0.002835796964300385),\n",
       " (88, -0.0053650243832280668),\n",
       " (89, 0.0015781318242583013),\n",
       " (90, -0.015311049690953388),\n",
       " (91, 0.0019332442373795112),\n",
       " (92, -0.013752766200933261),\n",
       " (93, -0.013097376120172675),\n",
       " (94, -0.011735559856117446),\n",
       " (95, 0.00050511535015311548),\n",
       " (96, -0.017799906876819451),\n",
       " (97, -0.0079180239872177951),\n",
       " (98, 0.0084066137400200854),\n",
       " (99, 0.0074235972817261672),\n",
       " (100, -0.0088455803978022222),\n",
       " (101, 0.0032880743508662165),\n",
       " (102, -0.022405395160804791),\n",
       " (103, -0.014166970223847726),\n",
       " (104, 0.0069276021198394471),\n",
       " (105, -0.0091170237314574971),\n",
       " (106, -6.9696530332862455e-05),\n",
       " (107, 0.022877033691830053),\n",
       " (108, 0.0032898754122600332),\n",
       " (109, -0.0042314658095134287),\n",
       " (110, -0.032541578509866893),\n",
       " (111, 0.03398667067409445),\n",
       " (112, -0.01721802015964877),\n",
       " (113, 0.02117256375071995),\n",
       " (114, 0.037088414457645984),\n",
       " (115, 0.015155429261127649),\n",
       " (116, 0.035491519637801353),\n",
       " (117, -0.024463951254190708),\n",
       " (118, 0.014929214391871013),\n",
       " (119, -0.0106037011137874),\n",
       " (120, 0.0087288416916744861),\n",
       " (121, 0.012164341544000869),\n",
       " (122, -0.00021264499947711146),\n",
       " (123, -0.0063651173476998975),\n",
       " (124, -0.0288043795078343),\n",
       " (125, -0.052906028582250901),\n",
       " (126, -0.0065253588714844759),\n",
       " (127, -0.013965399473964035),\n",
       " (128, -0.033249703529001841),\n",
       " (129, -0.0041678827530622926),\n",
       " (130, -0.0036630680802199073),\n",
       " (131, 0.013157764350523668),\n",
       " (132, -0.0029053803629787338)]"
      ]
     },
     "execution_count": 97,
     "metadata": {},
     "output_type": "execute_result"
    }
   ],
   "source": [
    "doc_sims"
   ]
  },
  {
   "cell_type": "code",
   "execution_count": 37,
   "metadata": {
    "collapsed": true
   },
   "outputs": [],
   "source": [
    "DOCUMENT_FILE_NAMES = pubmed_corpus_lsi.corpus.corpus.document_file_names"
   ]
  },
  {
   "cell_type": "markdown",
   "metadata": {},
   "source": [
    "##### Similarity one file to another"
   ]
  },
  {
   "cell_type": "code",
   "execution_count": 84,
   "metadata": {
    "collapsed": false
   },
   "outputs": [],
   "source": [
    "import csv\n",
    "import os\n",
    "title_dict = {}\n",
    "with open('./pmc_data/file_list.txt', 'rb') as csv_f:\n",
    "    reader = csv.reader(csv_f, delimiter='\\t', )\n",
    "    next(reader, None)\n",
    "    for row in reader:\n",
    "        file_name = os.path.basename(os.path.splitext(os.path.splitext(row[0])[0])[0])\n",
    "        pmc_num = row[3].replace('PMID:', '')\n",
    "        title_dict[file_name] = pmc_num"
   ]
  },
  {
   "cell_type": "code",
   "execution_count": 85,
   "metadata": {
    "collapsed": false
   },
   "outputs": [
    {
     "data": {
      "text/plain": [
       "'16905566'"
      ]
     },
     "execution_count": 85,
     "metadata": {},
     "output_type": "execute_result"
    }
   ],
   "source": [
    "title_dict['Arch_Dis_Child_2007_Apr_11_92(4)_298-303']"
   ]
  },
  {
   "cell_type": "code",
   "execution_count": null,
   "metadata": {
    "collapsed": false
   },
   "outputs": [],
   "source": [
    "DOCUMENT_FILE_NAMES"
   ]
  },
  {
   "cell_type": "code",
   "execution_count": 60,
   "metadata": {
    "collapsed": false
   },
   "outputs": [
    {
     "data": {
      "text/plain": [
       "u'Arch_Dis_Child_2007_Apr_11_92(4)_298-303'"
      ]
     },
     "execution_count": 60,
     "metadata": {},
     "output_type": "execute_result"
    }
   ],
   "source": [
    "file_name = os.path.basename(os.path.splitext(DOCUMENT_FILE_NAMES[0])[0])\n",
    "file_name"
   ]
  },
  {
   "cell_type": "code",
   "execution_count": null,
   "metadata": {
    "collapsed": true
   },
   "outputs": [],
   "source": []
  },
  {
   "cell_type": "code",
   "execution_count": null,
   "metadata": {
    "collapsed": true
   },
   "outputs": [],
   "source": []
  },
  {
   "cell_type": "code",
   "execution_count": null,
   "metadata": {
    "collapsed": true
   },
   "outputs": [],
   "source": []
  },
  {
   "cell_type": "code",
   "execution_count": null,
   "metadata": {
    "collapsed": true
   },
   "outputs": [],
   "source": []
  },
  {
   "cell_type": "code",
   "execution_count": null,
   "metadata": {
    "collapsed": true
   },
   "outputs": [],
   "source": [
    "??similarities.Similarity"
   ]
  },
  {
   "cell_type": "code",
   "execution_count": null,
   "metadata": {
    "collapsed": true
   },
   "outputs": [],
   "source": [
    "??interfaces.SimilarityABC"
   ]
  },
  {
   "cell_type": "code",
   "execution_count": null,
   "metadata": {
    "collapsed": true
   },
   "outputs": [],
   "source": [
    "??pubmed_corpus.dictionary.load"
   ]
  },
  {
   "cell_type": "code",
   "execution_count": null,
   "metadata": {
    "collapsed": true
   },
   "outputs": [],
   "source": [
    "??corpora.mmcorpus.MmCorpus"
   ]
  },
  {
   "cell_type": "code",
   "execution_count": null,
   "metadata": {
    "collapsed": true
   },
   "outputs": [],
   "source": [
    "??models.TfidfModel"
   ]
  },
  {
   "cell_type": "code",
   "execution_count": null,
   "metadata": {
    "collapsed": true
   },
   "outputs": [],
   "source": [
    "??corpora.TextCorpus"
   ]
  },
  {
   "cell_type": "code",
   "execution_count": null,
   "metadata": {
    "collapsed": true
   },
   "outputs": [],
   "source": [
    "??interfaces.CorpusABC"
   ]
  },
  {
   "cell_type": "code",
   "execution_count": null,
   "metadata": {
    "collapsed": true
   },
   "outputs": [],
   "source": [
    "??utils.SaveLoad"
   ]
  },
  {
   "cell_type": "code",
   "execution_count": null,
   "metadata": {
    "collapsed": true
   },
   "outputs": [],
   "source": []
  },
  {
   "cell_type": "code",
   "execution_count": null,
   "metadata": {
    "collapsed": true
   },
   "outputs": [],
   "source": []
  },
  {
   "cell_type": "code",
   "execution_count": null,
   "metadata": {
    "collapsed": true
   },
   "outputs": [],
   "source": []
  },
  {
   "cell_type": "code",
   "execution_count": null,
   "metadata": {
    "collapsed": true
   },
   "outputs": [],
   "source": []
  },
  {
   "cell_type": "code",
   "execution_count": null,
   "metadata": {
    "collapsed": true
   },
   "outputs": [],
   "source": []
  },
  {
   "cell_type": "code",
   "execution_count": null,
   "metadata": {
    "collapsed": true
   },
   "outputs": [],
   "source": []
  },
  {
   "cell_type": "code",
   "execution_count": null,
   "metadata": {
    "collapsed": true
   },
   "outputs": [],
   "source": []
  },
  {
   "cell_type": "code",
   "execution_count": null,
   "metadata": {
    "collapsed": true
   },
   "outputs": [],
   "source": []
  },
  {
   "cell_type": "code",
   "execution_count": null,
   "metadata": {
    "collapsed": true
   },
   "outputs": [],
   "source": []
  },
  {
   "cell_type": "code",
   "execution_count": null,
   "metadata": {
    "collapsed": true
   },
   "outputs": [],
   "source": []
  },
  {
   "cell_type": "code",
   "execution_count": null,
   "metadata": {
    "collapsed": true
   },
   "outputs": [],
   "source": []
  },
  {
   "cell_type": "code",
   "execution_count": null,
   "metadata": {
    "collapsed": true
   },
   "outputs": [],
   "source": []
  },
  {
   "cell_type": "code",
   "execution_count": null,
   "metadata": {
    "collapsed": true
   },
   "outputs": [],
   "source": []
  },
  {
   "cell_type": "code",
   "execution_count": null,
   "metadata": {
    "collapsed": true
   },
   "outputs": [],
   "source": []
  },
  {
   "cell_type": "code",
   "execution_count": null,
   "metadata": {
    "collapsed": true
   },
   "outputs": [],
   "source": [
    "dictionary = corpora.Dictionary()"
   ]
  },
  {
   "cell_type": "code",
   "execution_count": null,
   "metadata": {
    "collapsed": false
   },
   "outputs": [],
   "source": [
    "dictionary.doc2bow(['hello', 'something'])"
   ]
  },
  {
   "cell_type": "code",
   "execution_count": null,
   "metadata": {
    "collapsed": true
   },
   "outputs": [],
   "source": [
    "class thing:\n",
    "    def __init__(self):\n",
    "        self.array = [(1, 2, 3), (3,3, 3) , (2, 2, 2)]\n",
    "    \n",
    "    def __iter__(self):\n",
    "        for i, j, k in self.array:\n",
    "            yield i * 2\n",
    "            \n",
    "    def load_stuff(self):\n",
    "        for i in self:\n",
    "            print i\n",
    "            \n",
    "    def again(self):\n",
    "        for i in self:\n",
    "            print i"
   ]
  },
  {
   "cell_type": "code",
   "execution_count": null,
   "metadata": {
    "collapsed": true
   },
   "outputs": [],
   "source": [
    "a = thing()"
   ]
  },
  {
   "cell_type": "code",
   "execution_count": null,
   "metadata": {
    "collapsed": false
   },
   "outputs": [],
   "source": [
    "a.load_stuff()"
   ]
  },
  {
   "cell_type": "code",
   "execution_count": null,
   "metadata": {
    "collapsed": true
   },
   "outputs": [],
   "source": []
  },
  {
   "cell_type": "code",
   "execution_count": null,
   "metadata": {
    "collapsed": true
   },
   "outputs": [],
   "source": [
    "# class PubmedCorpus(corpora.TextCorpus):\n",
    "    \n",
    "#     def get_texts(self):\n",
    "#         directory = os.walk(self.input)\n",
    "#         for root, dirs, files in directory:\n",
    "#             for file_name in files:\n",
    "#                 file_path = os.path.join(root, file_name)\n",
    "#                 with open(file_path, 'rb') as f:\n",
    "#                     file_string = to_unicode_or_bust(f.read().lower())\n",
    "#                     file_tokenized = word_tokenize(file_string)\n",
    "#                     file_no_stops = [word for word in file_tokenized if word not in STOP_WORDS]\n",
    "#                     yield file_no_stops\n",
    "\n",
    "# class PubmedCorpus(corpora.TextCorpus):\n",
    "        \n",
    "#     def get_texts(self):\n",
    "#         for file_path in self.input:\n",
    "#             with open(file_path, 'rb') as f:\n",
    "#                 file_string = to_unicode_or_bust(f.read().lower())\n",
    "#                 file_tokenized = word_tokenize(file_string)\n",
    "#                 file_no_stops = [word for word in file_tokenized if word not in STOP_WORDS]\n",
    "#                 yield file_no_stops\n",
    "                    \n",
    "                \n",
    "# def load_article_paths():\n",
    "#     for root, dirs, files in os.walk('./pmc_data/pmc_text_files/'):\n",
    "#         for name in files:\n",
    "#             ARTICLE_FILE_PATHS.append(os.path.join(root, name))\n",
    "#     genre_folders_left = len(GENRE_FOLDERS)\n",
    "#     completed_genre_folders = 0 \n",
    "#     for genre_folder in GENRE_FOLDERS:\n",
    "#         completed_genre_folders += 1\n",
    "#         genre_folder_path = os.path.join(DATA_PATH, genre_folder)\n",
    "#         genre_file_list = os.listdir(genre_folder_path)\n",
    "#         for article_file_title in genre_file_list:\n",
    "#             article_file_path = os.path.join(genre_folder_path, article_file_title)\n",
    "#             if os.path.isfile(article_file_path):\n",
    "#                 ARTICLE_FILE_TITLES.append(article_file_title)\n",
    "#                 ARTICLE_FILE_PATHS.append(article_file_path)\n",
    "# #                 with open(article_file_path, 'rb') as f:\n",
    "# #                     document = f.read()\n",
    "# #                     ARTICLE_DOCUMENT_LIST.append(document)\n",
    "\n",
    "#                 print \"done with: \", article_file_title\n",
    "#                 print \"progress: \", completed_genre_folders / float(genre_folders_left)\n",
    "#             else:\n",
    "#                 sub_article_folder_list = os.listdir(article_file_path)\n",
    "#                 for sub_article_file_title in sub_article_folder_list:\n",
    "#                     sub_article_file_path = os.path.join(article_file_path, \n",
    "#                             sub_article_file_title)\n",
    "#                     ARTICLE_FILE_TITLES.append(sub_article_file_title)\n",
    "#                     ARTICLE_FILE_PATHS.append(sub_article_file_path)\n",
    "# #                     with open(sub_article_file_path, 'rb') as f:\n",
    "# #                         document = f.read()\n",
    "# #                         ARTICLE_DOCUMENT_LIST.append(document)"
   ]
  },
  {
   "cell_type": "markdown",
   "metadata": {
    "collapsed": false
   },
   "source": [
    "### Pubmed Corpus from corpora.TextCorpus"
   ]
  },
  {
   "cell_type": "code",
   "execution_count": null,
   "metadata": {
    "collapsed": true
   },
   "outputs": [],
   "source": [
    "# class PubmedCorpus(corpora.TextCorpus):\n",
    "#     def __init__(self, input=None, data_folder=DATA_PATH):\n",
    "#         super(TextCorpus, self).__init__()\n",
    "#         self.input = None\n",
    "#         self.data_folder = os.walk(data_folder)\n",
    "#         self.dictionary = Dictionary()\n",
    "#         self.metadata = False        \n",
    "#         if data_folder is not None:\n",
    "#             self.dictionary.add_documents\n",
    "    \n",
    "#     def __iter__(self):\n",
    "        \n",
    "        \n",
    "#     def get_texts(self, file_name):\n",
    "#         with open(file_name, 'rb') as doc_file:\n",
    "#             doc = doc_file.read()\n",
    "#             doc_tokenized = utils.tokenize(doc, lowercase=True)\n",
    "#             doc_tokenized = [word for word in doc_tokenized if word not in STOP_WORDS]\n",
    "#             yield doc_tokenized\n",
    "\n",
    "                    \n",
    "# #         for doc_file in self.input:\n",
    "# #             with open(doc_file, 'rb') as doc:\n",
    "# #                 doc_text = doc.read()\n",
    "# #                 tokenized_text = [token for token in utils.tokenize(doc_text, \n",
    "# #                                                                     lowercase=True)]\n",
    "# #                 tokenized_text = [word for word in tokenized_text if word not in STOP_WORDS]\n",
    "# #                 self.dictionary.add_documents([tokenized_text])\n",
    "# #                 yield self.dictionary.doc2bow(tokenized_text, allow_update=False)\n",
    "                \n",
    "        \n",
    "        \n",
    "        \n",
    "        \n",
    "# #         directory = os.walk(self.input)\n",
    "# #         for root, dirs, files in directory:\n",
    "# #             for file_name in files:\n",
    "# #                 file_path = os.path.join(root, file_name)\n",
    "# #                 with open(file_path, 'rb') as f:\n",
    "# #                     file_string = to_unicode_or_bust(f.read().lower())\n",
    "# #                     file_tokenized = word_tokenize(file_string)\n",
    "# #                     file_no_stops = [word for word in file_tokenized if word not in STOP_WORDS]\n",
    "# #                     yield file_no_stops"
   ]
  },
  {
   "cell_type": "code",
   "execution_count": null,
   "metadata": {
    "collapsed": true
   },
   "outputs": [],
   "source": []
  },
  {
   "cell_type": "code",
   "execution_count": null,
   "metadata": {
    "collapsed": true
   },
   "outputs": [],
   "source": []
  },
  {
   "cell_type": "code",
   "execution_count": null,
   "metadata": {
    "collapsed": true
   },
   "outputs": [],
   "source": []
  },
  {
   "cell_type": "code",
   "execution_count": null,
   "metadata": {
    "collapsed": true
   },
   "outputs": [],
   "source": []
  },
  {
   "cell_type": "code",
   "execution_count": null,
   "metadata": {
    "collapsed": true
   },
   "outputs": [],
   "source": []
  },
  {
   "cell_type": "code",
   "execution_count": null,
   "metadata": {
    "collapsed": true
   },
   "outputs": [],
   "source": []
  },
  {
   "cell_type": "code",
   "execution_count": null,
   "metadata": {
    "collapsed": true
   },
   "outputs": [],
   "source": []
  },
  {
   "cell_type": "code",
   "execution_count": null,
   "metadata": {
    "collapsed": true
   },
   "outputs": [],
   "source": []
  },
  {
   "cell_type": "code",
   "execution_count": null,
   "metadata": {
    "collapsed": true
   },
   "outputs": [],
   "source": []
  },
  {
   "cell_type": "code",
   "execution_count": null,
   "metadata": {
    "collapsed": true
   },
   "outputs": [],
   "source": []
  },
  {
   "cell_type": "code",
   "execution_count": null,
   "metadata": {
    "collapsed": true
   },
   "outputs": [],
   "source": []
  },
  {
   "cell_type": "code",
   "execution_count": null,
   "metadata": {
    "collapsed": true
   },
   "outputs": [],
   "source": []
  },
  {
   "cell_type": "code",
   "execution_count": null,
   "metadata": {
    "collapsed": true
   },
   "outputs": [],
   "source": []
  },
  {
   "cell_type": "code",
   "execution_count": null,
   "metadata": {
    "collapsed": true
   },
   "outputs": [],
   "source": []
  },
  {
   "cell_type": "code",
   "execution_count": null,
   "metadata": {
    "collapsed": true
   },
   "outputs": [],
   "source": []
  },
  {
   "cell_type": "code",
   "execution_count": null,
   "metadata": {
    "collapsed": true
   },
   "outputs": [],
   "source": []
  },
  {
   "cell_type": "code",
   "execution_count": null,
   "metadata": {
    "collapsed": true
   },
   "outputs": [],
   "source": []
  }
 ],
 "metadata": {
  "kernelspec": {
   "display_name": "Python 2",
   "language": "python",
   "name": "python2"
  },
  "language_info": {
   "codemirror_mode": {
    "name": "ipython",
    "version": 2
   },
   "file_extension": ".py",
   "mimetype": "text/x-python",
   "name": "python",
   "nbconvert_exporter": "python",
   "pygments_lexer": "ipython2",
   "version": "2.7.11"
  }
 },
 "nbformat": 4,
 "nbformat_minor": 0
}
