{
 "cells": [
  {
   "cell_type": "markdown",
   "metadata": {},
   "source": [
    "# Make BoW, TFIDF, Lsi"
   ]
  },
  {
   "cell_type": "code",
   "execution_count": 87,
   "metadata": {
    "collapsed": true
   },
   "outputs": [],
   "source": [
    "from tfidf_pm import *\n",
    "pubmed_corpus = PubmedCorpus()"
   ]
  },
  {
   "cell_type": "code",
   "execution_count": 88,
   "metadata": {
    "collapsed": false
   },
   "outputs": [],
   "source": [
    "pubmed_corpus.load_corpus()"
   ]
  },
  {
   "cell_type": "code",
   "execution_count": 89,
   "metadata": {
    "collapsed": false
   },
   "outputs": [
    {
     "data": {
      "text/plain": [
       "[(49, 1), (561, 1)]"
      ]
     },
     "execution_count": 89,
     "metadata": {},
     "output_type": "execute_result"
    }
   ],
   "source": [
    "pubmed_corpus.dictionary.doc2bow(['yo', 'yellow', 'circumference', 'obesity'])"
   ]
  },
  {
   "cell_type": "code",
   "execution_count": 90,
   "metadata": {
    "collapsed": false
   },
   "outputs": [
    {
     "name": "stderr",
     "output_type": "stream",
     "text": [
      "/usr/local/lib/python2.7/site-packages/gensim-0.12.4-py2.7-macosx-10.11-x86_64.egg/gensim/interfaces.py:60: UserWarning: corpus.save() stores only the (tiny) iteration object; to serialize the actual corpus content, use e.g. MmCorpus.serialize(corpus)\n",
      "  warnings.warn(\"corpus.save() stores only the (tiny) iteration object; \"\n"
     ]
    }
   ],
   "source": [
    "pubmed_tfidf = models.TfidfModel(pubmed_corpus, normalize=True)\n",
    "pubmed_tfidf.save(os.path.join(SAVE_LOCATION, 'pubmed_tfidf'))\n",
    "\n",
    "pubmed_corpus_tfidf = pubmed_tfidf[pubmed_corpus]\n",
    "pubmed_corpus_tfidf.save(os.path.join(SAVE_LOCATION, 'pubmed_corpus_tfidf'))\n",
    "\n",
    "pubmed_lsi = models.LsiModel(pubmed_corpus_tfidf, \n",
    "                             id2word=pubmed_corpus.dictionary, \n",
    "                             num_topics=200)\n",
    "pubmed_corpus_lsi = pubmed_lsi[pubmed_corpus_tfidf]\n",
    "pubmed_lsi.save(os.path.join(SAVE_LOCATION, 'pubmed_lsi'))"
   ]
  },
  {
   "cell_type": "markdown",
   "metadata": {},
   "source": [
    "##### save dictionary"
   ]
  },
  {
   "cell_type": "code",
   "execution_count": 91,
   "metadata": {
    "collapsed": false
   },
   "outputs": [],
   "source": [
    "pubmed_corpus.dictionary.save('./pmc_models_serialized/pubmed_corpus.dict')"
   ]
  },
  {
   "cell_type": "markdown",
   "metadata": {},
   "source": [
    "##### saved market matrix format (iterates through corpus on creation, .... lazy)"
   ]
  },
  {
   "cell_type": "code",
   "execution_count": 92,
   "metadata": {
    "collapsed": true
   },
   "outputs": [],
   "source": [
    "corpora.MmCorpus.serialize('./pmc_models_serialized/pubmed_corpus.mm', pubmed_corpus)"
   ]
  },
  {
   "cell_type": "markdown",
   "metadata": {},
   "source": [
    "##### load dictionary"
   ]
  },
  {
   "cell_type": "code",
   "execution_count": 78,
   "metadata": {
    "collapsed": true
   },
   "outputs": [],
   "source": [
    "from tfidf_pm import *"
   ]
  },
  {
   "cell_type": "code",
   "execution_count": 93,
   "metadata": {
    "collapsed": true
   },
   "outputs": [],
   "source": [
    "pubmed_corpus = corpora.MmCorpus('./pmc_models_serialized/pubmed_corpus.mm')"
   ]
  },
  {
   "cell_type": "code",
   "execution_count": 94,
   "metadata": {
    "collapsed": false
   },
   "outputs": [],
   "source": [
    "pubmed_dict = corpora.Dictionary.load('./pmc_models_serialized/pubmed_corpus.dict')"
   ]
  },
  {
   "cell_type": "markdown",
   "metadata": {},
   "source": [
    "### Folding in a new document and loading models\n",
    "\n",
    "tfidf = models.tfidfmodel.TfidfModel.load('tfidf')\n",
    "\n",
    "lsi = models.LsiModel.load('lsi')\n",
    "\n",
    "Create an index transformer that calculates similarity based on our space\n",
    " \n",
    "test_index1 = similarities.MatrixSimilarity(test_lsi1)"
   ]
  },
  {
   "cell_type": "markdown",
   "metadata": {},
   "source": [
    "##### newdoc_loading"
   ]
  },
  {
   "cell_type": "code",
   "execution_count": 174,
   "metadata": {
    "collapsed": true
   },
   "outputs": [],
   "source": [
    "pubmed_tfidf = models.tfidfmodel.TfidfModel.load('./pmc_models_serialized/pubmed_tfidf')\n",
    "# pubmed_corpus_tfidf = models.tfidfmodel.TfidfModel.load('./pmc_models_serialized/pubmed_corpus_tfidf')"
   ]
  },
  {
   "cell_type": "code",
   "execution_count": null,
   "metadata": {
    "collapsed": true
   },
   "outputs": [],
   "source": [
    "new_doc = \"\"\"\n",
    "The abnormal position of the testis is the most common congenital anomaly of genitalia in men, with two different periods of presentation: either early in life, commonly called congenital undescended testes, or a few years later, called acquired or ascending testes. In the second group, it seems that the testis has been positioned properly at an early stage of growth, but has subsequently left its normal scrotal position to occupy the inguinal area. This group is quite controversial, as some authors considered these cases to be misdiagnoses owing to an error in physical examination.1 The cumulative experience of qualified examiners, however, suggests that this is a real phenomenon,2 which explains the increasing proportion of orchidopexies performed in late infancy.3\"\"\"\n",
    "new_doc = utils.tokenize(new_doc)\n",
    "new_doc_bow = pubmed_dict.doc2bow(new_doc)\n",
    "new_doc_bow = [i for i in new_doc_bow if i not in STOP_WORDS]"
   ]
  },
  {
   "cell_type": "code",
   "execution_count": 175,
   "metadata": {
    "collapsed": false
   },
   "outputs": [],
   "source": [
    "new_doc_tfidf = pubmed_tfidf[new_doc_bow]"
   ]
  },
  {
   "cell_type": "code",
   "execution_count": 203,
   "metadata": {
    "collapsed": true
   },
   "outputs": [],
   "source": [
    "pubmed_lsi = models.LsiModel.load('./pmc_models_serialized/pubmed_lsi')\n",
    "pubmed_corpus_lsi = models.LsiModel.load('./pmc_models_serialized/pubmed_corpus_lsi')"
   ]
  },
  {
   "cell_type": "code",
   "execution_count": 177,
   "metadata": {
    "collapsed": false
   },
   "outputs": [],
   "source": [
    "new_doc_lsi = pubmed_lsi[new_doc_tfidf]"
   ]
  },
  {
   "cell_type": "code",
   "execution_count": 191,
   "metadata": {
    "collapsed": true
   },
   "outputs": [
    {
     "data": {
      "text/plain": [
       "[(0, 0.048027037549642305),\n",
       " (1, 0.011056605273068091),\n",
       " (2, 0.001879924770169899),\n",
       " (3, -0.0088439978054580901),\n",
       " (4, -0.021612906052159944),\n",
       " (5, -0.0032375168572784411),\n",
       " (6, 0.0104581753380531),\n",
       " (7, 0.0073736962098311315),\n",
       " (8, -0.0045646032129995915),\n",
       " (9, 0.0023245218798763445),\n",
       " (10, -0.0054775367569398544),\n",
       " (11, -0.011048095986389965),\n",
       " (12, 0.001161968517992752),\n",
       " (13, 0.0021603876341004294),\n",
       " (14, -0.0074820786145911094),\n",
       " (15, -0.0039074816053093478),\n",
       " (16, -0.00082124795755694226),\n",
       " (17, 0.0019691180579214014),\n",
       " (18, 0.00091746819924815926),\n",
       " (19, 0.0080063167027579658),\n",
       " (20, 0.0041310760397743843),\n",
       " (21, -0.016544569418189659),\n",
       " (22, -0.014588413337480443),\n",
       " (23, 0.00013979087452990497),\n",
       " (24, 0.025837258021019768),\n",
       " (25, -0.010700528043139161),\n",
       " (26, -0.0031356240171900897),\n",
       " (27, -0.0043541734195798962),\n",
       " (28, -0.0071907101236857156),\n",
       " (29, -0.0049750900230378405),\n",
       " (30, 0.0059981944860570627),\n",
       " (31, 0.0065381968778645732),\n",
       " (32, 0.0028546657995513146),\n",
       " (33, 0.0014162408669671663),\n",
       " (34, 0.0003840703846523257),\n",
       " (35, -0.001527260816309367),\n",
       " (36, 0.01147212690880354),\n",
       " (37, -0.0041245241563815302),\n",
       " (38, 0.0049370837197558791),\n",
       " (39, -0.00035779515091204474),\n",
       " (40, -0.0051332329562187714),\n",
       " (41, -0.004810127811748722),\n",
       " (42, -0.015787343863801189),\n",
       " (43, -0.0037648551286170338),\n",
       " (44, -0.0071130149963267763),\n",
       " (45, -0.0064862468217077047),\n",
       " (46, -0.0039458989192909921),\n",
       " (47, -0.0031582479715641159),\n",
       " (48, -0.0020086787911220592),\n",
       " (49, 0.0021580141615707205),\n",
       " (50, -0.0016620368752512413),\n",
       " (51, -0.0035100091852264615),\n",
       " (52, 0.0070862580841355993),\n",
       " (53, 0.0053479437714790655),\n",
       " (54, 0.0098339808275318356),\n",
       " (55, 0.0020665630125493053),\n",
       " (56, -0.0077056361335162884),\n",
       " (57, -0.0065308132775878814),\n",
       " (58, -0.0028441364659412393),\n",
       " (59, 0.00052329541841106839),\n",
       " (60, -0.0066426311918700845),\n",
       " (61, 0.0014964293022159127),\n",
       " (62, 0.0056982448069913148),\n",
       " (63, 0.00060734785082845548),\n",
       " (64, -0.0095613168290773574),\n",
       " (65, -0.00079125692077056109),\n",
       " (66, 0.0082865596568628495),\n",
       " (67, -0.0067076945738490275),\n",
       " (68, -0.0052058489550869487),\n",
       " (69, -0.0090279726064784807),\n",
       " (70, 0.0065319554978919463),\n",
       " (71, -0.012202417042768208),\n",
       " (72, -0.0048015233042604721),\n",
       " (73, 0.0010043904960000574),\n",
       " (74, -0.00032574636526191606),\n",
       " (75, 0.01043871555044578),\n",
       " (76, -0.0046477012588379421),\n",
       " (77, 0.0032996179578389084),\n",
       " (78, 0.003798173162040056),\n",
       " (79, 0.0020595875349692246),\n",
       " (80, -0.010830271911600874),\n",
       " (81, 0.0085367283758744847),\n",
       " (82, -0.0027555096659706798),\n",
       " (83, 0.011276418682017859),\n",
       " (84, -0.00052688404586374946),\n",
       " (85, 6.2110019805066753e-05),\n",
       " (86, 0.0046890841572116418),\n",
       " (87, 0.0060059773570656332),\n",
       " (88, -0.00060857918593067086),\n",
       " (89, -0.007194701355999757),\n",
       " (90, 0.0030159675834705978),\n",
       " (91, -0.0093200831394889203),\n",
       " (92, 0.0065866807566304112),\n",
       " (93, 0.0056365467905507534),\n",
       " (94, -0.0067242774704963188),\n",
       " (95, -0.0081098523169924989),\n",
       " (96, -0.0060084033269391596),\n",
       " (97, 0.0056506944130194619),\n",
       " (98, 0.0099642631180381219),\n",
       " (99, -0.0051744202571274598),\n",
       " (100, 0.0030869887503261065),\n",
       " (101, 0.00083044465278263465),\n",
       " (102, -0.001551153685127066),\n",
       " (103, -0.002138591893776417),\n",
       " (104, 0.00045571851312559424),\n",
       " (105, -0.0053867669436781923),\n",
       " (106, -0.007531632688681557),\n",
       " (107, -0.00064411969974284761),\n",
       " (108, -0.0041658486335085596),\n",
       " (109, 0.0021387262772496422),\n",
       " (110, 0.0015746454826304731),\n",
       " (111, 0.0012363216793036774),\n",
       " (112, 0.0068074476261942678),\n",
       " (113, 0.0040434293231994293),\n",
       " (114, 0.0047116786190128015),\n",
       " (115, -0.011136631011467061),\n",
       " (116, -0.0033141318622302023),\n",
       " (117, 0.0057199787879548608),\n",
       " (118, -0.00073101729960113539),\n",
       " (119, -0.0014820020857170347),\n",
       " (120, 0.0066237563807551806),\n",
       " (121, 0.0058721725760957424),\n",
       " (122, -0.0098655967277813915),\n",
       " (123, 0.0029474411101004907),\n",
       " (124, 0.0073357626839683056),\n",
       " (125, 0.0036485357960266934),\n",
       " (126, 0.0057489369060520447),\n",
       " (127, 0.0027120233800558696),\n",
       " (128, 0.010347966968438505),\n",
       " (129, -0.014131326338320123),\n",
       " (130, 0.0016212477023579404),\n",
       " (131, 0.0039128557398880543),\n",
       " (132, -0.009151094529795633)]"
      ]
     },
     "execution_count": 191,
     "metadata": {},
     "output_type": "execute_result"
    }
   ],
   "source": [
    "new_doc_lsi"
   ]
  },
  {
   "cell_type": "markdown",
   "metadata": {},
   "source": [
    "##### load old corpus"
   ]
  },
  {
   "cell_type": "code",
   "execution_count": 207,
   "metadata": {
    "collapsed": false
   },
   "outputs": [
    {
     "data": {
      "text/plain": [
       "<gensim.interfaces.TransformedCorpus at 0x12140e490>"
      ]
     },
     "execution_count": 207,
     "metadata": {},
     "output_type": "execute_result"
    }
   ],
   "source": [
    "pubmed_corpus_lsi"
   ]
  },
  {
   "cell_type": "code",
   "execution_count": 223,
   "metadata": {
    "collapsed": false
   },
   "outputs": [],
   "source": [
    "pubmed_sim = similarities.Similarity('/tmp/sim', pubmed_corpus_lsi, 200)"
   ]
  },
  {
   "cell_type": "code",
   "execution_count": 213,
   "metadata": {
    "collapsed": false
   },
   "outputs": [
    {
     "data": {
      "text/plain": [
       "array([-0.08444332, -0.06409013, -0.01443222,  0.02434336, -0.06976977,\n",
       "       -0.0320198 , -0.08359299, -0.04556347, -0.05940605, -0.19098535,\n",
       "       -0.01181337, -0.07734054, -0.08099037, -0.15163249, -0.05569159,\n",
       "       -0.03570147,  0.04215455, -0.07008014, -0.21393856, -0.29164606,\n",
       "        0.07697905, -0.22611648, -0.21288867, -0.02134378, -0.03335826,\n",
       "       -0.11195481, -0.07775478, -0.07345675, -0.02562496, -0.16910262,\n",
       "       -0.07728326, -0.04242862, -0.07669465, -0.05140106, -0.13052328,\n",
       "       -0.10440716, -0.177127  , -0.04505981, -0.07131976, -0.1013027 ,\n",
       "       -0.12957481, -0.11261255, -0.1447385 , -0.0406552 , -0.16709672,\n",
       "       -0.0806123 , -0.13883469, -0.06610221, -0.05991148, -0.08214207,\n",
       "       -0.10393701, -0.06128719, -0.08285856, -0.14646389, -0.10747768,\n",
       "       -0.09543582, -0.07113489, -0.18731581, -0.03788896, -0.07615815,\n",
       "       -0.11121454,  0.06829008, -0.04908158, -0.11912896, -0.09834013,\n",
       "       -0.06868245, -0.26193398, -0.13364179, -0.01655828, -0.15739332,\n",
       "        0.25514126, -0.05041515, -0.165583  , -0.10481414, -0.1329461 ,\n",
       "       -0.02321408, -0.00796789, -0.04052848, -0.11922871, -0.05419094,\n",
       "       -0.20510003,  0.10338455, -0.07294491, -0.10935105, -0.09003955,\n",
       "       -0.10142318, -0.1388377 , -0.07040187, -0.10546666, -0.12526043,\n",
       "       -0.04322657, -0.11986673, -0.05318956, -0.13492939, -0.0354493 ,\n",
       "       -0.23561198, -0.10746278, -0.20336595, -0.14129388, -0.09341677,\n",
       "       -0.14792182, -0.12079921,  0.00116633, -0.25330627, -0.08394089,\n",
       "       -0.09028037,  0.06665263, -0.16638301, -0.06506279, -0.07996444,\n",
       "       -0.03525469, -0.02492633, -0.13566755, -0.07560162, -0.0753237 ,\n",
       "       -0.02702901, -0.09524083, -0.19501108,  0.0382793 , -0.07969491,\n",
       "       -0.29347491, -0.05377247, -0.07415657, -0.13915795, -0.17023815,\n",
       "       -0.05926487, -0.22917297, -0.09654733,  0.21861596, -0.0324191 ,\n",
       "       -0.14535223, -0.16638094, -0.12785733], dtype=float32)"
      ]
     },
     "execution_count": 213,
     "metadata": {},
     "output_type": "execute_result"
    }
   ],
   "source": [
    "pubmed_sim[new_doc_lsi]"
   ]
  },
  {
   "cell_type": "code",
   "execution_count": 219,
   "metadata": {
    "collapsed": true
   },
   "outputs": [],
   "source": [
    "pubmed_sim.save('./pmc_models_serialized/pubmed_sim')"
   ]
  },
  {
   "cell_type": "code",
   "execution_count": 220,
   "metadata": {
    "collapsed": true
   },
   "outputs": [],
   "source": [
    "pubmed_sim = similarities.Similarity.load('./pmc_models_serialized/pubmed_sim')"
   ]
  },
  {
   "cell_type": "code",
   "execution_count": null,
   "metadata": {
    "collapsed": true
   },
   "outputs": [],
   "source": []
  },
  {
   "cell_type": "code",
   "execution_count": null,
   "metadata": {
    "collapsed": true
   },
   "outputs": [],
   "source": []
  },
  {
   "cell_type": "code",
   "execution_count": null,
   "metadata": {
    "collapsed": true
   },
   "outputs": [],
   "source": []
  },
  {
   "cell_type": "code",
   "execution_count": null,
   "metadata": {
    "collapsed": true
   },
   "outputs": [],
   "source": []
  },
  {
   "cell_type": "code",
   "execution_count": null,
   "metadata": {
    "collapsed": true
   },
   "outputs": [],
   "source": []
  },
  {
   "cell_type": "code",
   "execution_count": null,
   "metadata": {
    "collapsed": true
   },
   "outputs": [],
   "source": []
  },
  {
   "cell_type": "code",
   "execution_count": null,
   "metadata": {
    "collapsed": true
   },
   "outputs": [],
   "source": []
  },
  {
   "cell_type": "code",
   "execution_count": null,
   "metadata": {
    "collapsed": true
   },
   "outputs": [],
   "source": []
  },
  {
   "cell_type": "code",
   "execution_count": null,
   "metadata": {
    "collapsed": true
   },
   "outputs": [],
   "source": []
  },
  {
   "cell_type": "code",
   "execution_count": null,
   "metadata": {
    "collapsed": true
   },
   "outputs": [],
   "source": []
  },
  {
   "cell_type": "code",
   "execution_count": 218,
   "metadata": {
    "collapsed": true
   },
   "outputs": [],
   "source": [
    "??similarities.Similarity"
   ]
  },
  {
   "cell_type": "code",
   "execution_count": 193,
   "metadata": {
    "collapsed": true
   },
   "outputs": [],
   "source": [
    "??interfaces.SimilarityABC"
   ]
  },
  {
   "cell_type": "code",
   "execution_count": null,
   "metadata": {
    "collapsed": true
   },
   "outputs": [],
   "source": [
    "??pubmed_corpus.dictionary.load"
   ]
  },
  {
   "cell_type": "code",
   "execution_count": null,
   "metadata": {
    "collapsed": true
   },
   "outputs": [],
   "source": [
    "??corpora.mmcorpus.MmCorpus"
   ]
  },
  {
   "cell_type": "code",
   "execution_count": null,
   "metadata": {
    "collapsed": true
   },
   "outputs": [],
   "source": [
    "??models.TfidfModel"
   ]
  },
  {
   "cell_type": "code",
   "execution_count": 3,
   "metadata": {
    "collapsed": true
   },
   "outputs": [],
   "source": [
    "??corpora.TextCorpus"
   ]
  },
  {
   "cell_type": "code",
   "execution_count": 4,
   "metadata": {
    "collapsed": true
   },
   "outputs": [],
   "source": [
    "??interfaces.CorpusABC"
   ]
  },
  {
   "cell_type": "code",
   "execution_count": 5,
   "metadata": {
    "collapsed": true
   },
   "outputs": [],
   "source": [
    "??utils.SaveLoad"
   ]
  },
  {
   "cell_type": "code",
   "execution_count": null,
   "metadata": {
    "collapsed": true
   },
   "outputs": [],
   "source": []
  },
  {
   "cell_type": "code",
   "execution_count": null,
   "metadata": {
    "collapsed": true
   },
   "outputs": [],
   "source": []
  },
  {
   "cell_type": "code",
   "execution_count": null,
   "metadata": {
    "collapsed": true
   },
   "outputs": [],
   "source": []
  },
  {
   "cell_type": "code",
   "execution_count": null,
   "metadata": {
    "collapsed": true
   },
   "outputs": [],
   "source": []
  },
  {
   "cell_type": "code",
   "execution_count": null,
   "metadata": {
    "collapsed": true
   },
   "outputs": [],
   "source": []
  },
  {
   "cell_type": "code",
   "execution_count": null,
   "metadata": {
    "collapsed": true
   },
   "outputs": [],
   "source": []
  },
  {
   "cell_type": "code",
   "execution_count": null,
   "metadata": {
    "collapsed": true
   },
   "outputs": [],
   "source": []
  },
  {
   "cell_type": "code",
   "execution_count": null,
   "metadata": {
    "collapsed": true
   },
   "outputs": [],
   "source": []
  },
  {
   "cell_type": "code",
   "execution_count": null,
   "metadata": {
    "collapsed": true
   },
   "outputs": [],
   "source": []
  },
  {
   "cell_type": "code",
   "execution_count": null,
   "metadata": {
    "collapsed": true
   },
   "outputs": [],
   "source": []
  },
  {
   "cell_type": "code",
   "execution_count": null,
   "metadata": {
    "collapsed": true
   },
   "outputs": [],
   "source": []
  },
  {
   "cell_type": "code",
   "execution_count": null,
   "metadata": {
    "collapsed": true
   },
   "outputs": [],
   "source": []
  },
  {
   "cell_type": "code",
   "execution_count": null,
   "metadata": {
    "collapsed": true
   },
   "outputs": [],
   "source": []
  },
  {
   "cell_type": "code",
   "execution_count": null,
   "metadata": {
    "collapsed": true
   },
   "outputs": [],
   "source": []
  },
  {
   "cell_type": "code",
   "execution_count": null,
   "metadata": {
    "collapsed": true
   },
   "outputs": [],
   "source": [
    "dictionary = corpora.Dictionary()"
   ]
  },
  {
   "cell_type": "code",
   "execution_count": null,
   "metadata": {
    "collapsed": false
   },
   "outputs": [],
   "source": [
    "dictionary.doc2bow(['hello', 'something'])"
   ]
  },
  {
   "cell_type": "code",
   "execution_count": null,
   "metadata": {
    "collapsed": true
   },
   "outputs": [],
   "source": [
    "class thing:\n",
    "    def __init__(self):\n",
    "        self.array = [(1, 2, 3), (3,3, 3) , (2, 2, 2)]\n",
    "    \n",
    "    def __iter__(self):\n",
    "        for i, j, k in self.array:\n",
    "            yield i * 2\n",
    "            \n",
    "    def load_stuff(self):\n",
    "        for i in self:\n",
    "            print i\n",
    "            \n",
    "    def again(self):\n",
    "        for i in self:\n",
    "            print i"
   ]
  },
  {
   "cell_type": "code",
   "execution_count": null,
   "metadata": {
    "collapsed": true
   },
   "outputs": [],
   "source": [
    "a = thing()"
   ]
  },
  {
   "cell_type": "code",
   "execution_count": null,
   "metadata": {
    "collapsed": false
   },
   "outputs": [],
   "source": [
    "a.load_stuff()"
   ]
  },
  {
   "cell_type": "code",
   "execution_count": null,
   "metadata": {
    "collapsed": true
   },
   "outputs": [],
   "source": []
  },
  {
   "cell_type": "code",
   "execution_count": null,
   "metadata": {
    "collapsed": true
   },
   "outputs": [],
   "source": [
    "# class PubmedCorpus(corpora.TextCorpus):\n",
    "    \n",
    "#     def get_texts(self):\n",
    "#         directory = os.walk(self.input)\n",
    "#         for root, dirs, files in directory:\n",
    "#             for file_name in files:\n",
    "#                 file_path = os.path.join(root, file_name)\n",
    "#                 with open(file_path, 'rb') as f:\n",
    "#                     file_string = to_unicode_or_bust(f.read().lower())\n",
    "#                     file_tokenized = word_tokenize(file_string)\n",
    "#                     file_no_stops = [word for word in file_tokenized if word not in STOP_WORDS]\n",
    "#                     yield file_no_stops\n",
    "\n",
    "# class PubmedCorpus(corpora.TextCorpus):\n",
    "        \n",
    "#     def get_texts(self):\n",
    "#         for file_path in self.input:\n",
    "#             with open(file_path, 'rb') as f:\n",
    "#                 file_string = to_unicode_or_bust(f.read().lower())\n",
    "#                 file_tokenized = word_tokenize(file_string)\n",
    "#                 file_no_stops = [word for word in file_tokenized if word not in STOP_WORDS]\n",
    "#                 yield file_no_stops\n",
    "                    \n",
    "                \n",
    "# def load_article_paths():\n",
    "#     for root, dirs, files in os.walk('./pmc_data/pmc_text_files/'):\n",
    "#         for name in files:\n",
    "#             ARTICLE_FILE_PATHS.append(os.path.join(root, name))\n",
    "#     genre_folders_left = len(GENRE_FOLDERS)\n",
    "#     completed_genre_folders = 0 \n",
    "#     for genre_folder in GENRE_FOLDERS:\n",
    "#         completed_genre_folders += 1\n",
    "#         genre_folder_path = os.path.join(DATA_PATH, genre_folder)\n",
    "#         genre_file_list = os.listdir(genre_folder_path)\n",
    "#         for article_file_title in genre_file_list:\n",
    "#             article_file_path = os.path.join(genre_folder_path, article_file_title)\n",
    "#             if os.path.isfile(article_file_path):\n",
    "#                 ARTICLE_FILE_TITLES.append(article_file_title)\n",
    "#                 ARTICLE_FILE_PATHS.append(article_file_path)\n",
    "# #                 with open(article_file_path, 'rb') as f:\n",
    "# #                     document = f.read()\n",
    "# #                     ARTICLE_DOCUMENT_LIST.append(document)\n",
    "\n",
    "#                 print \"done with: \", article_file_title\n",
    "#                 print \"progress: \", completed_genre_folders / float(genre_folders_left)\n",
    "#             else:\n",
    "#                 sub_article_folder_list = os.listdir(article_file_path)\n",
    "#                 for sub_article_file_title in sub_article_folder_list:\n",
    "#                     sub_article_file_path = os.path.join(article_file_path, \n",
    "#                             sub_article_file_title)\n",
    "#                     ARTICLE_FILE_TITLES.append(sub_article_file_title)\n",
    "#                     ARTICLE_FILE_PATHS.append(sub_article_file_path)\n",
    "# #                     with open(sub_article_file_path, 'rb') as f:\n",
    "# #                         document = f.read()\n",
    "# #                         ARTICLE_DOCUMENT_LIST.append(document)"
   ]
  },
  {
   "cell_type": "markdown",
   "metadata": {
    "collapsed": false
   },
   "source": [
    "### Pubmed Corpus from corpora.TextCorpus"
   ]
  },
  {
   "cell_type": "code",
   "execution_count": null,
   "metadata": {
    "collapsed": true
   },
   "outputs": [],
   "source": [
    "# class PubmedCorpus(corpora.TextCorpus):\n",
    "#     def __init__(self, input=None, data_folder=DATA_PATH):\n",
    "#         super(TextCorpus, self).__init__()\n",
    "#         self.input = None\n",
    "#         self.data_folder = os.walk(data_folder)\n",
    "#         self.dictionary = Dictionary()\n",
    "#         self.metadata = False        \n",
    "#         if data_folder is not None:\n",
    "#             self.dictionary.add_documents\n",
    "    \n",
    "#     def __iter__(self):\n",
    "        \n",
    "        \n",
    "#     def get_texts(self, file_name):\n",
    "#         with open(file_name, 'rb') as doc_file:\n",
    "#             doc = doc_file.read()\n",
    "#             doc_tokenized = utils.tokenize(doc, lowercase=True)\n",
    "#             doc_tokenized = [word for word in doc_tokenized if word not in STOP_WORDS]\n",
    "#             yield doc_tokenized\n",
    "\n",
    "                    \n",
    "# #         for doc_file in self.input:\n",
    "# #             with open(doc_file, 'rb') as doc:\n",
    "# #                 doc_text = doc.read()\n",
    "# #                 tokenized_text = [token for token in utils.tokenize(doc_text, \n",
    "# #                                                                     lowercase=True)]\n",
    "# #                 tokenized_text = [word for word in tokenized_text if word not in STOP_WORDS]\n",
    "# #                 self.dictionary.add_documents([tokenized_text])\n",
    "# #                 yield self.dictionary.doc2bow(tokenized_text, allow_update=False)\n",
    "                \n",
    "        \n",
    "        \n",
    "        \n",
    "        \n",
    "# #         directory = os.walk(self.input)\n",
    "# #         for root, dirs, files in directory:\n",
    "# #             for file_name in files:\n",
    "# #                 file_path = os.path.join(root, file_name)\n",
    "# #                 with open(file_path, 'rb') as f:\n",
    "# #                     file_string = to_unicode_or_bust(f.read().lower())\n",
    "# #                     file_tokenized = word_tokenize(file_string)\n",
    "# #                     file_no_stops = [word for word in file_tokenized if word not in STOP_WORDS]\n",
    "# #                     yield file_no_stops"
   ]
  },
  {
   "cell_type": "code",
   "execution_count": null,
   "metadata": {
    "collapsed": true
   },
   "outputs": [],
   "source": []
  },
  {
   "cell_type": "code",
   "execution_count": null,
   "metadata": {
    "collapsed": true
   },
   "outputs": [],
   "source": []
  },
  {
   "cell_type": "code",
   "execution_count": null,
   "metadata": {
    "collapsed": true
   },
   "outputs": [],
   "source": []
  },
  {
   "cell_type": "code",
   "execution_count": null,
   "metadata": {
    "collapsed": true
   },
   "outputs": [],
   "source": []
  },
  {
   "cell_type": "code",
   "execution_count": null,
   "metadata": {
    "collapsed": true
   },
   "outputs": [],
   "source": []
  },
  {
   "cell_type": "code",
   "execution_count": null,
   "metadata": {
    "collapsed": true
   },
   "outputs": [],
   "source": []
  },
  {
   "cell_type": "code",
   "execution_count": null,
   "metadata": {
    "collapsed": true
   },
   "outputs": [],
   "source": []
  },
  {
   "cell_type": "code",
   "execution_count": null,
   "metadata": {
    "collapsed": true
   },
   "outputs": [],
   "source": []
  },
  {
   "cell_type": "code",
   "execution_count": null,
   "metadata": {
    "collapsed": true
   },
   "outputs": [],
   "source": []
  },
  {
   "cell_type": "code",
   "execution_count": null,
   "metadata": {
    "collapsed": true
   },
   "outputs": [],
   "source": []
  },
  {
   "cell_type": "code",
   "execution_count": null,
   "metadata": {
    "collapsed": true
   },
   "outputs": [],
   "source": []
  },
  {
   "cell_type": "code",
   "execution_count": null,
   "metadata": {
    "collapsed": true
   },
   "outputs": [],
   "source": []
  },
  {
   "cell_type": "code",
   "execution_count": null,
   "metadata": {
    "collapsed": true
   },
   "outputs": [],
   "source": []
  },
  {
   "cell_type": "code",
   "execution_count": null,
   "metadata": {
    "collapsed": true
   },
   "outputs": [],
   "source": []
  },
  {
   "cell_type": "code",
   "execution_count": null,
   "metadata": {
    "collapsed": true
   },
   "outputs": [],
   "source": []
  },
  {
   "cell_type": "code",
   "execution_count": null,
   "metadata": {
    "collapsed": true
   },
   "outputs": [],
   "source": []
  },
  {
   "cell_type": "code",
   "execution_count": null,
   "metadata": {
    "collapsed": true
   },
   "outputs": [],
   "source": []
  }
 ],
 "metadata": {
  "kernelspec": {
   "display_name": "Python 2",
   "language": "python",
   "name": "python2"
  },
  "language_info": {
   "codemirror_mode": {
    "name": "ipython",
    "version": 2
   },
   "file_extension": ".py",
   "mimetype": "text/x-python",
   "name": "python",
   "nbconvert_exporter": "python",
   "pygments_lexer": "ipython2",
   "version": "2.7.11"
  }
 },
 "nbformat": 4,
 "nbformat_minor": 0
}
