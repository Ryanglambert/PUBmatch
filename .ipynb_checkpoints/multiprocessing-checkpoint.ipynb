{
 "cells": [
  {
   "cell_type": "markdown",
   "metadata": {},
   "source": [
    "# Make BoW, TFIDF, Lsi"
   ]
  },
  {
   "cell_type": "code",
   "execution_count": 87,
   "metadata": {
    "collapsed": true
   },
   "outputs": [],
   "source": [
    "from tfidf_pm import *\n",
    "pubmed_corpus = PubmedCorpus()"
   ]
  },
  {
   "cell_type": "code",
   "execution_count": 88,
   "metadata": {
    "collapsed": false
   },
   "outputs": [],
   "source": [
    "pubmed_corpus.load_corpus()"
   ]
  },
  {
   "cell_type": "code",
   "execution_count": 89,
   "metadata": {
    "collapsed": false
   },
   "outputs": [
    {
     "data": {
      "text/plain": [
       "[(49, 1), (561, 1)]"
      ]
     },
     "execution_count": 89,
     "metadata": {},
     "output_type": "execute_result"
    }
   ],
   "source": [
    "pubmed_corpus.dictionary.doc2bow(['yo', 'yellow', 'circumference', 'obesity'])"
   ]
  },
  {
   "cell_type": "code",
   "execution_count": 90,
   "metadata": {
    "collapsed": false
   },
   "outputs": [
    {
     "name": "stderr",
     "output_type": "stream",
     "text": [
      "/usr/local/lib/python2.7/site-packages/gensim-0.12.4-py2.7-macosx-10.11-x86_64.egg/gensim/interfaces.py:60: UserWarning: corpus.save() stores only the (tiny) iteration object; to serialize the actual corpus content, use e.g. MmCorpus.serialize(corpus)\n",
      "  warnings.warn(\"corpus.save() stores only the (tiny) iteration object; \"\n"
     ]
    }
   ],
   "source": [
    "pubmed_tfidf = models.TfidfModel(pubmed_corpus, normalize=True)\n",
    "pubmed_tfidf.save(os.path.join(SAVE_LOCATION, 'pubmed_tfidf'))\n",
    "\n",
    "pubmed_corpus_tfidf = pubmed_tfidf[pubmed_corpus]\n",
    "pubmed_corpus_tfidf.save(os.path.join(SAVE_LOCATION, 'pubmed_corpus_tfidf'))\n",
    "\n",
    "pubmed_lsi = models.LsiModel(pubmed_corpus_tfidf, \n",
    "                             id2word=pubmed_corpus.dictionary, \n",
    "                             num_topics=200)\n",
    "pubmed_corpus_lsi = pubmed_lsi[pubmed_corpus_tfidf]\n",
    "pubmed_lsi.save(os.path.join(SAVE_LOCATION, 'pubmed_lsi'))"
   ]
  },
  {
   "cell_type": "markdown",
   "metadata": {},
   "source": [
    "##### save dictionary"
   ]
  },
  {
   "cell_type": "code",
   "execution_count": 91,
   "metadata": {
    "collapsed": false
   },
   "outputs": [],
   "source": [
    "pubmed_corpus.dictionary.save('./pmc_models_serialized/pubmed_corpus.dict')"
   ]
  },
  {
   "cell_type": "markdown",
   "metadata": {},
   "source": [
    "##### saved market matrix format (iterates through corpus on creation, .... lazy)"
   ]
  },
  {
   "cell_type": "code",
   "execution_count": 92,
   "metadata": {
    "collapsed": true
   },
   "outputs": [],
   "source": [
    "corpora.MmCorpus.serialize('./pmc_models_serialized/pubmed_corpus.mm', pubmed_corpus)"
   ]
  },
  {
   "cell_type": "markdown",
   "metadata": {},
   "source": [
    "##### load dictionary"
   ]
  },
  {
   "cell_type": "code",
   "execution_count": 78,
   "metadata": {
    "collapsed": true
   },
   "outputs": [],
   "source": [
    "from tfidf_pm import *"
   ]
  },
  {
   "cell_type": "code",
   "execution_count": 93,
   "metadata": {
    "collapsed": true
   },
   "outputs": [],
   "source": [
    "pubmed_corpus = corpora.MmCorpus('./pmc_models_serialized/pubmed_corpus.mm')"
   ]
  },
  {
   "cell_type": "code",
   "execution_count": 94,
   "metadata": {
    "collapsed": false
   },
   "outputs": [],
   "source": [
    "pubmed_dict = corpora.Dictionary.load('./pmc_models_serialized/pubmed_corpus.dict')"
   ]
  },
  {
   "cell_type": "markdown",
   "metadata": {},
   "source": [
    "### Folding in a new document and loading models\n",
    "\n",
    "tfidf = models.tfidfmodel.TfidfModel.load('tfidf')\n",
    "\n",
    "lsi = models.LsiModel.load('lsi')\n",
    "\n",
    "Create an index transformer that calculates similarity based on our space\n",
    " \n",
    "test_index1 = similarities.MatrixSimilarity(test_lsi1)"
   ]
  },
  {
   "cell_type": "markdown",
   "metadata": {},
   "source": [
    "##### newdoc_loading"
   ]
  },
  {
   "cell_type": "code",
   "execution_count": 243,
   "metadata": {
    "collapsed": true
   },
   "outputs": [],
   "source": [
    "pubmed_tfidf = models.tfidfmodel.TfidfModel.load('./pmc_models_serialized/pubmed_tfidf')\n",
    "# pubmed_corpus_tfidf = models.tfidfmodel.TfidfModel.load('./pmc_models_serialized/pubmed_corpus_tfidf')"
   ]
  },
  {
   "cell_type": "code",
   "execution_count": 242,
   "metadata": {
    "collapsed": true
   },
   "outputs": [],
   "source": [
    "new_doc = \"\"\"\n",
    "The abnormal position of the testis is the most common congenital anomaly of genitalia in men, with two different periods of presentation: either early in life, commonly called congenital undescended testes, or a few years later, called acquired or ascending testes. In the second group, it seems that the testis has been positioned properly at an early stage of growth, but has subsequently left its normal scrotal position to occupy the inguinal area. This group is quite controversial, as some authors considered these cases to be misdiagnoses owing to an error in physical examination.1 The cumulative experience of qualified examiners, however, suggests that this is a real phenomenon,2 which explains the increasing proportion of orchidopexies performed in late infancy.3\"\"\"\n",
    "new_doc = utils.tokenize(new_doc)\n",
    "new_doc_bow = pubmed_dict.doc2bow(new_doc)\n",
    "new_doc_bow = [i for i in new_doc_bow if i not in STOP_WORDS]"
   ]
  },
  {
   "cell_type": "code",
   "execution_count": 244,
   "metadata": {
    "collapsed": false
   },
   "outputs": [],
   "source": [
    "new_doc_tfidf = pubmed_tfidf[new_doc_bow]"
   ]
  },
  {
   "cell_type": "code",
   "execution_count": 245,
   "metadata": {
    "collapsed": true
   },
   "outputs": [],
   "source": [
    "pubmed_lsi = models.LsiModel.load('./pmc_models_serialized/pubmed_lsi')\n",
    "pubmed_corpus_lsi = models.LsiModel.load('./pmc_models_serialized/pubmed_corpus_lsi')"
   ]
  },
  {
   "cell_type": "code",
   "execution_count": 246,
   "metadata": {
    "collapsed": false
   },
   "outputs": [],
   "source": [
    "new_doc_lsi = pubmed_lsi[new_doc_tfidf]"
   ]
  },
  {
   "cell_type": "code",
   "execution_count": 247,
   "metadata": {
    "collapsed": true
   },
   "outputs": [
    {
     "data": {
      "text/plain": [
       "[(0, -0.048027037549642104),\n",
       " (1, -0.011056605273068364),\n",
       " (2, 0.001879924770170506),\n",
       " (3, -0.0088439978054580329),\n",
       " (4, -0.021612906052159837),\n",
       " (5, -0.0032375168572786645),\n",
       " (6, 0.010458175338053013),\n",
       " (7, 0.0073736962098308306),\n",
       " (8, -0.004564603212999987),\n",
       " (9, -0.0023245218798759945),\n",
       " (10, 0.0054775367569392013),\n",
       " (11, 0.011048095986389837),\n",
       " (12, -0.0011619685179938743),\n",
       " (13, -0.0021603876341010036),\n",
       " (14, 0.0074820786145917608),\n",
       " (15, 0.0039074816053089852),\n",
       " (16, 0.00082124795755592203),\n",
       " (17, -0.0019691180579214595),\n",
       " (18, -0.00091746819924402921),\n",
       " (19, -0.0080063167027585088),\n",
       " (20, -0.0041310760397717623),\n",
       " (21, 0.016544569418189766),\n",
       " (22, 0.014588413337478456),\n",
       " (23, -0.00013979087453307507),\n",
       " (24, -0.025837258021020226),\n",
       " (25, 0.010700528043140756),\n",
       " (26, 0.0031356240171894517),\n",
       " (27, 0.0043541734195822425),\n",
       " (28, 0.0071907101236862378),\n",
       " (29, 0.0049750900230337448),\n",
       " (30, -0.0059981944860624968),\n",
       " (31, -0.0065381968778630084),\n",
       " (32, -0.0028546657995512687),\n",
       " (33, -0.0014162408669664164),\n",
       " (34, -0.00038407038465152724),\n",
       " (35, 0.0015272608163044545),\n",
       " (36, -0.011472126908804843),\n",
       " (37, 0.004124524156380204),\n",
       " (38, -0.0049370837197541661),\n",
       " (39, 0.00035779515090954305),\n",
       " (40, 0.0051332329562203908),\n",
       " (41, 0.004810127811746394),\n",
       " (42, 0.015787343863800218),\n",
       " (43, 0.0037648551286100923),\n",
       " (44, 0.0071130149963340612),\n",
       " (45, 0.006486246821708304),\n",
       " (46, 0.0039458989192861713),\n",
       " (47, 0.0031582479715663294),\n",
       " (48, 0.0020086787911221364),\n",
       " (49, -0.00215801416157094),\n",
       " (50, 0.0016620368752493281),\n",
       " (51, 0.0035100091852313235),\n",
       " (52, -0.0070862580841306632),\n",
       " (53, -0.0053479437714837258),\n",
       " (54, -0.0098339808275336484),\n",
       " (55, -0.0020665630125530467),\n",
       " (56, 0.0077056361335114286),\n",
       " (57, 0.0065308132775891608),\n",
       " (58, 0.0028441364659417953),\n",
       " (59, -0.0005232954184089556),\n",
       " (60, 0.0066426311918698104),\n",
       " (61, -0.0014964293022199178),\n",
       " (62, -0.0056982448069936679),\n",
       " (63, -0.00060734785082490993),\n",
       " (64, 0.0095613168290810593),\n",
       " (65, 0.00079125692077622637),\n",
       " (66, -0.0082865596568617687),\n",
       " (67, 0.0067076945738506494),\n",
       " (68, 0.0052058489550873581),\n",
       " (69, 0.0090279726064719217),\n",
       " (70, -0.0065319554978908977),\n",
       " (71, 0.012202417042772673),\n",
       " (72, 0.0048015233042588788),\n",
       " (73, -0.0010043904959995036),\n",
       " (74, 0.00032574636526506442),\n",
       " (75, -0.010438715550445168),\n",
       " (76, 0.0046477012588346453),\n",
       " (77, -0.0032996179578405889),\n",
       " (78, -0.0037981731620408822),\n",
       " (79, -0.0020595875349691218),\n",
       " (80, 0.010830271911600461),\n",
       " (81, -0.0085367283758748143),\n",
       " (82, 0.0027555096659748314),\n",
       " (83, -0.011276418682015439),\n",
       " (84, 0.00052688404586483041),\n",
       " (85, -6.2110019804950255e-05),\n",
       " (86, -0.0046890841572115888),\n",
       " (87, -0.0060059773570697696),\n",
       " (88, 0.00060857918593315531),\n",
       " (89, 0.007194701356004001),\n",
       " (90, -0.0030159675834585961),\n",
       " (91, 0.0093200831394890434),\n",
       " (92, -0.0065866807566302855),\n",
       " (93, -0.0056365467905488981),\n",
       " (94, 0.0067242774704943335),\n",
       " (95, 0.0081098523169954081),\n",
       " (96, 0.0060084033269376452),\n",
       " (97, -0.0056506944130211411),\n",
       " (98, -0.0099642631180274967),\n",
       " (99, 0.0051744202571481065),\n",
       " (100, -0.0030869887503249057),\n",
       " (101, -0.00083044465278289074),\n",
       " (102, 0.0015511536851269445),\n",
       " (103, 0.0021385918937761985),\n",
       " (104, -0.00045571851312381062),\n",
       " (105, 0.0053867669436772),\n",
       " (106, 0.0075316326886824487),\n",
       " (107, 0.0006441196997414877),\n",
       " (108, 0.0041658486335088606),\n",
       " (109, -0.0021387262772492011),\n",
       " (110, -0.0015746454826295966),\n",
       " (111, -0.0012363216793037229),\n",
       " (112, -0.006807447626195103),\n",
       " (113, -0.004043429323198359),\n",
       " (114, -0.0047116786190140722),\n",
       " (115, 0.011136631011467068),\n",
       " (116, 0.003314131862227945),\n",
       " (117, -0.0057199787879545156),\n",
       " (118, 0.00073101729960122364),\n",
       " (119, 0.0014820020857168282),\n",
       " (120, -0.0066237563807551615),\n",
       " (121, -0.0058721725760949115),\n",
       " (122, 0.0098655967277817436),\n",
       " (123, -0.002947441110100989),\n",
       " (124, -0.0073357626839683655),\n",
       " (125, -0.0036485357960263807),\n",
       " (126, -0.0057489369060530152),\n",
       " (127, -0.0027120233800553123),\n",
       " (128, -0.010347966968438285),\n",
       " (129, -0.01413132633832016),\n",
       " (130, 0.0016212477023579551),\n",
       " (131, 0.0039128557398882963),\n",
       " (132, -0.0091510945297954907)]"
      ]
     },
     "execution_count": 247,
     "metadata": {},
     "output_type": "execute_result"
    }
   ],
   "source": [
    "new_doc_lsi"
   ]
  },
  {
   "cell_type": "markdown",
   "metadata": {},
   "source": [
    "##### Similarity object and comparison"
   ]
  },
  {
   "cell_type": "code",
   "execution_count": 231,
   "metadata": {
    "collapsed": false
   },
   "outputs": [],
   "source": [
    "# pubmed_corpus_lsi = pubmed_lsi[pubmed_corpus_tfidf]"
   ]
  },
  {
   "cell_type": "code",
   "execution_count": 260,
   "metadata": {
    "collapsed": false
   },
   "outputs": [],
   "source": [
    "pubmed_lsi_in_memory = [i for i in pubmed_corpus_lsi]"
   ]
  },
  {
   "cell_type": "code",
   "execution_count": 261,
   "metadata": {
    "collapsed": false
   },
   "outputs": [],
   "source": [
    "one_pubmed_lsi_doc = pubmed_lsi_in_memory[0]"
   ]
  },
  {
   "cell_type": "code",
   "execution_count": 262,
   "metadata": {
    "collapsed": true
   },
   "outputs": [],
   "source": [
    "one_pubmed_lsi_sim = pubmed_sim[one_pubmed_lsi_doc]"
   ]
  },
  {
   "cell_type": "code",
   "execution_count": 263,
   "metadata": {
    "collapsed": false
   },
   "outputs": [
    {
     "data": {
      "text/plain": [
       "array([  1.00000012e+00,   1.30774667e-02,   6.65656924e-02,\n",
       "         1.32230923e-01,   6.56851456e-02,   5.75246057e-03,\n",
       "         6.69294745e-02,   1.03566209e-02,   6.31644391e-03,\n",
       "         7.98495114e-03,   4.46597906e-03,   1.39676770e-02,\n",
       "         1.93405617e-02,   2.53340211e-02,   1.07024303e-02,\n",
       "         8.84912163e-03,   1.01032015e-02,   3.05344593e-02,\n",
       "         2.08750069e-02,   1.24320976e-01,   2.57366318e-02,\n",
       "         4.08106185e-02,   6.23814017e-03,   6.51293155e-03,\n",
       "         7.99423642e-03,   1.31966705e-02,   9.60173830e-03,\n",
       "         9.34504962e-04,   6.43322617e-03,   4.32662778e-02,\n",
       "         8.06707144e-03,   1.53032579e-02,   9.61529929e-03,\n",
       "         5.84108336e-03,   5.29902503e-02,   8.42574891e-03,\n",
       "         9.12410766e-03,   1.03346352e-02,   9.29643773e-03,\n",
       "         6.53193668e-02,   1.31807467e-02,   1.23478435e-02,\n",
       "         1.47377597e-02,   6.44556293e-03,   1.58055052e-02,\n",
       "         1.18305543e-02,   1.17260274e-02,   8.82211886e-03,\n",
       "         9.01481416e-03,   8.05064384e-03,   1.70573052e-02,\n",
       "         3.11200116e-02,   2.99131474e-03,   1.75375864e-02,\n",
       "         8.19613691e-03,   4.92856558e-03,   1.09939072e-02,\n",
       "         2.11544838e-02,   8.34143441e-03,   1.40403658e-02,\n",
       "         3.37896980e-02,   7.37613905e-03,   7.23514054e-03,\n",
       "         1.60073470e-02,   9.98670887e-03,   1.96644831e-02,\n",
       "         7.78184272e-03,   1.20414449e-02,   6.42362796e-03,\n",
       "         1.28888816e-01,   3.57568599e-02,   2.36144327e-02,\n",
       "         1.03966165e-02,   1.13242455e-02,   2.35466026e-02,\n",
       "         9.61402524e-03,   6.70763897e-03,   9.97416954e-03,\n",
       "         5.77623695e-02,   6.15461636e-03,   4.77710962e-02,\n",
       "         1.74112581e-02,   8.60533211e-03,   1.05423871e-02,\n",
       "         4.08375710e-02,   9.78446193e-03,   1.31817022e-02,\n",
       "         1.29765049e-02,   1.79917868e-02,   1.43302754e-02,\n",
       "         7.90399406e-03,   1.30886704e-01,   1.32884700e-02,\n",
       "         1.51289934e-02,   1.10126212e-02,   6.47574104e-03,\n",
       "         1.51820434e-02,   2.38473956e-02,   1.09707639e-02,\n",
       "         8.18061270e-03,   4.99268658e-02,   3.84443626e-02,\n",
       "         5.30007621e-03,   2.85305213e-02,   2.68605445e-02,\n",
       "         2.76311990e-02,   1.38351778e-02,   5.96396364e-02,\n",
       "         1.66435875e-02,   8.71694274e-03,   9.08023119e-03,\n",
       "         1.88176986e-02,   1.47632686e-02,   1.30888363e-02,\n",
       "         8.84671696e-03,   1.04572037e-02,   1.68134533e-02,\n",
       "         6.17199317e-02,   9.98139568e-03,   7.61525938e-03,\n",
       "         1.45850983e-02,   7.24532502e-03,   4.96590100e-02,\n",
       "         2.10575908e-02,   1.76188070e-02,   1.63884182e-02,\n",
       "         1.59873161e-02,   7.74417026e-03,   2.09555645e-02,\n",
       "         1.14956331e-02,   4.64191064e-02,   2.32379828e-02,\n",
       "         1.40775433e-02], dtype=float32)"
      ]
     },
     "execution_count": 263,
     "metadata": {},
     "output_type": "execute_result"
    }
   ],
   "source": [
    "one_pubmed_lsi_sim"
   ]
  },
  {
   "cell_type": "code",
   "execution_count": 249,
   "metadata": {
    "collapsed": true
   },
   "outputs": [],
   "source": [
    "pubmed_sim = similarities.Similarity.load('./pmc_models_serialized/pubmed_sim')"
   ]
  },
  {
   "cell_type": "code",
   "execution_count": 250,
   "metadata": {
    "collapsed": false
   },
   "outputs": [],
   "source": [
    "new_doc_sims = pubmed_sim[new_doc_lsi]"
   ]
  },
  {
   "cell_type": "code",
   "execution_count": 251,
   "metadata": {
    "collapsed": false
   },
   "outputs": [],
   "source": [
    "file_name_sims = zip(new_doc_sims.tolist(), pubmed_corpus_lsi.corpus.corpus.document_file_names)"
   ]
  },
  {
   "cell_type": "code",
   "execution_count": 252,
   "metadata": {
    "collapsed": false
   },
   "outputs": [],
   "source": [
    "file_name_sims = sorted(file_name_sims, key=lambda x: x[0], reverse=True)"
   ]
  },
  {
   "cell_type": "code",
   "execution_count": 253,
   "metadata": {
    "collapsed": false
   },
   "outputs": [
    {
     "data": {
      "text/plain": [
       "[(0.490285724401474,\n",
       "  u'./pmc_data/pmc_text_files/Arch_Dis_Child/Arch_Dis_Child_2015_Oct_13_100(10)_928-931.txt'),\n",
       " (0.4195770025253296,\n",
       "  u'./pmc_data/pmc_text_files/Arch_Dis_Child/Arch_Dis_Child_2014_Jan_16_99(1)_30-34.txt'),\n",
       " (0.3707400858402252,\n",
       "  u'./pmc_data/pmc_text_files/Arch_Dis_Child/Arch_Dis_Child_2014_Feb_16_99(2)_108-113.txt'),\n",
       " (0.3009589612483978,\n",
       "  u'./pmc_data/pmc_text_files/Arch_Dis_Child/Arch_Dis_Child_2014_May_9_99(5)_413-419.txt'),\n",
       " (0.2753300070762634,\n",
       "  u'./pmc_data/pmc_text_files/Arch_Dis_Child/Arch_Dis_Child_2008_Jul_1_93(7)_566-569.txt')]"
      ]
     },
     "execution_count": 253,
     "metadata": {},
     "output_type": "execute_result"
    }
   ],
   "source": [
    "file_name_sims[:5]"
   ]
  },
  {
   "cell_type": "code",
   "execution_count": null,
   "metadata": {
    "collapsed": true
   },
   "outputs": [],
   "source": []
  },
  {
   "cell_type": "code",
   "execution_count": null,
   "metadata": {
    "collapsed": true
   },
   "outputs": [],
   "source": []
  },
  {
   "cell_type": "code",
   "execution_count": null,
   "metadata": {
    "collapsed": true
   },
   "outputs": [],
   "source": []
  },
  {
   "cell_type": "code",
   "execution_count": null,
   "metadata": {
    "collapsed": true
   },
   "outputs": [],
   "source": []
  },
  {
   "cell_type": "code",
   "execution_count": null,
   "metadata": {
    "collapsed": true
   },
   "outputs": [],
   "source": []
  },
  {
   "cell_type": "code",
   "execution_count": null,
   "metadata": {
    "collapsed": true
   },
   "outputs": [],
   "source": []
  },
  {
   "cell_type": "code",
   "execution_count": null,
   "metadata": {
    "collapsed": true
   },
   "outputs": [],
   "source": []
  },
  {
   "cell_type": "code",
   "execution_count": 218,
   "metadata": {
    "collapsed": true
   },
   "outputs": [],
   "source": [
    "??similarities.Similarity"
   ]
  },
  {
   "cell_type": "code",
   "execution_count": 193,
   "metadata": {
    "collapsed": true
   },
   "outputs": [],
   "source": [
    "??interfaces.SimilarityABC"
   ]
  },
  {
   "cell_type": "code",
   "execution_count": null,
   "metadata": {
    "collapsed": true
   },
   "outputs": [],
   "source": [
    "??pubmed_corpus.dictionary.load"
   ]
  },
  {
   "cell_type": "code",
   "execution_count": null,
   "metadata": {
    "collapsed": true
   },
   "outputs": [],
   "source": [
    "??corpora.mmcorpus.MmCorpus"
   ]
  },
  {
   "cell_type": "code",
   "execution_count": null,
   "metadata": {
    "collapsed": true
   },
   "outputs": [],
   "source": [
    "??models.TfidfModel"
   ]
  },
  {
   "cell_type": "code",
   "execution_count": 3,
   "metadata": {
    "collapsed": true
   },
   "outputs": [],
   "source": [
    "??corpora.TextCorpus"
   ]
  },
  {
   "cell_type": "code",
   "execution_count": 4,
   "metadata": {
    "collapsed": true
   },
   "outputs": [],
   "source": [
    "??interfaces.CorpusABC"
   ]
  },
  {
   "cell_type": "code",
   "execution_count": 5,
   "metadata": {
    "collapsed": true
   },
   "outputs": [],
   "source": [
    "??utils.SaveLoad"
   ]
  },
  {
   "cell_type": "code",
   "execution_count": null,
   "metadata": {
    "collapsed": true
   },
   "outputs": [],
   "source": []
  },
  {
   "cell_type": "code",
   "execution_count": null,
   "metadata": {
    "collapsed": true
   },
   "outputs": [],
   "source": []
  },
  {
   "cell_type": "code",
   "execution_count": null,
   "metadata": {
    "collapsed": true
   },
   "outputs": [],
   "source": []
  },
  {
   "cell_type": "code",
   "execution_count": null,
   "metadata": {
    "collapsed": true
   },
   "outputs": [],
   "source": []
  },
  {
   "cell_type": "code",
   "execution_count": null,
   "metadata": {
    "collapsed": true
   },
   "outputs": [],
   "source": []
  },
  {
   "cell_type": "code",
   "execution_count": null,
   "metadata": {
    "collapsed": true
   },
   "outputs": [],
   "source": []
  },
  {
   "cell_type": "code",
   "execution_count": null,
   "metadata": {
    "collapsed": true
   },
   "outputs": [],
   "source": []
  },
  {
   "cell_type": "code",
   "execution_count": null,
   "metadata": {
    "collapsed": true
   },
   "outputs": [],
   "source": []
  },
  {
   "cell_type": "code",
   "execution_count": null,
   "metadata": {
    "collapsed": true
   },
   "outputs": [],
   "source": []
  },
  {
   "cell_type": "code",
   "execution_count": null,
   "metadata": {
    "collapsed": true
   },
   "outputs": [],
   "source": []
  },
  {
   "cell_type": "code",
   "execution_count": null,
   "metadata": {
    "collapsed": true
   },
   "outputs": [],
   "source": []
  },
  {
   "cell_type": "code",
   "execution_count": null,
   "metadata": {
    "collapsed": true
   },
   "outputs": [],
   "source": []
  },
  {
   "cell_type": "code",
   "execution_count": null,
   "metadata": {
    "collapsed": true
   },
   "outputs": [],
   "source": []
  },
  {
   "cell_type": "code",
   "execution_count": null,
   "metadata": {
    "collapsed": true
   },
   "outputs": [],
   "source": []
  },
  {
   "cell_type": "code",
   "execution_count": null,
   "metadata": {
    "collapsed": true
   },
   "outputs": [],
   "source": [
    "dictionary = corpora.Dictionary()"
   ]
  },
  {
   "cell_type": "code",
   "execution_count": null,
   "metadata": {
    "collapsed": false
   },
   "outputs": [],
   "source": [
    "dictionary.doc2bow(['hello', 'something'])"
   ]
  },
  {
   "cell_type": "code",
   "execution_count": null,
   "metadata": {
    "collapsed": true
   },
   "outputs": [],
   "source": [
    "class thing:\n",
    "    def __init__(self):\n",
    "        self.array = [(1, 2, 3), (3,3, 3) , (2, 2, 2)]\n",
    "    \n",
    "    def __iter__(self):\n",
    "        for i, j, k in self.array:\n",
    "            yield i * 2\n",
    "            \n",
    "    def load_stuff(self):\n",
    "        for i in self:\n",
    "            print i\n",
    "            \n",
    "    def again(self):\n",
    "        for i in self:\n",
    "            print i"
   ]
  },
  {
   "cell_type": "code",
   "execution_count": null,
   "metadata": {
    "collapsed": true
   },
   "outputs": [],
   "source": [
    "a = thing()"
   ]
  },
  {
   "cell_type": "code",
   "execution_count": null,
   "metadata": {
    "collapsed": false
   },
   "outputs": [],
   "source": [
    "a.load_stuff()"
   ]
  },
  {
   "cell_type": "code",
   "execution_count": null,
   "metadata": {
    "collapsed": true
   },
   "outputs": [],
   "source": []
  },
  {
   "cell_type": "code",
   "execution_count": null,
   "metadata": {
    "collapsed": true
   },
   "outputs": [],
   "source": [
    "# class PubmedCorpus(corpora.TextCorpus):\n",
    "    \n",
    "#     def get_texts(self):\n",
    "#         directory = os.walk(self.input)\n",
    "#         for root, dirs, files in directory:\n",
    "#             for file_name in files:\n",
    "#                 file_path = os.path.join(root, file_name)\n",
    "#                 with open(file_path, 'rb') as f:\n",
    "#                     file_string = to_unicode_or_bust(f.read().lower())\n",
    "#                     file_tokenized = word_tokenize(file_string)\n",
    "#                     file_no_stops = [word for word in file_tokenized if word not in STOP_WORDS]\n",
    "#                     yield file_no_stops\n",
    "\n",
    "# class PubmedCorpus(corpora.TextCorpus):\n",
    "        \n",
    "#     def get_texts(self):\n",
    "#         for file_path in self.input:\n",
    "#             with open(file_path, 'rb') as f:\n",
    "#                 file_string = to_unicode_or_bust(f.read().lower())\n",
    "#                 file_tokenized = word_tokenize(file_string)\n",
    "#                 file_no_stops = [word for word in file_tokenized if word not in STOP_WORDS]\n",
    "#                 yield file_no_stops\n",
    "                    \n",
    "                \n",
    "# def load_article_paths():\n",
    "#     for root, dirs, files in os.walk('./pmc_data/pmc_text_files/'):\n",
    "#         for name in files:\n",
    "#             ARTICLE_FILE_PATHS.append(os.path.join(root, name))\n",
    "#     genre_folders_left = len(GENRE_FOLDERS)\n",
    "#     completed_genre_folders = 0 \n",
    "#     for genre_folder in GENRE_FOLDERS:\n",
    "#         completed_genre_folders += 1\n",
    "#         genre_folder_path = os.path.join(DATA_PATH, genre_folder)\n",
    "#         genre_file_list = os.listdir(genre_folder_path)\n",
    "#         for article_file_title in genre_file_list:\n",
    "#             article_file_path = os.path.join(genre_folder_path, article_file_title)\n",
    "#             if os.path.isfile(article_file_path):\n",
    "#                 ARTICLE_FILE_TITLES.append(article_file_title)\n",
    "#                 ARTICLE_FILE_PATHS.append(article_file_path)\n",
    "# #                 with open(article_file_path, 'rb') as f:\n",
    "# #                     document = f.read()\n",
    "# #                     ARTICLE_DOCUMENT_LIST.append(document)\n",
    "\n",
    "#                 print \"done with: \", article_file_title\n",
    "#                 print \"progress: \", completed_genre_folders / float(genre_folders_left)\n",
    "#             else:\n",
    "#                 sub_article_folder_list = os.listdir(article_file_path)\n",
    "#                 for sub_article_file_title in sub_article_folder_list:\n",
    "#                     sub_article_file_path = os.path.join(article_file_path, \n",
    "#                             sub_article_file_title)\n",
    "#                     ARTICLE_FILE_TITLES.append(sub_article_file_title)\n",
    "#                     ARTICLE_FILE_PATHS.append(sub_article_file_path)\n",
    "# #                     with open(sub_article_file_path, 'rb') as f:\n",
    "# #                         document = f.read()\n",
    "# #                         ARTICLE_DOCUMENT_LIST.append(document)"
   ]
  },
  {
   "cell_type": "markdown",
   "metadata": {
    "collapsed": false
   },
   "source": [
    "### Pubmed Corpus from corpora.TextCorpus"
   ]
  },
  {
   "cell_type": "code",
   "execution_count": null,
   "metadata": {
    "collapsed": true
   },
   "outputs": [],
   "source": [
    "# class PubmedCorpus(corpora.TextCorpus):\n",
    "#     def __init__(self, input=None, data_folder=DATA_PATH):\n",
    "#         super(TextCorpus, self).__init__()\n",
    "#         self.input = None\n",
    "#         self.data_folder = os.walk(data_folder)\n",
    "#         self.dictionary = Dictionary()\n",
    "#         self.metadata = False        \n",
    "#         if data_folder is not None:\n",
    "#             self.dictionary.add_documents\n",
    "    \n",
    "#     def __iter__(self):\n",
    "        \n",
    "        \n",
    "#     def get_texts(self, file_name):\n",
    "#         with open(file_name, 'rb') as doc_file:\n",
    "#             doc = doc_file.read()\n",
    "#             doc_tokenized = utils.tokenize(doc, lowercase=True)\n",
    "#             doc_tokenized = [word for word in doc_tokenized if word not in STOP_WORDS]\n",
    "#             yield doc_tokenized\n",
    "\n",
    "                    \n",
    "# #         for doc_file in self.input:\n",
    "# #             with open(doc_file, 'rb') as doc:\n",
    "# #                 doc_text = doc.read()\n",
    "# #                 tokenized_text = [token for token in utils.tokenize(doc_text, \n",
    "# #                                                                     lowercase=True)]\n",
    "# #                 tokenized_text = [word for word in tokenized_text if word not in STOP_WORDS]\n",
    "# #                 self.dictionary.add_documents([tokenized_text])\n",
    "# #                 yield self.dictionary.doc2bow(tokenized_text, allow_update=False)\n",
    "                \n",
    "        \n",
    "        \n",
    "        \n",
    "        \n",
    "# #         directory = os.walk(self.input)\n",
    "# #         for root, dirs, files in directory:\n",
    "# #             for file_name in files:\n",
    "# #                 file_path = os.path.join(root, file_name)\n",
    "# #                 with open(file_path, 'rb') as f:\n",
    "# #                     file_string = to_unicode_or_bust(f.read().lower())\n",
    "# #                     file_tokenized = word_tokenize(file_string)\n",
    "# #                     file_no_stops = [word for word in file_tokenized if word not in STOP_WORDS]\n",
    "# #                     yield file_no_stops"
   ]
  },
  {
   "cell_type": "code",
   "execution_count": null,
   "metadata": {
    "collapsed": true
   },
   "outputs": [],
   "source": []
  },
  {
   "cell_type": "code",
   "execution_count": null,
   "metadata": {
    "collapsed": true
   },
   "outputs": [],
   "source": []
  },
  {
   "cell_type": "code",
   "execution_count": null,
   "metadata": {
    "collapsed": true
   },
   "outputs": [],
   "source": []
  },
  {
   "cell_type": "code",
   "execution_count": null,
   "metadata": {
    "collapsed": true
   },
   "outputs": [],
   "source": []
  },
  {
   "cell_type": "code",
   "execution_count": null,
   "metadata": {
    "collapsed": true
   },
   "outputs": [],
   "source": []
  },
  {
   "cell_type": "code",
   "execution_count": null,
   "metadata": {
    "collapsed": true
   },
   "outputs": [],
   "source": []
  },
  {
   "cell_type": "code",
   "execution_count": null,
   "metadata": {
    "collapsed": true
   },
   "outputs": [],
   "source": []
  },
  {
   "cell_type": "code",
   "execution_count": null,
   "metadata": {
    "collapsed": true
   },
   "outputs": [],
   "source": []
  },
  {
   "cell_type": "code",
   "execution_count": null,
   "metadata": {
    "collapsed": true
   },
   "outputs": [],
   "source": []
  },
  {
   "cell_type": "code",
   "execution_count": null,
   "metadata": {
    "collapsed": true
   },
   "outputs": [],
   "source": []
  },
  {
   "cell_type": "code",
   "execution_count": null,
   "metadata": {
    "collapsed": true
   },
   "outputs": [],
   "source": []
  },
  {
   "cell_type": "code",
   "execution_count": null,
   "metadata": {
    "collapsed": true
   },
   "outputs": [],
   "source": []
  },
  {
   "cell_type": "code",
   "execution_count": null,
   "metadata": {
    "collapsed": true
   },
   "outputs": [],
   "source": []
  },
  {
   "cell_type": "code",
   "execution_count": null,
   "metadata": {
    "collapsed": true
   },
   "outputs": [],
   "source": []
  },
  {
   "cell_type": "code",
   "execution_count": null,
   "metadata": {
    "collapsed": true
   },
   "outputs": [],
   "source": []
  },
  {
   "cell_type": "code",
   "execution_count": null,
   "metadata": {
    "collapsed": true
   },
   "outputs": [],
   "source": []
  },
  {
   "cell_type": "code",
   "execution_count": null,
   "metadata": {
    "collapsed": true
   },
   "outputs": [],
   "source": []
  }
 ],
 "metadata": {
  "kernelspec": {
   "display_name": "Python 2",
   "language": "python",
   "name": "python2"
  },
  "language_info": {
   "codemirror_mode": {
    "name": "ipython",
    "version": 2
   },
   "file_extension": ".py",
   "mimetype": "text/x-python",
   "name": "python",
   "nbconvert_exporter": "python",
   "pygments_lexer": "ipython2",
   "version": "2.7.11"
  }
 },
 "nbformat": 4,
 "nbformat_minor": 0
}
