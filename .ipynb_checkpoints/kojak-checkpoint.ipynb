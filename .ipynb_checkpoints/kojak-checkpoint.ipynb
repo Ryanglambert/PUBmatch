{
 "cells": [
  {
   "cell_type": "code",
   "execution_count": 1,
   "metadata": {
    "collapsed": false
   },
   "outputs": [],
   "source": [
    "import pdb \n",
    "import os\n",
    "import pickle\n",
    "from gensim import corpora, models, similarities, matutils, interfaces, utils\n",
    "from nltk import word_tokenize, RegexpTokenizer\n",
    "from nltk.corpus import stopwords\n",
    "import numpy as np\n",
    "\n",
    "STOP_WORDS = stopwords.words('english')\n"
   ]
  },
  {
   "cell_type": "markdown",
   "metadata": {},
   "source": [
    "# Make TFIDF"
   ]
  },
  {
   "cell_type": "code",
   "execution_count": 32,
   "metadata": {
    "collapsed": true
   },
   "outputs": [
    {
     "name": "stdout",
     "output_type": "stream",
     "text": [
      "done with:  Arch_Dis_Child_2007_Apr_11_92(4)_298-303.txt\n",
      "progress:  0.5\n",
      "done with:  Arch_Dis_Child_2008_Aug_18_93(8)_654-659.txt\n",
      "progress:  0.5\n",
      "done with:  Arch_Dis_Child_2008_Jul_1_93(7)_566-569.txt\n",
      "progress:  0.5\n",
      "done with:  Arch_Dis_Child_2008_Jul_1_93(7)_620-625.txt\n",
      "progress:  0.5\n",
      "done with:  Arch_Dis_Child_2008_May_17_93(5)_373-378.txt\n",
      "progress:  0.5\n",
      "done with:  Arch_Dis_Child_2008_Oct_2_93(10)_845-850.txt\n",
      "progress:  0.5\n",
      "done with:  Arch_Dis_Child_2008_Oct_30_93(10)_890-898.txt\n",
      "progress:  0.5\n",
      "done with:  Arch_Dis_Child_2009_Feb_14_94(2)_110-116.txt\n",
      "progress:  0.5\n",
      "done with:  Arch_Dis_Child_2009_Feb_19_94(2)_156-160.txt\n",
      "progress:  0.5\n",
      "done with:  Arch_Dis_Child_2009_Jan_25_94(1)_11-15.txt\n",
      "progress:  0.5\n",
      "done with:  Arch_Dis_Child_2009_Jan_9_94(1)_42-46.txt\n",
      "progress:  0.5\n",
      "done with:  Arch_Dis_Child_2009_Nov_3_94(11)_831-833.txt\n",
      "progress:  0.5\n",
      "done with:  Arch_Dis_Child_2009_Oct_29_95(6)_414-421.txt\n",
      "progress:  0.5\n",
      "done with:  Arch_Dis_Child_2010_Aug_12_96(1)_30-37.txt\n",
      "progress:  0.5\n",
      "done with:  Arch_Dis_Child_2010_Jun_95(6)_432-436.txt\n",
      "progress:  0.5\n",
      "done with:  Arch_Dis_Child_2010_Sep_22_96(4)_328-329.txt\n",
      "progress:  0.5\n",
      "done with:  Arch_Dis_Child_2011_Dec_1_96(12)_1201-1203.txt\n",
      "progress:  0.5\n",
      "done with:  Arch_Dis_Child_2011_Feb_2_96(11)_1008-1013.txt\n",
      "progress:  0.5\n",
      "done with:  Arch_Dis_Child_2011_Jan_10_96(11)_1052-1059.txt\n",
      "progress:  0.5\n",
      "done with:  Arch_Dis_Child_2011_Jan_12_96(4)_368-373.txt\n",
      "progress:  0.5\n",
      "done with:  Arch_Dis_Child_2011_Jan_24_96(4)_354-360.txt\n",
      "progress:  0.5\n",
      "done with:  Arch_Dis_Child_2011_Jan_24_96(4)_361-367.txt\n",
      "progress:  0.5\n",
      "done with:  Arch_Dis_Child_2011_Jan_30_96(5)_422-425.txt\n",
      "progress:  0.5\n",
      "done with:  Arch_Dis_Child_2011_Jul_19_96(10)_960-962.txt\n",
      "progress:  0.5\n",
      "done with:  Arch_Dis_Child_2011_Jul_23_96(9)_874-880.txt\n",
      "progress:  0.5\n",
      "done with:  Arch_Dis_Child_2011_Jun_14_96(9)_817-822.txt\n",
      "progress:  0.5\n",
      "done with:  Arch_Dis_Child_2011_Jun_17_97(2)_162-165.txt\n",
      "progress:  0.5\n",
      "done with:  Arch_Dis_Child_2011_Jun_96(6)_e1.txt\n",
      "progress:  0.5\n",
      "done with:  Arch_Dis_Child_2011_Mar_30_96(6)_541-547.txt\n",
      "progress:  0.5\n",
      "done with:  Arch_Dis_Child_2011_Mar_3_96(6)_519-525.txt\n",
      "progress:  0.5\n",
      "done with:  Arch_Dis_Child_2011_Mar_9_97(1)_59-62.txt\n",
      "progress:  0.5\n",
      "done with:  Arch_Dis_Child_2011_Sep_1_96(9)_872-873.txt\n",
      "progress:  0.5\n",
      "done with:  Arch_Dis_Child_2012_Aug_13_97(8)_685-691.txt\n",
      "progress:  0.5\n",
      "done with:  Arch_Dis_Child_2012_Dec_29_97(12)_1011-1012.txt\n",
      "progress:  0.5\n",
      "done with:  Arch_Dis_Child_2012_Dec_29_97(12)_1019-1026.txt\n",
      "progress:  0.5\n",
      "done with:  Arch_Dis_Child_2012_Feb_10_97(4)_343-349.txt\n",
      "progress:  0.5\n",
      "done with:  Arch_Dis_Child_2012_Mar_14_97(6)_529-532.txt\n",
      "progress:  0.5\n",
      "done with:  Arch_Dis_Child_2012_Mar_7_97(3)_260-265.txt\n",
      "progress:  0.5\n",
      "done with:  Arch_Dis_Child_2012_Nov_15_97(11)_993-998.txt\n",
      "progress:  0.5\n",
      "done with:  Arch_Dis_Child_2013_Apr_16_98(4)_274-279.txt\n",
      "progress:  0.5\n",
      "done with:  Arch_Dis_Child_2013_Aug_12_98(8)_629-634.txt\n",
      "progress:  0.5\n",
      "done with:  Arch_Dis_Child_2013_Aug_23_98(8)_587-591.txt\n",
      "progress:  0.5\n",
      "done with:  Arch_Dis_Child_2013_Aug_7_98(8)_574-575.txt\n",
      "progress:  0.5\n",
      "done with:  Arch_Dis_Child_2013_Dec_22_98(12)_970-974.txt\n",
      "progress:  0.5\n",
      "done with:  Arch_Dis_Child_2013_Feb_98(2)_107-111.txt\n",
      "progress:  0.5\n",
      "done with:  Arch_Dis_Child_2013_Jul_9_98(7)_556-557.txt\n",
      "progress:  0.5\n",
      "done with:  Arch_Dis_Child_2013_Jun_20_98(6)_434-440.txt\n",
      "progress:  0.5\n",
      "done with:  Arch_Dis_Child_2013_Jun_26_98(6)_454-461.txt\n",
      "progress:  0.5\n",
      "done with:  Arch_Dis_Child_2013_Jun_9_98(6)_429-433.txt\n",
      "progress:  0.5\n",
      "done with:  Arch_Dis_Child_2013_Mar_21_98(3)_218-221.txt\n",
      "progress:  0.5\n",
      "done with:  Arch_Dis_Child_2013_May_25_98(5)_341-348.txt\n",
      "progress:  0.5\n",
      "done with:  Arch_Dis_Child_2013_May_7_98(5)_356-362.txt\n",
      "progress:  0.5\n",
      "done with:  Arch_Dis_Child_2013_Nov_22_99(3)_301.txt\n",
      "progress:  0.5\n",
      "done with:  Arch_Dis_Child_2013_Nov_30_98(11)_908-914.txt\n",
      "progress:  0.5\n",
      "done with:  Arch_Dis_Child_2013_Oct_30_98(10)_777-780.txt\n",
      "progress:  0.5\n",
      "done with:  Arch_Dis_Child_2013_Sep_13_98(9)_720.txt\n",
      "progress:  0.5\n",
      "done with:  Arch_Dis_Child_2013_Sep_13_98(9)_725-731.txt\n",
      "progress:  0.5\n",
      "done with:  Arch_Dis_Child_2013_Sep_25_98(9)_666-671.txt\n",
      "progress:  0.5\n",
      "done with:  Arch_Dis_Child_2013_Sep_98(9)_656-659.txt\n",
      "progress:  0.5\n",
      "done with:  Arch_Dis_Child_2014_Apr_18_99(4)_342-347.txt\n",
      "progress:  0.5\n",
      "done with:  Arch_Dis_Child_2014_Aug_2_99(8)_763-766.txt\n",
      "progress:  0.5\n",
      "done with:  Arch_Dis_Child_2014_Dec_27_99(12)_1163-1168.txt\n",
      "progress:  0.5\n",
      "done with:  Arch_Dis_Child_2014_Dec_3_99(12)_1074-1077.txt\n",
      "progress:  0.5\n",
      "done with:  Arch_Dis_Child_2014_Dec_4_99(12)_1070-1073.txt\n",
      "progress:  0.5\n",
      "done with:  Arch_Dis_Child_2014_Dec_8_99(12)_1103-1108.txt\n",
      "progress:  0.5\n",
      "done with:  Arch_Dis_Child_2014_Dec_8_99(12)_1143-1146.txt\n",
      "progress:  0.5\n",
      "done with:  Arch_Dis_Child_2014_Feb_16_99(2)_108-113.txt\n",
      "progress:  0.5\n",
      "done with:  Arch_Dis_Child_2014_Feb_23_99(2)_114-118.txt\n",
      "progress:  0.5\n",
      "done with:  Arch_Dis_Child_2014_Feb_23_99(2)_142-146.txt\n",
      "progress:  0.5\n",
      "done with:  Arch_Dis_Child_2014_Jan_13_99(1)_10-14.txt\n",
      "progress:  0.5\n",
      "done with:  Arch_Dis_Child_2014_Jan_16_99(1)_30-34.txt\n",
      "progress:  0.5\n",
      "done with:  Arch_Dis_Child_2014_Jan_25_99(1)_74-83.txt\n",
      "progress:  0.5\n",
      "done with:  Arch_Dis_Child_2014_Jul_15_99(7)_607-608.txt\n",
      "progress:  0.5\n",
      "done with:  Arch_Dis_Child_2014_Jul_17_99(7)_674-678.txt\n",
      "progress:  0.5\n",
      "done with:  Arch_Dis_Child_2014_Jul_19_99(7)_605-606.txt\n",
      "progress:  0.5\n",
      "done with:  Arch_Dis_Child_2014_Jul_4_99(7)_635-640.txt\n",
      "progress:  0.5\n",
      "done with:  Arch_Dis_Child_2014_Jun_14_99(6)_516-521.txt\n",
      "progress:  0.5\n",
      "done with:  Arch_Dis_Child_2014_Jun_9_99(6)_546-551.txt\n",
      "progress:  0.5\n",
      "done with:  Arch_Dis_Child_2014_Mar_11_99(3)_225-231.txt\n",
      "progress:  0.5\n",
      "done with:  Arch_Dis_Child_2014_May_16_99(5)_448-451.txt\n",
      "progress:  0.5\n",
      "done with:  Arch_Dis_Child_2014_May_30_99(5)_452-456.txt\n",
      "progress:  0.5\n",
      "done with:  Arch_Dis_Child_2014_May_9_99(5)_413-419.txt\n",
      "progress:  0.5\n",
      "done with:  Arch_Dis_Child_2014_Nov_11_99(11)_993-997.txt\n",
      "progress:  0.5\n",
      "done with:  Arch_Dis_Child_2014_Nov_19_99(11)_1014-1019.txt\n",
      "progress:  0.5\n",
      "done with:  Arch_Dis_Child_2014_Nov_19_99(11)_1020-1024.txt\n",
      "progress:  0.5\n",
      "done with:  Arch_Dis_Child_2014_Nov_8_99(11)_969-970.txt\n",
      "progress:  0.5\n",
      "done with:  Arch_Dis_Child_2014_Oct_9_99(10)_933-936.txt\n",
      "progress:  0.5\n",
      "done with:  Arch_Dis_Child_2014_Sep_19_99(9)_807-811.txt\n",
      "progress:  0.5\n",
      "done with:  Arch_Dis_Child_2014_Sep_1_99(9)_830-833.txt\n",
      "progress:  0.5\n",
      "done with:  Arch_Dis_Child_2014_Sep_20_99(9)_812-816.txt\n",
      "progress:  0.5\n",
      "done with:  Arch_Dis_Child_2014_Sep_25_99(9)_850-856.txt\n",
      "progress:  0.5\n",
      "done with:  Arch_Dis_Child_2015_Aug_17_100(8)_733-737.txt\n",
      "progress:  0.5\n",
      "done with:  Arch_Dis_Child_2015_Aug_25_100(8)_774-778.txt\n",
      "progress:  0.5\n",
      "done with:  Arch_Dis_Child_2015_Aug_4_100(8)_769-773.txt\n",
      "progress:  0.5\n",
      "done with:  Arch_Dis_Child_2015_Dec_25_100(12)_1106-1114.txt\n",
      "progress:  0.5\n",
      "done with:  Arch_Dis_Child_2015_Dec_30_100(12)_1123-1130.txt\n",
      "progress:  0.5\n",
      "done with:  Arch_Dis_Child_2015_Dec_9_100(12)_1141-1147.txt\n",
      "progress:  0.5\n",
      "done with:  Arch_Dis_Child_2015_Feb_100(Suppl_1)_S43-S47.txt\n",
      "progress:  0.5\n",
      "done with:  Arch_Dis_Child_2015_Feb_100(Suppl_1)_S57-S58.txt\n",
      "progress:  0.5\n",
      "done with:  Arch_Dis_Child_2015_Feb_100(Suppl_1)_S70-S71.txt\n",
      "progress:  0.5\n",
      "done with:  Arch_Dis_Child_2015_Feb_19_100(2)_138-143.txt\n",
      "progress:  0.5\n",
      "done with:  Arch_Dis_Child_2015_Feb_22_100(2)_165-173.txt\n",
      "progress:  0.5\n",
      "done with:  Arch_Dis_Child_2015_Jan_100(1)_73-74.txt\n",
      "progress:  0.5\n",
      "done with:  Arch_Dis_Child_2015_Jan_19_100(1)_42-47.txt\n",
      "progress:  0.5\n",
      "done with:  Arch_Dis_Child_2015_Jan_19_100(1)_48-53.txt\n",
      "progress:  0.5\n",
      "done with:  Arch_Dis_Child_2015_Jan_25_100(1)_18-23.txt\n",
      "progress:  0.5\n",
      "done with:  Arch_Dis_Child_2015_Jan_27_100(1)_38-41.txt\n",
      "progress:  0.5\n",
      "done with:  Arch_Dis_Child_2015_Jan_29_100(1)_24-29.txt\n",
      "progress:  0.5\n",
      "done with:  Arch_Dis_Child_2015_Jan_3_100(1)_95-100.txt\n",
      "progress:  0.5\n",
      "done with:  Arch_Dis_Child_2015_Jan_8_100(1)_62-67.txt\n",
      "progress:  0.5\n",
      "done with:  Arch_Dis_Child_2015_Jul_15_100(7)_608-609.txt\n",
      "progress:  0.5\n",
      "done with:  Arch_Dis_Child_2015_Jul_20_100(7)_689-693.txt\n",
      "progress:  0.5\n",
      "done with:  Arch_Dis_Child_2015_Jun_16_100(6)_517-520.txt\n",
      "progress:  0.5\n",
      "done with:  Arch_Dis_Child_2015_Jun_16_100(6)_559-564.txt\n",
      "progress:  0.5\n",
      "done with:  Arch_Dis_Child_2015_Jun_2_100(6)_576-582.txt\n",
      "progress:  0.5\n",
      "done with:  Arch_Dis_Child_2015_Jun_30_100(6)_521-526.txt\n",
      "progress:  0.5\n",
      "done with:  Arch_Dis_Child_2015_Jun_30_100(6)_527-531.txt\n",
      "progress:  0.5\n",
      "done with:  Arch_Dis_Child_2015_Mar_29_100(3)_214-219.txt\n",
      "progress:  0.5\n",
      "done with:  Arch_Dis_Child_2015_May_10_100(5)_454-459.txt\n",
      "progress:  0.5\n",
      "done with:  Arch_Dis_Child_2015_May_14_100(5)_426-431.txt\n",
      "progress:  0.5\n",
      "done with:  Arch_Dis_Child_2015_May_14_100(5)_432-437.txt\n",
      "progress:  0.5\n",
      "done with:  Arch_Dis_Child_2015_May_14_100(5)_495-499.txt\n",
      "progress:  0.5\n",
      "done with:  Arch_Dis_Child_2015_May_20_100(5)_441-448.txt\n",
      "progress:  0.5\n",
      "done with:  Arch_Dis_Child_2015_May_22_100(5)_466-473.txt\n",
      "progress:  0.5\n",
      "done with:  Arch_Dis_Child_2015_May_30_100(5)_482-488.txt\n",
      "progress:  0.5\n",
      "done with:  Arch_Dis_Child_2015_May_4_100(5)_438-440.txt\n",
      "progress:  0.5\n",
      "done with:  Arch_Dis_Child_2015_Nov_21_100(11)_1032-1037.txt\n",
      "progress:  0.5\n",
      "done with:  Arch_Dis_Child_2015_Nov_9_101(1)_23-27.txt\n",
      "progress:  0.5\n",
      "done with:  Arch_Dis_Child_2015_Oct_13_100(10)_928-931.txt\n",
      "progress:  0.5\n",
      "done with:  Arch_Dis_Child_2015_Sep_10_100(9)_879-885.txt\n",
      "progress:  0.5\n",
      "done with:  Arch_Dis_Child_2015_Sep_19_100(9)_826-833.txt\n",
      "progress:  0.5\n",
      "done with:  Arch_Dis_Child_2015_Sep_19_100(9)_838-844.txt\n",
      "progress:  0.5\n",
      "done with:  Arch_Dis_Child_2016_Feb_13_101(2)_147-151.txt\n",
      "progress:  0.5\n",
      "done with:  Arch_Dis_Child_2016_Feb_29_101(2)_152-160.txt\n",
      "progress:  0.5\n",
      "done with:  Arch_Dis_Child_2016_Jan_101(1)_91-95.txt\n",
      "progress:  0.5\n",
      "done with:  Arch_Dis_Child_2016_Jan_15_101(1)_42-50.txt\n",
      "progress:  0.5\n",
      "done with:  Arch_Dis_Child_2016_Jan_26_101(1)_9-15.txt\n",
      "progress:  0.5\n",
      "done with:  Arch_Dis_Child_2016_Jan_30_101(1)_16-22.txt\n",
      "progress:  0.5\n"
     ]
    }
   ],
   "source": [
    "\n",
    "\n",
    "DATA_PATH = ('./pmc_data/pmc_text_files/')\n",
    "GENRE_FOLDERS = os.listdir(DATA_PATH)\n",
    "ARTICLE_FILE_PATHS = []\n",
    "ARTICLE_FILE_TITLES = []\n",
    "ARTICLE_DOCUMENT_LIST = []\n",
    "\n",
    "\n",
    "\n",
    "def load_article_paths():\n",
    "    genre_folders_left = len(GENRE_FOLDERS)\n",
    "    completed_genre_folders = 0 \n",
    "    for genre_folder in GENRE_FOLDERS:\n",
    "        completed_genre_folders += 1\n",
    "        genre_folder_path = os.path.join(DATA_PATH, genre_folder)\n",
    "        genre_file_list = os.listdir(genre_folder_path)\n",
    "        for article_file_title in genre_file_list:\n",
    "            article_file_path = os.path.join(genre_folder_path, article_file_title)\n",
    "            if os.path.isfile(article_file_path):\n",
    "                ARTICLE_FILE_TITLES.append(article_file_title)\n",
    "                ARTICLE_FILE_PATHS.append(article_file_path)\n",
    "#                 with open(article_file_path, 'rb') as f:\n",
    "#                     document = f.read()\n",
    "#                     ARTICLE_DOCUMENT_LIST.append(document)\n",
    "\n",
    "                print \"done with: \", article_file_title\n",
    "                print \"progress: \", completed_genre_folders / float(genre_folders_left)\n",
    "            else:\n",
    "                sub_article_folder_list = os.listdir(article_file_path)\n",
    "                for sub_article_file_title in sub_article_folder_list:\n",
    "                    sub_article_file_path = os.path.join(article_file_path, \n",
    "                            sub_article_file_title)\n",
    "                    ARTICLE_FILE_TITLES.append(sub_article_file_title)\n",
    "                    ARTICLE_FILE_PATHS.append(sub_article_file_path)\n",
    "#                     with open(sub_article_file_path, 'rb') as f:\n",
    "#                         document = f.read()\n",
    "#                         ARTICLE_DOCUMENT_LIST.append(document)\n",
    "\n",
    "\n",
    "def to_unicode_or_bust(\n",
    "        obj, encoding='utf-8'):\n",
    "    if isinstance(obj, basestring):\n",
    "        if not isinstance(obj, unicode):\n",
    "            obj = unicode(obj, encoding)\n",
    "    return obj\n",
    "                        \n",
    "load_article_paths()"
   ]
  },
  {
   "cell_type": "code",
   "execution_count": 9,
   "metadata": {
    "collapsed": false
   },
   "outputs": [
    {
     "data": {
      "text/plain": [
       "['hey', 'hello', 'Hi', 'number']"
      ]
     },
     "execution_count": 9,
     "metadata": {},
     "output_type": "execute_result"
    }
   ],
   "source": [
    "tokenizer = RegexpTokenizer(r'[A-Z]\\w+|[a-z]\\w+')\n",
    "tokenizer.tokenize('hey hello Hi, a 56 number')"
   ]
  },
  {
   "cell_type": "code",
   "execution_count": 33,
   "metadata": {
    "collapsed": false
   },
   "outputs": [],
   "source": [
    "class PubmedCorpus(corpora.TextCorpus):\n",
    "        \n",
    "    def get_texts(self):\n",
    "        for filename in self.input:\n",
    "            with open(filename, 'rb') as f:\n",
    "                file_string = to_unicode_or_bust(f.read().lower())\n",
    "                file_tokenized = word_tokenize(file_string)\n",
    "                file_no_stops = [word for word in file_tokenized if word not in STOP_WORDS]\n",
    "                yield file_no_stops"
   ]
  },
  {
   "cell_type": "code",
   "execution_count": 115,
   "metadata": {
    "collapsed": false
   },
   "outputs": [],
   "source": [
    "pubmed_corpus = PubmedCorpus(ARTICLE_FILE_PATHS)"
   ]
  },
  {
   "cell_type": "code",
   "execution_count": 21,
   "metadata": {
    "collapsed": false
   },
   "outputs": [],
   "source": [
    "pubmed_corpus = corpora.TextCorpus('./pmc_data/pmc_text_files/Arch_Dis_Child/Arch_Dis_Child_2008_Aug_18_93(8)_654-659.txt')"
   ]
  },
  {
   "cell_type": "markdown",
   "metadata": {},
   "source": [
    "##### `tfidf = models.TfidfModel(corpus) # step 1 -- initialize a model\n",
    "`"
   ]
  },
  {
   "cell_type": "code",
   "execution_count": 128,
   "metadata": {
    "collapsed": false
   },
   "outputs": [],
   "source": [
    "pubmed_tfidf = models.TfidfModel(pubmed_corpus, normalize=True)"
   ]
  },
  {
   "cell_type": "markdown",
   "metadata": {},
   "source": [
    "##### Transform incoming vectors"
   ]
  },
  {
   "cell_type": "markdown",
   "metadata": {},
   "source": [
    "`doc_bow = [(0, 1), (1, 1)]\n",
    "print(tfidf[doc_bow]) # step 2 -- use the model to transform vectors\n",
    "[(0, 0.70710678), (1, 0.70710678)]`"
   ]
  },
  {
   "cell_type": "markdown",
   "metadata": {},
   "source": [
    "##### Transform the entire corpus (lazy, only does so when run)"
   ]
  },
  {
   "cell_type": "markdown",
   "metadata": {},
   "source": [
    "```corpus_tfidf = tfidf[corpus]\n",
    "for doc in corpus_tfidf:\n",
    "...     print(doc)\n",
    "[(0, 0.57735026918962573), (1, 0.57735026918962573), (2, 0.57735026918962573)]\n",
    "[(0, 0.44424552527467476), (3, 0.44424552527467476), (4, 0.44424552527467476), (5, 0.32448702061385548), (6, 0.44424552527467476), (7, 0.32448702061385548)]\n",
    "[(2, 0.5710059809418182), (5, 0.41707573620227772), (7, 0.41707573620227772), (8, 0.5710059809418182)]\n",
    "[(1, 0.49182558987264147), (5, 0.71848116070837686), (8, 0.49182558987264147)]\n",
    "[(3, 0.62825804686700459), (6, 0.62825804686700459), (7, 0.45889394536615247)]\n",
    "[(9, 1.0)]\n",
    "[(9, 0.70710678118654746), (10, 0.70710678118654746)]\n",
    "[(9, 0.50804290089167492), (10, 0.50804290089167492), (11, 0.69554641952003704)]\n",
    "[(4, 0.62825804686700459), (10, 0.45889394536615247), (11, 0.62825804686700459)]```"
   ]
  },
  {
   "cell_type": "code",
   "execution_count": 129,
   "metadata": {
    "collapsed": true
   },
   "outputs": [],
   "source": [
    "pubmed_corpus_tfidf = pubmed_tfidf[pubmed_corpus]"
   ]
  },
  {
   "cell_type": "code",
   "execution_count": 139,
   "metadata": {
    "collapsed": false
   },
   "outputs": [],
   "source": [
    "new_doc = 'hello there overweight circumference pregnancy'.split()\n",
    "new_vec = pubmed_corpus.dictionary.doc2bow(new_doc)"
   ]
  },
  {
   "cell_type": "code",
   "execution_count": 140,
   "metadata": {
    "collapsed": false
   },
   "outputs": [
    {
     "data": {
      "text/plain": [
       "[(285, 1), (2264, 1), (2358, 1)]"
      ]
     },
     "execution_count": 140,
     "metadata": {},
     "output_type": "execute_result"
    }
   ],
   "source": [
    "new_vec"
   ]
  },
  {
   "cell_type": "code",
   "execution_count": null,
   "metadata": {
    "collapsed": true
   },
   "outputs": [],
   "source": [
    "pubmed_tfidf[]"
   ]
  },
  {
   "cell_type": "markdown",
   "metadata": {},
   "source": [
    "##### LSI"
   ]
  },
  {
   "cell_type": "code",
   "execution_count": 130,
   "metadata": {
    "collapsed": false
   },
   "outputs": [],
   "source": [
    "pubmed_lsi = models.LsiModel(pubmed_corpus_tfidf, id2word=pubmed_corpus.dictionary, num_topics=200)"
   ]
  },
  {
   "cell_type": "markdown",
   "metadata": {},
   "source": [
    "##### look at some of the topics"
   ]
  },
  {
   "cell_type": "code",
   "execution_count": 131,
   "metadata": {
    "collapsed": false
   },
   "outputs": [
    {
     "data": {
      "text/plain": [
       "[(0,\n",
       "  u'0.144*\"overweight\" + 0.142*\"obesity\" + 0.134*\"bmi\" + 0.098*\"maternal\" + 0.088*\"pregnancy\" + 0.083*\"conflict\" + 0.083*\"weight\" + 0.080*\"\\u2013\" + 0.078*\"mortality\" + 0.073*\"growth\"'),\n",
       " (1,\n",
       "  u'0.313*\"bmi\" + 0.313*\"obesity\" + 0.301*\"overweight\" + -0.168*\"conflict\" + 0.131*\"waist\" + 0.126*\"obese\" + -0.108*\"medicines\" + 0.102*\"mufi\" + 0.100*\"between-group\" + 0.094*\"circumference\"')]"
      ]
     },
     "execution_count": 131,
     "metadata": {},
     "output_type": "execute_result"
    }
   ],
   "source": [
    "pubmed_lsi.print_topics(2)"
   ]
  },
  {
   "cell_type": "code",
   "execution_count": null,
   "metadata": {
    "collapsed": true
   },
   "outputs": [],
   "source": []
  },
  {
   "cell_type": "code",
   "execution_count": null,
   "metadata": {
    "collapsed": true
   },
   "outputs": [],
   "source": []
  },
  {
   "cell_type": "code",
   "execution_count": null,
   "metadata": {
    "collapsed": true
   },
   "outputs": [],
   "source": []
  },
  {
   "cell_type": "code",
   "execution_count": null,
   "metadata": {
    "collapsed": true
   },
   "outputs": [],
   "source": []
  },
  {
   "cell_type": "code",
   "execution_count": null,
   "metadata": {
    "collapsed": true
   },
   "outputs": [],
   "source": []
  },
  {
   "cell_type": "code",
   "execution_count": null,
   "metadata": {
    "collapsed": true
   },
   "outputs": [],
   "source": []
  },
  {
   "cell_type": "code",
   "execution_count": null,
   "metadata": {
    "collapsed": true
   },
   "outputs": [],
   "source": []
  },
  {
   "cell_type": "code",
   "execution_count": null,
   "metadata": {
    "collapsed": true
   },
   "outputs": [],
   "source": []
  },
  {
   "cell_type": "code",
   "execution_count": null,
   "metadata": {
    "collapsed": true
   },
   "outputs": [],
   "source": []
  },
  {
   "cell_type": "code",
   "execution_count": null,
   "metadata": {
    "collapsed": true
   },
   "outputs": [],
   "source": [
    "id2word = dict((v, k) for k, v in count_vectorizer.vocabulary_.iteritems())\n",
    "pubmed_corpus = matutils.Sparse2Corpus(pubmed_vecs)"
   ]
  },
  {
   "cell_type": "markdown",
   "metadata": {},
   "source": [
    "##### TFIDF"
   ]
  },
  {
   "cell_type": "code",
   "execution_count": null,
   "metadata": {
    "collapsed": true
   },
   "outputs": [],
   "source": [
    "pubmed_tfidf = models.TfidfModel(pubmed_corpus)"
   ]
  },
  {
   "cell_type": "code",
   "execution_count": null,
   "metadata": {
    "collapsed": true
   },
   "outputs": [],
   "source": [
    "pubmed_tfidf_corpus = pubmed_tfidf[pubmed_corpus]"
   ]
  },
  {
   "cell_type": "markdown",
   "metadata": {},
   "source": [
    "##### SVD"
   ]
  },
  {
   "cell_type": "code",
   "execution_count": null,
   "metadata": {
    "collapsed": false
   },
   "outputs": [],
   "source": [
    "lsi = models.LsiModel(pubmed_corpus, id2word=id2word, num_topics=25)"
   ]
  },
  {
   "cell_type": "code",
   "execution_count": null,
   "metadata": {
    "collapsed": false
   },
   "outputs": [],
   "source": [
    "pubmed_lsi_corpus = lsi[pubmed_tfidf_corpus]"
   ]
  },
  {
   "cell_type": "markdown",
   "metadata": {},
   "source": [
    "Which ones have `.save` methods"
   ]
  },
  {
   "cell_type": "code",
   "execution_count": null,
   "metadata": {
    "collapsed": true
   },
   "outputs": [],
   "source": []
  },
  {
   "cell_type": "code",
   "execution_count": null,
   "metadata": {
    "collapsed": true
   },
   "outputs": [],
   "source": []
  },
  {
   "cell_type": "code",
   "execution_count": null,
   "metadata": {
    "collapsed": true
   },
   "outputs": [],
   "source": []
  },
  {
   "cell_type": "code",
   "execution_count": null,
   "metadata": {
    "collapsed": true
   },
   "outputs": [],
   "source": []
  },
  {
   "cell_type": "code",
   "execution_count": null,
   "metadata": {
    "collapsed": true
   },
   "outputs": [],
   "source": []
  },
  {
   "cell_type": "code",
   "execution_count": null,
   "metadata": {
    "collapsed": true
   },
   "outputs": [],
   "source": []
  },
  {
   "cell_type": "code",
   "execution_count": null,
   "metadata": {
    "collapsed": true
   },
   "outputs": [],
   "source": []
  },
  {
   "cell_type": "code",
   "execution_count": null,
   "metadata": {
    "collapsed": true
   },
   "outputs": [],
   "source": []
  },
  {
   "cell_type": "code",
   "execution_count": null,
   "metadata": {
    "collapsed": true
   },
   "outputs": [],
   "source": []
  },
  {
   "cell_type": "code",
   "execution_count": null,
   "metadata": {
    "collapsed": true
   },
   "outputs": [],
   "source": []
  },
  {
   "cell_type": "code",
   "execution_count": null,
   "metadata": {
    "collapsed": true
   },
   "outputs": [],
   "source": []
  },
  {
   "cell_type": "code",
   "execution_count": null,
   "metadata": {
    "collapsed": true
   },
   "outputs": [],
   "source": []
  },
  {
   "cell_type": "code",
   "execution_count": null,
   "metadata": {
    "collapsed": true
   },
   "outputs": [],
   "source": []
  },
  {
   "cell_type": "code",
   "execution_count": null,
   "metadata": {
    "collapsed": true
   },
   "outputs": [],
   "source": []
  },
  {
   "cell_type": "code",
   "execution_count": null,
   "metadata": {
    "collapsed": true
   },
   "outputs": [],
   "source": []
  },
  {
   "cell_type": "code",
   "execution_count": null,
   "metadata": {
    "collapsed": true
   },
   "outputs": [],
   "source": []
  },
  {
   "cell_type": "code",
   "execution_count": null,
   "metadata": {
    "collapsed": true
   },
   "outputs": [],
   "source": []
  },
  {
   "cell_type": "code",
   "execution_count": null,
   "metadata": {
    "collapsed": true
   },
   "outputs": [],
   "source": []
  },
  {
   "cell_type": "code",
   "execution_count": null,
   "metadata": {
    "collapsed": true
   },
   "outputs": [],
   "source": []
  },
  {
   "cell_type": "code",
   "execution_count": null,
   "metadata": {
    "collapsed": true
   },
   "outputs": [],
   "source": []
  },
  {
   "cell_type": "code",
   "execution_count": null,
   "metadata": {
    "collapsed": true
   },
   "outputs": [],
   "source": []
  },
  {
   "cell_type": "code",
   "execution_count": null,
   "metadata": {
    "collapsed": true
   },
   "outputs": [],
   "source": []
  },
  {
   "cell_type": "code",
   "execution_count": null,
   "metadata": {
    "collapsed": false
   },
   "outputs": [],
   "source": []
  },
  {
   "cell_type": "code",
   "execution_count": null,
   "metadata": {
    "collapsed": true
   },
   "outputs": [],
   "source": []
  },
  {
   "cell_type": "code",
   "execution_count": null,
   "metadata": {
    "collapsed": true
   },
   "outputs": [],
   "source": []
  },
  {
   "cell_type": "code",
   "execution_count": null,
   "metadata": {
    "collapsed": true
   },
   "outputs": [],
   "source": []
  },
  {
   "cell_type": "code",
   "execution_count": null,
   "metadata": {
    "collapsed": true
   },
   "outputs": [],
   "source": []
  },
  {
   "cell_type": "code",
   "execution_count": null,
   "metadata": {
    "collapsed": true
   },
   "outputs": [],
   "source": []
  },
  {
   "cell_type": "code",
   "execution_count": null,
   "metadata": {
    "collapsed": true
   },
   "outputs": [],
   "source": []
  },
  {
   "cell_type": "code",
   "execution_count": null,
   "metadata": {
    "collapsed": true
   },
   "outputs": [],
   "source": []
  },
  {
   "cell_type": "code",
   "execution_count": null,
   "metadata": {
    "collapsed": true
   },
   "outputs": [],
   "source": []
  },
  {
   "cell_type": "code",
   "execution_count": null,
   "metadata": {
    "collapsed": true
   },
   "outputs": [],
   "source": []
  },
  {
   "cell_type": "code",
   "execution_count": null,
   "metadata": {
    "collapsed": true
   },
   "outputs": [],
   "source": []
  },
  {
   "cell_type": "code",
   "execution_count": null,
   "metadata": {
    "collapsed": true
   },
   "outputs": [],
   "source": []
  },
  {
   "cell_type": "code",
   "execution_count": null,
   "metadata": {
    "collapsed": true
   },
   "outputs": [],
   "source": []
  },
  {
   "cell_type": "code",
   "execution_count": null,
   "metadata": {
    "collapsed": true
   },
   "outputs": [],
   "source": []
  },
  {
   "cell_type": "code",
   "execution_count": null,
   "metadata": {
    "collapsed": true
   },
   "outputs": [],
   "source": []
  },
  {
   "cell_type": "code",
   "execution_count": null,
   "metadata": {
    "collapsed": true
   },
   "outputs": [],
   "source": []
  },
  {
   "cell_type": "code",
   "execution_count": null,
   "metadata": {
    "collapsed": true
   },
   "outputs": [],
   "source": []
  },
  {
   "cell_type": "code",
   "execution_count": null,
   "metadata": {
    "collapsed": true
   },
   "outputs": [],
   "source": []
  },
  {
   "cell_type": "code",
   "execution_count": null,
   "metadata": {
    "collapsed": true
   },
   "outputs": [],
   "source": []
  }
 ],
 "metadata": {
  "kernelspec": {
   "display_name": "Python 2",
   "language": "python",
   "name": "python2"
  },
  "language_info": {
   "codemirror_mode": {
    "name": "ipython",
    "version": 2
   },
   "file_extension": ".py",
   "mimetype": "text/x-python",
   "name": "python",
   "nbconvert_exporter": "python",
   "pygments_lexer": "ipython2",
   "version": "2.7.11"
  }
 },
 "nbformat": 4,
 "nbformat_minor": 0
}
