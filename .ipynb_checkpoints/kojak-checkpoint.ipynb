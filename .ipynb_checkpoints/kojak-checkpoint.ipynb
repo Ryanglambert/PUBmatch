{
 "cells": [
  {
   "cell_type": "code",
   "execution_count": null,
   "metadata": {
    "collapsed": false
   },
   "outputs": [],
   "source": [
    "import pdb\n",
    "import os\n",
    "import pickle\n",
    "from sklearn.feature_extraction.text import TfidfVectorizer, CountVectorizer\n",
    "from nltk import word_tokenize\n",
    "from nltk.corpus import stopwords\n",
    "from sklearn.metrics.pairwise import distance_metrics\n",
    "from sklearn.metrics.pairwise import pairwise_distances\n",
    "from scipy.sparse.linalg import svds as SVDS\n",
    "import pandas as pd\n",
    "import numpy as np\n",
    "\n",
    "STOP_WORDS = stopwords.words('english')\n"
   ]
  },
  {
   "cell_type": "code",
   "execution_count": null,
   "metadata": {
    "collapsed": false
   },
   "outputs": [],
   "source": [
    "with open('./pubmed_vectorizer.pkl', 'rb') as f:\n",
    "    pubmed_vectorizer = pickle.load(f)\n",
    "\n",
    "with open('./article_file_titles_list.pkl', 'rb') as f:\n",
    "    PUBMED_ARTICLE_TITLES = pickle.load(f)\n",
    "\n",
    "with open('./pubmed_tfidf.pkl', 'rb') as f:\n",
    "    pubmed_tfidf = pickle.load(f)\n",
    "pubmed_tfidf = pubmed_tfidf.T"
   ]
  },
  {
   "cell_type": "markdown",
   "metadata": {},
   "source": [
    "# Make TFIDF"
   ]
  },
  {
   "cell_type": "code",
   "execution_count": 1,
   "metadata": {
    "collapsed": true
   },
   "outputs": [
    {
     "name": "stdout",
     "output_type": "stream",
     "text": [
      "done with:  Arch_Dis_Child_2007_Apr_11_92(4)_298-303.txt\n",
      "done with:  Arch_Dis_Child_2008_Aug_18_93(8)_654-659.txt\n",
      "done with:  Arch_Dis_Child_2008_Jul_1_93(7)_566-569.txt\n",
      "done with:  Arch_Dis_Child_2008_Jul_1_93(7)_620-625.txt\n",
      "done with:  Arch_Dis_Child_2008_May_17_93(5)_373-378.txt\n",
      "done with:  Arch_Dis_Child_2008_Oct_2_93(10)_845-850.txt\n",
      "done with:  Arch_Dis_Child_2008_Oct_30_93(10)_890-898.txt\n",
      "done with:  Arch_Dis_Child_2009_Feb_14_94(2)_110-116.txt\n",
      "done with:  Arch_Dis_Child_2009_Feb_19_94(2)_156-160.txt\n",
      "done with:  Arch_Dis_Child_2009_Jan_25_94(1)_11-15.txt\n",
      "done with:  Arch_Dis_Child_2009_Jan_9_94(1)_42-46.txt\n",
      "done with:  Arch_Dis_Child_2009_Nov_3_94(11)_831-833.txt\n",
      "done with:  Arch_Dis_Child_2009_Oct_29_95(6)_414-421.txt\n",
      "done with:  Arch_Dis_Child_2010_Aug_12_96(1)_30-37.txt\n",
      "done with:  Arch_Dis_Child_2010_Jun_95(6)_432-436.txt\n",
      "done with:  Arch_Dis_Child_2010_Sep_22_96(4)_328-329.txt\n",
      "done with:  Arch_Dis_Child_2011_Dec_1_96(12)_1201-1203.txt\n",
      "done with:  Arch_Dis_Child_2011_Feb_2_96(11)_1008-1013.txt\n",
      "done with:  Arch_Dis_Child_2011_Jan_10_96(11)_1052-1059.txt\n",
      "done with:  Arch_Dis_Child_2011_Jan_12_96(4)_368-373.txt\n",
      "done with:  Arch_Dis_Child_2011_Jan_24_96(4)_354-360.txt\n",
      "done with:  Arch_Dis_Child_2011_Jan_24_96(4)_361-367.txt\n",
      "done with:  Arch_Dis_Child_2011_Jan_30_96(5)_422-425.txt\n",
      "done with:  Arch_Dis_Child_2011_Jul_19_96(10)_960-962.txt\n",
      "done with:  Arch_Dis_Child_2011_Jul_23_96(9)_874-880.txt\n",
      "done with:  Arch_Dis_Child_2011_Jun_14_96(9)_817-822.txt\n",
      "done with:  Arch_Dis_Child_2011_Jun_17_97(2)_162-165.txt\n",
      "done with:  Arch_Dis_Child_2011_Jun_96(6)_e1.txt\n",
      "done with:  Arch_Dis_Child_2011_Mar_30_96(6)_541-547.txt\n",
      "done with:  Arch_Dis_Child_2011_Mar_3_96(6)_519-525.txt\n",
      "done with:  Arch_Dis_Child_2011_Mar_9_97(1)_59-62.txt\n",
      "done with:  Arch_Dis_Child_2011_Sep_1_96(9)_872-873.txt\n",
      "done with:  Arch_Dis_Child_2012_Aug_13_97(8)_685-691.txt\n",
      "done with:  Arch_Dis_Child_2012_Dec_29_97(12)_1011-1012.txt\n",
      "done with:  Arch_Dis_Child_2012_Dec_29_97(12)_1019-1026.txt\n",
      "done with:  Arch_Dis_Child_2012_Feb_10_97(4)_343-349.txt\n",
      "done with:  Arch_Dis_Child_2012_Mar_14_97(6)_529-532.txt\n",
      "done with:  Arch_Dis_Child_2012_Mar_7_97(3)_260-265.txt\n",
      "done with:  Arch_Dis_Child_2012_Nov_15_97(11)_993-998.txt\n",
      "done with:  Arch_Dis_Child_2013_Apr_16_98(4)_274-279.txt\n",
      "done with:  Arch_Dis_Child_2013_Aug_12_98(8)_629-634.txt\n",
      "done with:  Arch_Dis_Child_2013_Aug_23_98(8)_587-591.txt\n",
      "done with:  Arch_Dis_Child_2013_Aug_7_98(8)_574-575.txt\n",
      "done with:  Arch_Dis_Child_2013_Dec_22_98(12)_970-974.txt\n",
      "done with:  Arch_Dis_Child_2013_Feb_98(2)_107-111.txt\n",
      "done with:  Arch_Dis_Child_2013_Jul_9_98(7)_556-557.txt\n",
      "done with:  Arch_Dis_Child_2013_Jun_20_98(6)_434-440.txt\n",
      "done with:  Arch_Dis_Child_2013_Jun_26_98(6)_454-461.txt\n",
      "done with:  Arch_Dis_Child_2013_Jun_9_98(6)_429-433.txt\n",
      "done with:  Arch_Dis_Child_2013_Mar_21_98(3)_218-221.txt\n",
      "done with:  Arch_Dis_Child_2013_May_25_98(5)_341-348.txt\n",
      "done with:  Arch_Dis_Child_2013_May_7_98(5)_356-362.txt\n",
      "done with:  Arch_Dis_Child_2013_Nov_22_99(3)_301.txt\n",
      "done with:  Arch_Dis_Child_2013_Nov_30_98(11)_908-914.txt\n",
      "done with:  Arch_Dis_Child_2013_Oct_30_98(10)_777-780.txt\n",
      "done with:  Arch_Dis_Child_2013_Sep_13_98(9)_720.txt\n",
      "done with:  Arch_Dis_Child_2013_Sep_13_98(9)_725-731.txt\n",
      "done with:  Arch_Dis_Child_2013_Sep_25_98(9)_666-671.txt\n",
      "done with:  Arch_Dis_Child_2013_Sep_98(9)_656-659.txt\n",
      "done with:  Arch_Dis_Child_2014_Apr_18_99(4)_342-347.txt\n",
      "done with:  Arch_Dis_Child_2014_Aug_2_99(8)_763-766.txt\n",
      "done with:  Arch_Dis_Child_2014_Dec_27_99(12)_1163-1168.txt\n",
      "done with:  Arch_Dis_Child_2014_Dec_3_99(12)_1074-1077.txt\n",
      "done with:  Arch_Dis_Child_2014_Dec_4_99(12)_1070-1073.txt\n",
      "done with:  Arch_Dis_Child_2014_Dec_8_99(12)_1103-1108.txt\n",
      "done with:  Arch_Dis_Child_2014_Dec_8_99(12)_1143-1146.txt\n",
      "done with:  Arch_Dis_Child_2014_Feb_16_99(2)_108-113.txt\n",
      "done with:  Arch_Dis_Child_2014_Feb_23_99(2)_114-118.txt\n",
      "done with:  Arch_Dis_Child_2014_Feb_23_99(2)_142-146.txt\n",
      "done with:  Arch_Dis_Child_2014_Jan_13_99(1)_10-14.txt\n",
      "done with:  Arch_Dis_Child_2014_Jan_16_99(1)_30-34.txt\n",
      "done with:  Arch_Dis_Child_2014_Jan_25_99(1)_74-83.txt\n",
      "done with:  Arch_Dis_Child_2014_Jul_15_99(7)_607-608.txt\n",
      "done with:  Arch_Dis_Child_2014_Jul_17_99(7)_674-678.txt\n",
      "done with:  Arch_Dis_Child_2014_Jul_19_99(7)_605-606.txt\n",
      "done with:  Arch_Dis_Child_2014_Jul_4_99(7)_635-640.txt\n",
      "done with:  Arch_Dis_Child_2014_Jun_14_99(6)_516-521.txt\n",
      "done with:  Arch_Dis_Child_2014_Jun_9_99(6)_546-551.txt\n",
      "done with:  Arch_Dis_Child_2014_Mar_11_99(3)_225-231.txt\n",
      "done with:  Arch_Dis_Child_2014_May_16_99(5)_448-451.txt\n",
      "done with:  Arch_Dis_Child_2014_May_30_99(5)_452-456.txt\n",
      "done with:  Arch_Dis_Child_2014_May_9_99(5)_413-419.txt\n",
      "done with:  Arch_Dis_Child_2014_Nov_11_99(11)_993-997.txt\n",
      "done with:  Arch_Dis_Child_2014_Nov_19_99(11)_1014-1019.txt\n",
      "done with:  Arch_Dis_Child_2014_Nov_19_99(11)_1020-1024.txt\n",
      "done with:  Arch_Dis_Child_2014_Nov_8_99(11)_969-970.txt\n",
      "done with:  Arch_Dis_Child_2014_Oct_9_99(10)_933-936.txt\n",
      "done with:  Arch_Dis_Child_2014_Sep_19_99(9)_807-811.txt\n",
      "done with:  Arch_Dis_Child_2014_Sep_1_99(9)_830-833.txt\n",
      "done with:  Arch_Dis_Child_2014_Sep_20_99(9)_812-816.txt\n",
      "done with:  Arch_Dis_Child_2014_Sep_25_99(9)_850-856.txt\n",
      "done with:  Arch_Dis_Child_2015_Aug_17_100(8)_733-737.txt\n",
      "done with:  Arch_Dis_Child_2015_Aug_25_100(8)_774-778.txt\n",
      "done with:  Arch_Dis_Child_2015_Aug_4_100(8)_769-773.txt\n",
      "done with:  Arch_Dis_Child_2015_Dec_25_100(12)_1106-1114.txt\n",
      "done with:  Arch_Dis_Child_2015_Dec_30_100(12)_1123-1130.txt\n",
      "done with:  Arch_Dis_Child_2015_Dec_9_100(12)_1141-1147.txt\n",
      "done with:  Arch_Dis_Child_2015_Feb_100(Suppl_1)_S43-S47.txt\n",
      "done with:  Arch_Dis_Child_2015_Feb_100(Suppl_1)_S57-S58.txt\n",
      "done with:  Arch_Dis_Child_2015_Feb_100(Suppl_1)_S70-S71.txt\n",
      "done with:  Arch_Dis_Child_2015_Feb_19_100(2)_138-143.txt\n",
      "done with:  Arch_Dis_Child_2015_Feb_22_100(2)_165-173.txt\n",
      "done with:  Arch_Dis_Child_2015_Jan_100(1)_73-74.txt\n",
      "done with:  Arch_Dis_Child_2015_Jan_19_100(1)_42-47.txt\n",
      "done with:  Arch_Dis_Child_2015_Jan_19_100(1)_48-53.txt\n",
      "done with:  Arch_Dis_Child_2015_Jan_25_100(1)_18-23.txt\n",
      "done with:  Arch_Dis_Child_2015_Jan_27_100(1)_38-41.txt\n",
      "done with:  Arch_Dis_Child_2015_Jan_29_100(1)_24-29.txt\n",
      "done with:  Arch_Dis_Child_2015_Jan_3_100(1)_95-100.txt\n",
      "done with:  Arch_Dis_Child_2015_Jan_8_100(1)_62-67.txt\n",
      "done with:  Arch_Dis_Child_2015_Jul_15_100(7)_608-609.txt\n",
      "done with:  Arch_Dis_Child_2015_Jul_20_100(7)_689-693.txt\n",
      "done with:  Arch_Dis_Child_2015_Jun_16_100(6)_517-520.txt\n",
      "done with:  Arch_Dis_Child_2015_Jun_16_100(6)_559-564.txt\n",
      "done with:  Arch_Dis_Child_2015_Jun_2_100(6)_576-582.txt\n",
      "done with:  Arch_Dis_Child_2015_Jun_30_100(6)_521-526.txt\n",
      "done with:  Arch_Dis_Child_2015_Jun_30_100(6)_527-531.txt\n",
      "done with:  Arch_Dis_Child_2015_Mar_29_100(3)_214-219.txt\n",
      "done with:  Arch_Dis_Child_2015_May_10_100(5)_454-459.txt\n",
      "done with:  Arch_Dis_Child_2015_May_14_100(5)_426-431.txt\n",
      "done with:  Arch_Dis_Child_2015_May_14_100(5)_432-437.txt\n",
      "done with:  Arch_Dis_Child_2015_May_14_100(5)_495-499.txt\n",
      "done with:  Arch_Dis_Child_2015_May_20_100(5)_441-448.txt\n",
      "done with:  Arch_Dis_Child_2015_May_22_100(5)_466-473.txt\n",
      "done with:  Arch_Dis_Child_2015_May_30_100(5)_482-488.txt\n",
      "done with:  Arch_Dis_Child_2015_May_4_100(5)_438-440.txt\n",
      "done with:  Arch_Dis_Child_2015_Nov_21_100(11)_1032-1037.txt\n",
      "done with:  Arch_Dis_Child_2015_Nov_9_101(1)_23-27.txt\n",
      "done with:  Arch_Dis_Child_2015_Oct_13_100(10)_928-931.txt\n",
      "done with:  Arch_Dis_Child_2015_Sep_10_100(9)_879-885.txt\n",
      "done with:  Arch_Dis_Child_2015_Sep_19_100(9)_826-833.txt\n",
      "done with:  Arch_Dis_Child_2015_Sep_19_100(9)_838-844.txt\n",
      "done with:  Arch_Dis_Child_2016_Feb_13_101(2)_147-151.txt\n",
      "done with:  Arch_Dis_Child_2016_Feb_29_101(2)_152-160.txt\n",
      "done with:  Arch_Dis_Child_2016_Feb_4_101(2)_140-146.txt\n",
      "done with:  Arch_Dis_Child_2016_Jan_101(1)_91-95.txt\n",
      "done with:  Arch_Dis_Child_2016_Jan_15_101(1)_42-50.txt\n",
      "done with:  Arch_Dis_Child_2016_Jan_26_101(1)_9-15.txt\n",
      "done with:  Arch_Dis_Child_2016_Jan_30_101(1)_16-22.txt\n"
     ]
    }
   ],
   "source": [
    "import os\n",
    "import pickle\n",
    "from sklearn.feature_extraction.text import TfidfVectorizer, CountVectorizer\n",
    "from gensim import corpora, models, similarities, matutils\n",
    "\n",
    "DATA_PATH = ('./pmc_data/pmc_text_files/')\n",
    "GENRE_FOLDERS = os.listdir(DATA_PATH)\n",
    "ARTICLE_FILE_PATHS = []\n",
    "ARTICLE_FILE_TITLES = []\n",
    "ARTICLE_DOCUMENT_LIST = []\n",
    "\n",
    "\n",
    "def load_articles():\n",
    "    for genre_folder in GENRE_FOLDERS:\n",
    "        genre_folder_path = os.path.join(DATA_PATH, genre_folder)\n",
    "        genre_file_list = os.listdir(genre_folder_path)\n",
    "        for article_file_title in genre_file_list:\n",
    "            ARTICLE_FILE_TITLES.append(article_file_title)\n",
    "            article_file_path = os.path.join(genre_folder_path, article_file_title)\n",
    "            ARTICLE_FILE_PATHS.append(article_file_path)\n",
    "            with open(article_file_path, 'rb') as f:\n",
    "                document = f.read()\n",
    "                ARTICLE_DOCUMENT_LIST.append(document)\n",
    "\n",
    "            print \"done with: \", article_file_title\n",
    "\n",
    "\n",
    "            \n",
    "            \n",
    "load_articles()\n",
    "\n",
    "\n"
   ]
  },
  {
   "cell_type": "markdown",
   "metadata": {},
   "source": [
    "## Make corpus!"
   ]
  },
  {
   "cell_type": "markdown",
   "metadata": {},
   "source": [
    "##### CountVectorize"
   ]
  },
  {
   "cell_type": "code",
   "execution_count": 13,
   "metadata": {
    "collapsed": true
   },
   "outputs": [],
   "source": [
    "count_vectorizer = CountVectorizer(stop_words='english')\n",
    "count_vectorizer.fit(ARTICLE_DOCUMENT_LIST)\n",
    "pubmed_vecs = count_vectorizer.transform(ARTICLE_DOCUMENT_LIST).transpose()\n",
    "id2word = dict((v, k) for k, v in count_vectorizer.vocabulary_.iteritems())\n",
    "pubmed_corpus = matutils.Sparse2Corpus(pubmed_vecs)"
   ]
  },
  {
   "cell_type": "markdown",
   "metadata": {},
   "source": [
    "##### TFIDF"
   ]
  },
  {
   "cell_type": "code",
   "execution_count": 14,
   "metadata": {
    "collapsed": true
   },
   "outputs": [],
   "source": [
    "pubmed_tfidf = models.TfidfModel(pubmed_corpus)"
   ]
  },
  {
   "cell_type": "code",
   "execution_count": 15,
   "metadata": {
    "collapsed": true
   },
   "outputs": [],
   "source": [
    "pubmed_tfidf_corpus = pubmed_tfidf[pubmed_corpus]"
   ]
  },
  {
   "cell_type": "markdown",
   "metadata": {},
   "source": [
    "##### SVD"
   ]
  },
  {
   "cell_type": "code",
   "execution_count": 28,
   "metadata": {
    "collapsed": false
   },
   "outputs": [],
   "source": [
    "lsi = models.LsiModel(pubmed_corpus, id2word=id2word, num_topics=25)"
   ]
  },
  {
   "cell_type": "code",
   "execution_count": 29,
   "metadata": {
    "collapsed": false
   },
   "outputs": [],
   "source": [
    "pubmed_lsi_corpus = lsi[pubmed_tfidf_corpus]"
   ]
  },
  {
   "cell_type": "markdown",
   "metadata": {},
   "source": [
    "##### Concept similarity between 1st and the rest of documents"
   ]
  },
  {
   "cell_type": "code",
   "execution_count": 40,
   "metadata": {
    "collapsed": true
   },
   "outputs": [],
   "source": [
    "pubmed_doc_vecs = [doc for doc in pubmed_lsi_corpus]\n",
    "index = similarities.MatrixSimilarity(pubmed_doc_vecs)\n",
    "sims = sorted(enumerate(index[pubmed_doc_vecs[0]]), key=lambda item: -item[1])\n",
    "sims"
   ]
  },
  {
   "cell_type": "markdown",
   "metadata": {},
   "source": [
    "## Fold in a new document"
   ]
  },
  {
   "cell_type": "markdown",
   "metadata": {},
   "source": [
    "##### Count vectorize the document"
   ]
  },
  {
   "cell_type": "code",
   "execution_count": 34,
   "metadata": {
    "collapsed": false
   },
   "outputs": [],
   "source": [
    "article = [\"If a patient is ill and takes drugs for that illness, these drugs often lead to further illnesses and complications. This affects millions of people throughout the world. An international research team from Bielefeld University, universities in Novosibirsk (Russia) and Tomsk (Russia), and from the National Academy of Sciences of Ukraine in Kiev are studying how to prevent this problem. Starting in May, the Volkswagen Foundation will be funding this cooperation with about 235,000 Euro for the next two years. The project will be coordinated at Bielefeld University by Professor Dr. Ralf from the Faculty of Technology.\"]\n",
    "# article = sent_tokenize(article)\n",
    "# count_vectorizer.fit(article)\n",
    "article_vecs = count_vectorizer.transform(article).transpose()\n",
    "article_vecs_sparse = matutils.Sparse2Corpus(article_vecs)\n",
    "# article_vecs.shape"
   ]
  },
  {
   "cell_type": "code",
   "execution_count": 35,
   "metadata": {
    "collapsed": true
   },
   "outputs": [
    {
     "data": {
      "text/plain": [
       "(34714, 1)"
      ]
     },
     "execution_count": 35,
     "metadata": {},
     "output_type": "execute_result"
    }
   ],
   "source": [
    "article_vecs.shape"
   ]
  },
  {
   "cell_type": "markdown",
   "metadata": {},
   "source": [
    "##### TFIDF"
   ]
  },
  {
   "cell_type": "code",
   "execution_count": 36,
   "metadata": {
    "collapsed": true
   },
   "outputs": [],
   "source": [
    "article_tfidf = pubmed_tfidf[article_vecs_sparse]"
   ]
  },
  {
   "cell_type": "code",
   "execution_count": null,
   "metadata": {
    "collapsed": false
   },
   "outputs": [],
   "source": []
  },
  {
   "cell_type": "markdown",
   "metadata": {},
   "source": [
    "##### SVD"
   ]
  },
  {
   "cell_type": "markdown",
   "metadata": {},
   "source": [
    "how's this shape compare to our pubmed_lsi_corpus space? "
   ]
  },
  {
   "cell_type": "code",
   "execution_count": 42,
   "metadata": {
    "collapsed": false
   },
   "outputs": [],
   "source": [
    "article_lsi = lsi[article_tfidf]"
   ]
  },
  {
   "cell_type": "code",
   "execution_count": 43,
   "metadata": {
    "collapsed": false
   },
   "outputs": [],
   "source": [
    "article_doc_vecs = [doc for doc in article_lsi]"
   ]
  },
  {
   "cell_type": "markdown",
   "metadata": {},
   "source": [
    "##### Concept Similarity Between Documents"
   ]
  },
  {
   "cell_type": "code",
   "execution_count": null,
   "metadata": {
    "collapsed": true
   },
   "outputs": [],
   "source": [
    "index = similarities.MatrixSimilarity(pubmed_doc_vecs)\n",
    "sims = sorted(enumerate(index[pubmed_doc_vecs[0]]), key=lambda item: -item[1])\n",
    "sims"
   ]
  },
  {
   "cell_type": "code",
   "execution_count": null,
   "metadata": {
    "collapsed": false
   },
   "outputs": [],
   "source": []
  },
  {
   "cell_type": "code",
   "execution_count": null,
   "metadata": {
    "collapsed": true
   },
   "outputs": [],
   "source": []
  },
  {
   "cell_type": "code",
   "execution_count": null,
   "metadata": {
    "collapsed": true
   },
   "outputs": [],
   "source": []
  },
  {
   "cell_type": "code",
   "execution_count": null,
   "metadata": {
    "collapsed": true
   },
   "outputs": [],
   "source": []
  },
  {
   "cell_type": "code",
   "execution_count": null,
   "metadata": {
    "collapsed": true
   },
   "outputs": [],
   "source": []
  },
  {
   "cell_type": "code",
   "execution_count": null,
   "metadata": {
    "collapsed": true
   },
   "outputs": [],
   "source": []
  },
  {
   "cell_type": "code",
   "execution_count": null,
   "metadata": {
    "collapsed": true
   },
   "outputs": [],
   "source": []
  },
  {
   "cell_type": "markdown",
   "metadata": {},
   "source": [
    "# Get into Gensim "
   ]
  },
  {
   "cell_type": "markdown",
   "metadata": {},
   "source": [
    "##### Check Similarity"
   ]
  },
  {
   "cell_type": "code",
   "execution_count": null,
   "metadata": {
    "collapsed": true
   },
   "outputs": [],
   "source": [
    "index = similarities.MatrixSimilarity(pm_doc_vecs)"
   ]
  },
  {
   "cell_type": "code",
   "execution_count": null,
   "metadata": {
    "collapsed": false
   },
   "outputs": [],
   "source": [
    "sims = sorted(enumerate(index[pm_doc_vecs[0]]), key=lambda item: -item[1])"
   ]
  },
  {
   "cell_type": "code",
   "execution_count": null,
   "metadata": {
    "collapsed": false
   },
   "outputs": [],
   "source": [
    "len(pm_doc_vecs)"
   ]
  },
  {
   "cell_type": "code",
   "execution_count": null,
   "metadata": {
    "collapsed": false
   },
   "outputs": [],
   "source": [
    "sims"
   ]
  },
  {
   "cell_type": "markdown",
   "metadata": {
    "collapsed": true
   },
   "source": [
    "# Ok let's fold in a new article"
   ]
  },
  {
   "cell_type": "markdown",
   "metadata": {},
   "source": [
    "document from the internet"
   ]
  },
  {
   "cell_type": "code",
   "execution_count": null,
   "metadata": {
    "collapsed": false
   },
   "outputs": [],
   "source": [
    "article = \"If a patient is ill and takes drugs for that illness, these drugs often lead to further illnesses and complications. This affects millions of people throughout the world. An international research team from Bielefeld University, universities in Novosibirsk (Russia) and Tomsk (Russia), and from the National Academy of Sciences of Ukraine in Kiev are studying how to prevent this problem. Starting in May, the Volkswagen Foundation will be funding this cooperation with about 235,000 Euro for the next two years. The project will be coordinated at Bielefeld University by Professor Dr. Ralf from the Faculty of Technology.\"\n",
    "article = unicode(article)\n",
    "article = word_tokenize(article)"
   ]
  },
  {
   "cell_type": "code",
   "execution_count": null,
   "metadata": {
    "collapsed": true
   },
   "outputs": [],
   "source": [
    "count_vectorizer = CountVectorizer(stop_words=STOP_WORDS)"
   ]
  },
  {
   "cell_type": "code",
   "execution_count": null,
   "metadata": {
    "collapsed": false
   },
   "outputs": [],
   "source": [
    "article_tfd = count_vectorizer.fit(article)"
   ]
  },
  {
   "cell_type": "code",
   "execution_count": null,
   "metadata": {
    "collapsed": false
   },
   "outputs": [],
   "source": []
  },
  {
   "cell_type": "code",
   "execution_count": null,
   "metadata": {
    "collapsed": false
   },
   "outputs": [],
   "source": [
    "article_tfidf.shape"
   ]
  },
  {
   "cell_type": "code",
   "execution_count": null,
   "metadata": {
    "collapsed": false
   },
   "outputs": [],
   "source": [
    "pubmed_tfidf.shape"
   ]
  },
  {
   "cell_type": "code",
   "execution_count": null,
   "metadata": {
    "collapsed": false
   },
   "outputs": [],
   "source": [
    "article_tfidf.toarray().shape"
   ]
  },
  {
   "cell_type": "code",
   "execution_count": null,
   "metadata": {
    "collapsed": false
   },
   "outputs": [],
   "source": [
    "len(article)"
   ]
  },
  {
   "cell_type": "code",
   "execution_count": null,
   "metadata": {
    "collapsed": true
   },
   "outputs": [],
   "source": []
  },
  {
   "cell_type": "code",
   "execution_count": null,
   "metadata": {
    "collapsed": true
   },
   "outputs": [],
   "source": []
  },
  {
   "cell_type": "code",
   "execution_count": null,
   "metadata": {
    "collapsed": true
   },
   "outputs": [],
   "source": []
  },
  {
   "cell_type": "code",
   "execution_count": null,
   "metadata": {
    "collapsed": true
   },
   "outputs": [],
   "source": []
  },
  {
   "cell_type": "code",
   "execution_count": null,
   "metadata": {
    "collapsed": false
   },
   "outputs": [],
   "source": []
  },
  {
   "cell_type": "code",
   "execution_count": null,
   "metadata": {
    "collapsed": true
   },
   "outputs": [],
   "source": []
  },
  {
   "cell_type": "code",
   "execution_count": null,
   "metadata": {
    "collapsed": true
   },
   "outputs": [],
   "source": []
  },
  {
   "cell_type": "code",
   "execution_count": null,
   "metadata": {
    "collapsed": true
   },
   "outputs": [],
   "source": []
  },
  {
   "cell_type": "code",
   "execution_count": null,
   "metadata": {
    "collapsed": true
   },
   "outputs": [],
   "source": []
  },
  {
   "cell_type": "code",
   "execution_count": null,
   "metadata": {
    "collapsed": true
   },
   "outputs": [],
   "source": []
  },
  {
   "cell_type": "code",
   "execution_count": null,
   "metadata": {
    "collapsed": true
   },
   "outputs": [],
   "source": []
  },
  {
   "cell_type": "code",
   "execution_count": null,
   "metadata": {
    "collapsed": true
   },
   "outputs": [],
   "source": []
  },
  {
   "cell_type": "code",
   "execution_count": null,
   "metadata": {
    "collapsed": true
   },
   "outputs": [],
   "source": []
  },
  {
   "cell_type": "code",
   "execution_count": null,
   "metadata": {
    "collapsed": true
   },
   "outputs": [],
   "source": []
  },
  {
   "cell_type": "code",
   "execution_count": null,
   "metadata": {
    "collapsed": true
   },
   "outputs": [],
   "source": []
  },
  {
   "cell_type": "code",
   "execution_count": null,
   "metadata": {
    "collapsed": true
   },
   "outputs": [],
   "source": []
  },
  {
   "cell_type": "code",
   "execution_count": null,
   "metadata": {
    "collapsed": true
   },
   "outputs": [],
   "source": []
  },
  {
   "cell_type": "code",
   "execution_count": null,
   "metadata": {
    "collapsed": true
   },
   "outputs": [],
   "source": []
  },
  {
   "cell_type": "code",
   "execution_count": null,
   "metadata": {
    "collapsed": true
   },
   "outputs": [],
   "source": []
  },
  {
   "cell_type": "code",
   "execution_count": null,
   "metadata": {
    "collapsed": true
   },
   "outputs": [],
   "source": []
  },
  {
   "cell_type": "code",
   "execution_count": null,
   "metadata": {
    "collapsed": true
   },
   "outputs": [],
   "source": []
  },
  {
   "cell_type": "code",
   "execution_count": null,
   "metadata": {
    "collapsed": true
   },
   "outputs": [],
   "source": []
  },
  {
   "cell_type": "code",
   "execution_count": null,
   "metadata": {
    "collapsed": true
   },
   "outputs": [],
   "source": []
  }
 ],
 "metadata": {
  "kernelspec": {
   "display_name": "Python 2",
   "language": "python",
   "name": "python2"
  },
  "language_info": {
   "codemirror_mode": {
    "name": "ipython",
    "version": 2
   },
   "file_extension": ".py",
   "mimetype": "text/x-python",
   "name": "python",
   "nbconvert_exporter": "python",
   "pygments_lexer": "ipython2",
   "version": "2.7.11"
  }
 },
 "nbformat": 4,
 "nbformat_minor": 0
}
